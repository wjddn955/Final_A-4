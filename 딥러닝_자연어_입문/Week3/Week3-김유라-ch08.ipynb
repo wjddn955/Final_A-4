{
 "cells": [
  {
   "cell_type": "markdown",
   "metadata": {},
   "source": [
    "# 08. 순환 신경망(Recurrent Neural Network)\n",
    "- 다양한 길이의 입력 시퀀스를 처리할 수 있는 인공 신경망이 필요하게 되었는데, 자연어 처리에 대표적으로 사용되는 인공 신경망이 바로 순환 신경망(Recurrent Neural Network, RNN)\n",
    "- 바닐라 RNN, 이를 개선한 LSTM, GRU 등"
   ]
  },
  {
   "cell_type": "markdown",
   "metadata": {},
   "source": [
    "## 08-01 순환 신경망(Recurrent Neural Network, RNN)"
   ]
  },
  {
   "cell_type": "markdown",
   "metadata": {},
   "source": [
    "### 1. 순환 신경망(Recurrent Neural Network, RNN)"
   ]
  },
  {
   "attachments": {},
   "cell_type": "markdown",
   "metadata": {},
   "source": [
    "### 2. 케라스(Keras)로 RNN 구현하기\n",
    "\n",
    "- 케라스로 RNN 층을 추가하는 코드\n",
    "```python\n",
    "from tensorflow.keras.layers import SimpleRNN\n",
    "model.add(SimpleRNN(hidden_units))\n",
    "# 추가 인자를 사용할 때\n",
    "model.add(SimpleRNN(hidden_units, input_shape=(timesteps, input_dim)))\n",
    "# 다른 표기\n",
    "model.add(SimpleRNN(hidden_units, input_length=M, input_dim=N))\n",
    "# hidden_units = 은닉 상태의 크기 정의\n",
    "# timesteps = 입력 시퀀스의 길이\n",
    "# input_dim = 입력의 크기\n",
    "\n",
    "```\n",
    "\n",
    "- 전결합층(Fully-connected layer)을 출력층으로 사용하였을 경우의 인공 신경망 그림과 은닉층까지만 표현한 그림의 차이\n",
    "    ![img](https://wikidocs.net/images/page/22886/rnn_image7_ver2.PNG)\n",
    "    - RNN 층은 사용자의 설정에 따라 두 가지 종류의 출력을 내보냄\n",
    "    - 메모리 셀의 최종 시점의 은닉 상태만을 리턴하고자 한다면 (batch_size, output_dim) 크기의 2D 텐서를 리턴\n",
    "    - 메모리 셀의 각 시점(time step)의 은닉 상태값들을 모아서 전체 시퀀스를 리턴하고자 한다면 (batch_size, timesteps, output_dim) 크기의 3D 텐서를 리턴\n",
    "\n",
    "- time step=3 일때, return sequence를 true로 설정했을때와 아닐때\n",
    "    ![img](https://wikidocs.net/images/page/22886/rnn_image8_ver2.PNG)\n",
    "    - 마지막 은닉 상태만 전달하도록 하면 다 대 일(many-to-one) 문제\n",
    "    - 모든 시점의 은닉 상태를 전달하도록 하면, 다음층에 RNN 은닉층이 하나 더 있는 경우이거나 다 대 다(many-to-many) 문제\n"
   ]
  },
  {
   "cell_type": "code",
   "execution_count": 57,
   "metadata": {},
   "outputs": [
    {
     "name": "stdout",
     "output_type": "stream",
     "text": [
      "Model: \"sequential_8\"\n",
      "_________________________________________________________________\n",
      " Layer (type)                Output Shape              Param #   \n",
      "=================================================================\n",
      " simple_rnn_4 (SimpleRNN)    (None, 3)                 42        \n",
      "                                                                 \n",
      "=================================================================\n",
      "Total params: 42\n",
      "Trainable params: 42\n",
      "Non-trainable params: 0\n",
      "_________________________________________________________________\n"
     ]
    }
   ],
   "source": [
    "from tensorflow.keras.models import Sequential\n",
    "from tensorflow.keras.layers import SimpleRNN\n",
    "\n",
    "model = Sequential()\n",
    "model.add(SimpleRNN(3, input_shape=(2,10)))\n",
    "# model.add(SimpleRNN(3, input_length=2, input_dim=10))와 동일함.\n",
    "model.summary()"
   ]
  },
  {
   "cell_type": "code",
   "execution_count": 58,
   "metadata": {},
   "outputs": [
    {
     "name": "stdout",
     "output_type": "stream",
     "text": [
      "Model: \"sequential_9\"\n",
      "_________________________________________________________________\n",
      " Layer (type)                Output Shape              Param #   \n",
      "=================================================================\n",
      " simple_rnn_5 (SimpleRNN)    (8, 3)                    42        \n",
      "                                                                 \n",
      "=================================================================\n",
      "Total params: 42\n",
      "Trainable params: 42\n",
      "Non-trainable params: 0\n",
      "_________________________________________________________________\n"
     ]
    }
   ],
   "source": [
    "model = Sequential()\n",
    "model.add(SimpleRNN(3, batch_input_shape=(8,2,10)))\n",
    "model.summary()"
   ]
  },
  {
   "cell_type": "code",
   "execution_count": 59,
   "metadata": {},
   "outputs": [
    {
     "name": "stdout",
     "output_type": "stream",
     "text": [
      "Model: \"sequential_10\"\n",
      "_________________________________________________________________\n",
      " Layer (type)                Output Shape              Param #   \n",
      "=================================================================\n",
      " simple_rnn_6 (SimpleRNN)    (8, 2, 3)                 42        \n",
      "                                                                 \n",
      "=================================================================\n",
      "Total params: 42\n",
      "Trainable params: 42\n",
      "Non-trainable params: 0\n",
      "_________________________________________________________________\n"
     ]
    }
   ],
   "source": [
    "model = Sequential()\n",
    "model.add(SimpleRNN(3, batch_input_shape=(8,2,10), return_sequences=True))\n",
    "model.summary()"
   ]
  },
  {
   "cell_type": "markdown",
   "metadata": {},
   "source": [
    "### 3. 파이썬으로 RNN 구현하기\n",
    "\n",
    "- 은닉상태 계산식: $h_{t} = tanh(W_{x}X_{t} + W_{h}h_{t−1} + b)$\n",
    "\n",
    "```\n",
    "# 아래의 코드는 가상의 코드(pseudocode)로 실제 동작하는 코드가 아님. \n",
    "\n",
    "hidden_state_t = 0 # 초기 은닉 상태를 0(벡터)로 초기화\n",
    "for input_t in input_length: # 각 시점마다 입력을 받는다.\n",
    "    output_t = tanh(input_t, hidden_state_t) # 각 시점에 대해서 입력과 은닉 상태를 가지고 연산\n",
    "    hidden_state_t = output_t # 계산 결과는 현재 시점의 은닉 상태가 된다.\n",
    "```"
   ]
  },
  {
   "cell_type": "code",
   "execution_count": 60,
   "metadata": {},
   "outputs": [
    {
     "name": "stdout",
     "output_type": "stream",
     "text": [
      "초기 은닉 상태 : [0. 0. 0. 0. 0. 0. 0. 0.]\n"
     ]
    }
   ],
   "source": [
    "import numpy as np\n",
    "\n",
    "timesteps = 10\n",
    "input_dim = 4\n",
    "hidden_units = 8\n",
    "\n",
    "# 입력에 해당되는 2D 텐서\n",
    "inputs = np.random.random((timesteps, input_dim))\n",
    "\n",
    "# 초기 은닉 상태는 0(벡터)로 초기화\n",
    "hidden_state_t = np.zeros((hidden_units,)) \n",
    "\n",
    "print('초기 은닉 상태 :',hidden_state_t)"
   ]
  },
  {
   "cell_type": "code",
   "execution_count": 61,
   "metadata": {},
   "outputs": [
    {
     "name": "stdout",
     "output_type": "stream",
     "text": [
      "가중치 Wx의 크기(shape) : (8, 4)\n",
      "가중치 Wh의 크기(shape) : (8, 8)\n",
      "편향의 크기(shape) : (8,)\n"
     ]
    }
   ],
   "source": [
    "Wx = np.random.random((hidden_units, input_dim))  # (8, 4)크기의 2D 텐서 생성. 입력에 대한 가중치.\n",
    "Wh = np.random.random((hidden_units, hidden_units)) # (8, 8)크기의 2D 텐서 생성. 은닉 상태에 대한 가중치.\n",
    "b = np.random.random((hidden_units,)) # (8,)크기의 1D 텐서 생성. 이 값은 편향(bias).\n",
    "\n",
    "print('가중치 Wx의 크기(shape) :',np.shape(Wx))\n",
    "print('가중치 Wh의 크기(shape) :',np.shape(Wh))\n",
    "print('편향의 크기(shape) :',np.shape(b))"
   ]
  },
  {
   "cell_type": "code",
   "execution_count": 62,
   "metadata": {},
   "outputs": [
    {
     "name": "stdout",
     "output_type": "stream",
     "text": [
      "모든 시점의 은닉 상태 :\n",
      "[[0.95723376 0.97083176 0.96339037 0.97578651 0.97611529 0.97986073\n",
      "  0.97935171 0.98897943]\n",
      " [0.99980673 0.99999319 0.99996078 0.99939939 0.99915935 0.99996008\n",
      "  0.99888921 0.99974277]\n",
      " [0.99995143 0.99999938 0.99999581 0.99994055 0.99979731 0.99999613\n",
      "  0.99995832 0.99997763]\n",
      " [0.99993707 0.99999668 0.99999539 0.99976229 0.99967089 0.99999399\n",
      "  0.99983237 0.99997062]\n",
      " [0.99956317 0.99999473 0.9999753  0.99958324 0.99948361 0.99992979\n",
      "  0.99948159 0.99961871]\n",
      " [0.99987167 0.99999774 0.99999074 0.99981201 0.99969972 0.99998349\n",
      "  0.99982097 0.99991404]\n",
      " [0.99981691 0.99999283 0.99998947 0.99951428 0.99937936 0.99998218\n",
      "  0.99959926 0.99990502]\n",
      " [0.99978153 0.9999955  0.99997007 0.99957077 0.99915283 0.99996924\n",
      "  0.99935005 0.99977703]\n",
      " [0.99987728 0.99999554 0.99998523 0.99962354 0.99961693 0.99997497\n",
      "  0.99947916 0.99986865]\n",
      " [0.99986423 0.99999774 0.99999288 0.99982605 0.99969817 0.99998654\n",
      "  0.9998682  0.999932  ]]\n"
     ]
    }
   ],
   "source": [
    "total_hidden_states = []\n",
    "\n",
    "# 각 시점 별 입력값.\n",
    "for input_t in inputs:\n",
    "\n",
    "    # Wx * Xt + Wh * Ht-1 + b(bias)\n",
    "    output_t = np.tanh(np.dot(Wx,input_t) + np.dot(Wh,hidden_state_t) + b)\n",
    "\n",
    "    # 각 시점 t별 메모리 셀의 출력의 크기는 (timestep t, output_dim)\n",
    "    # 각 시점의 은닉 상태의 값을 계속해서 누적\n",
    "    total_hidden_states.append(list(output_t))\n",
    "    hidden_state_t = output_t\n",
    "\n",
    "# 출력 시 값을 깔끔하게 해주는 용도.\n",
    "total_hidden_states = np.stack(total_hidden_states, axis = 0) \n",
    "\n",
    "# (timesteps, output_dim)\n",
    "print('모든 시점의 은닉 상태 :')\n",
    "print(total_hidden_states)"
   ]
  },
  {
   "attachments": {
    "rnn_image4.5_finalPNG.png": {
     "image/png": "[encoded data removed]"
    }
   },
   "cell_type": "markdown",
   "metadata": {},
   "source": [
    "### 4. 깊은 순환 신경망(Deep Recurrent Neural Network)\n",
    "- 은닉층이 2개인 깊은 순환 신경망\n",
    "![rnn_image4.5_finalPNG.png](attachment:rnn_image4.5_finalPNG.png)"
   ]
  },
  {
   "cell_type": "code",
   "execution_count": 63,
   "metadata": {},
   "outputs": [],
   "source": [
    "# 은닉층 2개 추가 코드\n",
    "model = Sequential()\n",
    "model.add(SimpleRNN(hidden_units, input_length=10, input_dim=5, return_sequences=True))\n",
    "model.add(SimpleRNN(hidden_units, return_sequences=True))"
   ]
  },
  {
   "attachments": {
    "rnn_image5_ver2.png": {
     "image/png": "[encoded data removed]"
    }
   },
   "cell_type": "markdown",
   "metadata": {},
   "source": [
    "### 5. 양방향 순환 신경망(Bidirectional Recurrent Neural Network)\n",
    "- 양방향 순환 신경망은 시점 t에서의 출력값을 예측할 때 이전 시점의 입력뿐만 아니라, 이후 시점의 입력 또한 예측에 기여할 수 있다는 아이디어에 기반\n",
    "- 이전과 이후의 시점 모두를 고려해서 현재 시점의 예측을 더욱 정확하게 할 수 있도록 고안된 것이 양방향 RNN\n",
    "![rnn_image5_ver2.png](attachment:rnn_image5_ver2.png)\n",
    "- 첫번째 메모리 셀은 앞에서 배운 것처럼 앞 시점의 은닉 상태(Forward States) 를 전달받아 현재의 은닉 상태를 계산\n",
    "- 두번째 메모리 셀은 뒤 시점의 은닉 상태(Backward States) 를 전달 받아 현재의 은닉 상태를 계산\n",
    "- 두 개의 값 모두가 현재 시점의 출력층에서 출력값을 예측하기 위해 사용"
   ]
  },
  {
   "cell_type": "code",
   "execution_count": 64,
   "metadata": {},
   "outputs": [],
   "source": [
    "from tensorflow.keras.layers import Bidirectional\n",
    "\n",
    "timesteps = 10\n",
    "input_dim = 5\n",
    "\n",
    "model = Sequential()\n",
    "model.add(Bidirectional(SimpleRNN(hidden_units, return_sequences=True), input_shape=(timesteps, input_dim)))"
   ]
  },
  {
   "attachments": {
    "rnn_image6_ver3.png": {
     "image/png": "[encoded data removed]"
    }
   },
   "cell_type": "markdown",
   "metadata": {},
   "source": [
    "- 양방향 RNN도 다수의 은닉층 가질 수 있음\n",
    "![rnn_image6_ver3.png](attachment:rnn_image6_ver3.png)\n",
    "- 은닉층을 무조건 추가한다고 해서 반드시 성능 향상X\n",
    "\n",
    "```python\n",
    "# 은닉층이 4개인 경우\n",
    "model = Sequential()\n",
    "model.add(Bidirectional(SimpleRNN(hidden_units, return_sequences=True), input_shape=(timesteps, input_dim)))\n",
    "model.add(Bidirectional(SimpleRNN(hidden_units, return_sequences=True)))\n",
    "model.add(Bidirectional(SimpleRNN(hidden_units, return_sequences=True)))\n",
    "model.add(Bidirectional(SimpleRNN(hidden_units, return_sequences=True)))\n",
    "```"
   ]
  },
  {
   "cell_type": "markdown",
   "metadata": {},
   "source": [
    "### 6. 점검 퀴즈\n",
    "\n",
    "RNN을 제대로 이해했는지 퀴즈를 통해서 확인해보세요! 모델에 대한 설명이 다음과 같을 때, 총 파라미터 개수를 구해보세요.\n",
    "\n",
    "1. Embedding을 사용하며, 단어 집합(Vocabulary)의 크기가 5,000이고 임베딩 벡터의 차원은 100입니다.\n",
    "2. 은닉층에서는 Simple RNN을 사용하며, 은닉 상태의 크기는 128입니다.\n",
    "3. 훈련에 사용하는 모든 샘플의 길이는 30으로 가정합니다.\n",
    "4. 이진 분류를 수행하는 모델로, 출력층의 뉴런은 1개로 시그모이드 함수를 사용합니다.\n",
    "5. 은닉층은 1개입니다.\n",
    "\n",
    "#### 정답\n",
    "Embedding = 5,000(input) * 100(embedding) = 500,000\n",
    "$W_x$ = 100(embedding) * 128(hidden) = 12,800\n",
    "$W_h$ = 128 * 128 = 16,384\n",
    "bias(hidden)  = 128\n",
    "$W_y$ = 128\n",
    "bias(output) = 1\n",
    "\n",
    "total = 529,441"
   ]
  },
  {
   "cell_type": "markdown",
   "metadata": {},
   "source": [
    "## 08-02 장단기 메모리(Long Short-Term Memory, LSTM)"
   ]
  },
  {
   "cell_type": "markdown",
   "metadata": {},
   "source": [
    "### 1. 바닐라 RNN의 한계\n",
    "- 바닐라 RNN은 비교적 짧은 시퀀스(sequence)에 대해서만 효과를 보이는 단점\n",
    "- 바닐라 RNN의 시점(time step)이 길어질 수록 앞의 정보가 뒤로 충분히 전달되지 못하는 현상이 발생\n",
    "- 이를 장기 의존성 문제(the problem of Long-Term Dependencies)라고 함"
   ]
  },
  {
   "attachments": {
    "vanilla_rnn_ver2.png": {
     "image/png": "[encoded data removed]"
    }
   },
   "cell_type": "markdown",
   "metadata": {},
   "source": [
    "### 2. 바닐라 RNN 내부 열어보기\n",
    "\n",
    "![vanilla_rnn_ver2.png](attachment:vanilla_rnn_ver2.png)\n",
    "$h_{t} = tanh(W_{x}x_{t} + W_{h}h_{t−1} + b)$\n",
    "\n",
    "- 바닐라 RNN은 $x_{t}$와 $h_{t-1}$이라는 두 개의 입력이 각각의 가중치와 곱해져서 메모리 셀의 입력이 됨\n",
    "- 이를 하이퍼볼릭탄젠트 함수의 입력으로 사용하고 이 값은 은닉층의 출력인 은닉 상태가 됨"
   ]
  },
  {
   "attachments": {
    "vaniila_rnn_and_different_lstm_ver2.png": {
     "image/png": "[encoded data removed]"
    }
   },
   "cell_type": "markdown",
   "metadata": {},
   "source": [
    "### 3. LSTM(Long Short-Term Memory)\n",
    "![vaniila_rnn_and_different_lstm_ver2.png](attachment:vaniila_rnn_and_different_lstm_ver2.png)\n",
    "- 이하 식에서 σ는 시그모이드 함수를 의미합니다.\n",
    "- 이하 식에서 tanh는 하이퍼볼릭탄젠트 함수를 의미합니다.\n",
    "- $W_{xi}, W_{xg}, W_{xf}, W_{xo}$는 $x_{t}$와 함께 각 게이트에서 사용되는 4개의 가중치입니다.\n",
    "- $W_{hi}, W_{hg}, W_{hf}, W_{ho}$는 $h_{t-1}$와 함께 각 게이트에서 사용되는 4개의 가중치입니다.\n",
    "- $b_{i}, b_{g}, b_{f}, b_{o}$는 각 게이트에서 사용되는 4개의 편향입니다."
   ]
  },
  {
   "attachments": {
    "inputgate.png": {
     "image/png": "[encoded data removed]"
    }
   },
   "cell_type": "markdown",
   "metadata": {},
   "source": [
    "#### (1) 입력 게이트\n",
    "![inputgate.png](attachment:inputgate.png)\n",
    "$i_{t}=σ(W_{xi}x_{t}+W_{hi}h_{t-1}+b_{i})$\n",
    "$g_{t}=tanh(W_{xg}x_{t}+W_{hg}h_{t-1}+b_{g})$\n",
    "- 입력 게이트는 현재 정보를 기억하기 위한 게이트"
   ]
  },
  {
   "attachments": {
    "forgetgate.png": {
     "image/png": "[encoded data removed]"
    }
   },
   "cell_type": "markdown",
   "metadata": {},
   "source": [
    "#### (2) 삭제 게이트\n",
    "![forgetgate.png](attachment:forgetgate.png)\n",
    "$f_{t}=σ(W_{xf}x_{t}+W_{hf}h_{t-1}+b_{f})$\n",
    "- 삭제 게이트는 기억을 삭제하기 위한 게이트"
   ]
  },
  {
   "attachments": {
    "cellstate2.png": {
     "image/png": "[encoded data removed]"
    }
   },
   "cell_type": "markdown",
   "metadata": {},
   "source": [
    "#### (3) 셀 상태\n",
    "![cellstate2.png](attachment:cellstate2.png)\n",
    "$C_{t}=f_{t}∘C_{t-1}+i_{t}∘g_{t}$\n",
    "- 입력 게이트에서 선택된 기억을 삭제 게이트의 결과값과 더한 값을 현재 시점 t의 셀 상태라고 함"
   ]
  },
  {
   "attachments": {
    "outputgateandhiddenstate.png": {
     "image/png": "[encoded data removed]"
    }
   },
   "cell_type": "markdown",
   "metadata": {},
   "source": [
    "#### (4) 출력 게이트와 은닉 상태\n",
    "![outputgateandhiddenstate.png](attachment:outputgateandhiddenstate.png)\n",
    "$o_{t}=σ(W_{xo}x_{t}+W_{ho}h_{t-1}+b_{o})$\n",
    "$h_{t}=o_{t}∘tanh(c_{t})$\n",
    "- 현재 시점 t의 값과 이전 시점 t-1의 은닉 상태가 시그모이드 함수를 지난 값"
   ]
  },
  {
   "cell_type": "markdown",
   "metadata": {},
   "source": [
    "## 08-03 게이트 순환 유닛(Gated Recurrent Unit, GRU)"
   ]
  },
  {
   "attachments": {
    "gru.png": {
     "image/png": "[encoded data removed]"
    }
   },
   "cell_type": "markdown",
   "metadata": {},
   "source": [
    "### 1. GRU(Gated Recurrent Unit)\n",
    "- GRU에서는 업데이트 게이트와 리셋 게이트 두 가지 게이트만이 존재\n",
    "- GRU는 LSTM보다 학습 속도가 빠르다고 알려져있지만 여러 평가에서 GRU는 LSTM과 비슷한 성능을 보임\n",
    "\n",
    "![gru.png](attachment:gru.png)\n",
    "$r_{t}=σ(W_{xr}x_{t}+W_{hr}h_{t-1}+b_{r})$\n",
    "\n",
    "$z_{t}=σ(W_{xz}x_{t}+W_{hz}h_{t-1}+b_{z})$\n",
    "\n",
    "$g_{t}=tanh(W_{hg}(r_{t}∘h_{t-1})+W_{xg}x_{t}+b_{g})$\n",
    "\n",
    "$h_{t}=(1-z_{t})∘g_{t}+z_{t}∘h_{t-1}$\n",
    "\n",
    "- 기존에 LSTM을 사용하면서 최적의 하이퍼파라미터를 찾아낸 상황이라면 굳이 GRU로 바꿔서 사용할 필요X\n",
    "- 데이터 양이 적을 때는 매개 변수의 양이 적은 GRU가 조금 더 낫고, 데이터 양이 더 많으면 LSTM이 더 낫다"
   ]
  },
  {
   "cell_type": "markdown",
   "metadata": {},
   "source": [
    "### 2. 케라스에서의 GRU(Gated Recurrent Unit)\n",
    "\n",
    "```python\n",
    "model.add(GRU(hidden_size, input_shape=(timesteps, input_dim)))\n",
    "```"
   ]
  },
  {
   "cell_type": "markdown",
   "metadata": {},
   "source": [
    "## 08-04 케라스의 SimpleRNN과 LSTM 이해하기"
   ]
  },
  {
   "cell_type": "markdown",
   "metadata": {},
   "source": [
    "### 1. 임의의 입력 생성하기"
   ]
  },
  {
   "cell_type": "code",
   "execution_count": 65,
   "metadata": {},
   "outputs": [],
   "source": [
    "import numpy as np\n",
    "import tensorflow as tf\n",
    "from tensorflow.keras.layers import SimpleRNN, LSTM, Bidirectional"
   ]
  },
  {
   "cell_type": "code",
   "execution_count": 66,
   "metadata": {},
   "outputs": [
    {
     "name": "stdout",
     "output_type": "stream",
     "text": [
      "(4, 5)\n"
     ]
    }
   ],
   "source": [
    "train_X = [[0.1, 4.2, 1.5, 1.1, 2.8], [1.0, 3.1, 2.5, 0.7, 1.1], [0.3, 2.1, 1.5, 2.1, 0.1], [2.2, 1.4, 0.5, 0.9, 1.1]]\n",
    "print(np.shape(train_X))"
   ]
  },
  {
   "cell_type": "code",
   "execution_count": 67,
   "metadata": {},
   "outputs": [
    {
     "name": "stdout",
     "output_type": "stream",
     "text": [
      "(1, 4, 5)\n"
     ]
    }
   ],
   "source": [
    "# 2D + 3D 배치크기 1 추가하면서 변경\n",
    "train_X = [[[0.1, 4.2, 1.5, 1.1, 2.8], [1.0, 3.1, 2.5, 0.7, 1.1], [0.3, 2.1, 1.5, 2.1, 0.1], [2.2, 1.4, 0.5, 0.9, 1.1]]]\n",
    "train_X = np.array(train_X, dtype=np.float32)\n",
    "print(train_X.shape)"
   ]
  },
  {
   "cell_type": "markdown",
   "metadata": {},
   "source": [
    "### 2. SimpleRNN 이해하기"
   ]
  },
  {
   "cell_type": "code",
   "execution_count": 68,
   "metadata": {},
   "outputs": [
    {
     "name": "stdout",
     "output_type": "stream",
     "text": [
      "hidden state : [[-0.9871459  -0.98347044 -0.9918319 ]], shape: (1, 3)\n"
     ]
    }
   ],
   "source": [
    "rnn = SimpleRNN(3)\n",
    "# rnn = SimpleRNN(3, return_sequences=False, return_state=False)와 동일.\n",
    "hidden_state = rnn(train_X)\n",
    "\n",
    "print('hidden state : {}, shape: {}'.format(hidden_state, hidden_state.shape))"
   ]
  },
  {
   "cell_type": "code",
   "execution_count": 69,
   "metadata": {},
   "outputs": [
    {
     "name": "stdout",
     "output_type": "stream",
     "text": [
      "hidden states : [[[-0.560688    0.9510208   0.43291962]\n",
      "  [-0.5594747  -0.5615538  -0.19294041]\n",
      "  [-0.94330806  0.4787041  -0.9802159 ]\n",
      "  [-0.7283928   0.9067716  -0.6599525 ]]], shape: (1, 4, 3)\n"
     ]
    }
   ],
   "source": [
    "rnn = SimpleRNN(3, return_sequences=True)\n",
    "hidden_states = rnn(train_X)\n",
    "\n",
    "print('hidden states : {}, shape: {}'.format(hidden_states, hidden_states.shape))"
   ]
  },
  {
   "cell_type": "code",
   "execution_count": 70,
   "metadata": {},
   "outputs": [
    {
     "name": "stdout",
     "output_type": "stream",
     "text": [
      "hidden states : [[[ 0.9878115  -0.66011965  0.7909376 ]\n",
      "  [ 0.3395598  -0.7565601   0.7405062 ]\n",
      "  [ 0.9610405   0.38693392  0.783265  ]\n",
      "  [-0.87784016  0.66607714  0.7644371 ]]], shape: (1, 4, 3)\n",
      "last hidden state : [[-0.87784016  0.66607714  0.7644371 ]], shape: (1, 3)\n"
     ]
    }
   ],
   "source": [
    "rnn = SimpleRNN(3, return_sequences=True, return_state=True)\n",
    "hidden_states, last_state = rnn(train_X)\n",
    "\n",
    "print('hidden states : {}, shape: {}'.format(hidden_states, hidden_states.shape))\n",
    "print('last hidden state : {}, shape: {}'.format(last_state, last_state.shape))"
   ]
  },
  {
   "cell_type": "code",
   "execution_count": 71,
   "metadata": {},
   "outputs": [
    {
     "name": "stdout",
     "output_type": "stream",
     "text": [
      "hidden state : [[0.4190477  0.9626698  0.47311538]], shape: (1, 3)\n",
      "last hidden state : [[0.4190477  0.9626698  0.47311538]], shape: (1, 3)\n"
     ]
    }
   ],
   "source": [
    "rnn = SimpleRNN(3, return_sequences=False, return_state=True)\n",
    "hidden_state, last_state = rnn(train_X)\n",
    "\n",
    "print('hidden state : {}, shape: {}'.format(hidden_state, hidden_state.shape))\n",
    "print('last hidden state : {}, shape: {}'.format(last_state, last_state.shape))"
   ]
  },
  {
   "cell_type": "markdown",
   "metadata": {},
   "source": [
    "### 3. LSTM 이해하기"
   ]
  },
  {
   "cell_type": "code",
   "execution_count": 72,
   "metadata": {},
   "outputs": [
    {
     "name": "stdout",
     "output_type": "stream",
     "text": [
      "hidden state : [[ 0.14525121 -0.3348044   0.05390321]], shape: (1, 3)\n",
      "last hidden state : [[ 0.14525121 -0.3348044   0.05390321]], shape: (1, 3)\n",
      "last cell state : [[ 0.52848446 -0.5242957   0.11324658]], shape: (1, 3)\n"
     ]
    }
   ],
   "source": [
    "lstm = LSTM(3, return_sequences=False, return_state=True)\n",
    "hidden_state, last_state, last_cell_state = lstm(train_X)\n",
    "\n",
    "print('hidden state : {}, shape: {}'.format(hidden_state, hidden_state.shape))\n",
    "print('last hidden state : {}, shape: {}'.format(last_state, last_state.shape))\n",
    "print('last cell state : {}, shape: {}'.format(last_cell_state, last_cell_state.shape))"
   ]
  },
  {
   "cell_type": "code",
   "execution_count": 73,
   "metadata": {},
   "outputs": [
    {
     "name": "stdout",
     "output_type": "stream",
     "text": [
      "hidden states : [[[-0.24038522 -0.04655914 -0.0229241 ]\n",
      "  [-0.24409054 -0.08092279 -0.08584433]\n",
      "  [-0.4917218   0.18085417 -0.1651622 ]\n",
      "  [-0.45524925  0.07358861 -0.10136613]]], shape: (1, 4, 3)\n",
      "last hidden state : [[-0.45524925  0.07358861 -0.10136613]], shape: (1, 3)\n",
      "last cell state : [[-0.6629719   0.09439407 -0.4864183 ]], shape: (1, 3)\n"
     ]
    }
   ],
   "source": [
    "lstm = LSTM(3, return_sequences=True, return_state=True)\n",
    "hidden_states, last_hidden_state, last_cell_state = lstm(train_X)\n",
    "\n",
    "print('hidden states : {}, shape: {}'.format(hidden_states, hidden_states.shape))\n",
    "print('last hidden state : {}, shape: {}'.format(last_hidden_state, last_hidden_state.shape))\n",
    "print('last cell state : {}, shape: {}'.format(last_cell_state, last_cell_state.shape))"
   ]
  },
  {
   "cell_type": "markdown",
   "metadata": {},
   "source": [
    "### 4. Bidirectional(LSTM) 이해하기"
   ]
  },
  {
   "cell_type": "code",
   "execution_count": 74,
   "metadata": {},
   "outputs": [],
   "source": [
    "k_init = tf.keras.initializers.Constant(value=0.1)\n",
    "b_init = tf.keras.initializers.Constant(value=0)\n",
    "r_init = tf.keras.initializers.Constant(value=0.1)"
   ]
  },
  {
   "cell_type": "code",
   "execution_count": 75,
   "metadata": {},
   "outputs": [
    {
     "name": "stdout",
     "output_type": "stream",
     "text": [
      "hidden states : [[0.6303139  0.6303139  0.6303139  0.70387346 0.70387346 0.70387346]], shape: (1, 6)\n",
      "forward state : [[0.6303139 0.6303139 0.6303139]], shape: (1, 3)\n",
      "backward state : [[0.70387346 0.70387346 0.70387346]], shape: (1, 3)\n"
     ]
    }
   ],
   "source": [
    "bilstm = Bidirectional(LSTM(3, return_sequences=False, return_state=True, \\\n",
    "                            kernel_initializer=k_init, bias_initializer=b_init, recurrent_initializer=r_init))\n",
    "hidden_states, forward_h, forward_c, backward_h, backward_c = bilstm(train_X)\n",
    "\n",
    "print('hidden states : {}, shape: {}'.format(hidden_states, hidden_states.shape))\n",
    "print('forward state : {}, shape: {}'.format(forward_h, forward_h.shape))\n",
    "print('backward state : {}, shape: {}'.format(backward_h, backward_h.shape))"
   ]
  },
  {
   "attachments": {
    "bilstm3.png": {
     "image/png": "[encoded data removed]"
    }
   },
   "cell_type": "markdown",
   "metadata": {},
   "source": [
    "- 위 코드 그림으로 설명\n",
    "![bilstm3.png](attachment:bilstm3.png)"
   ]
  },
  {
   "cell_type": "code",
   "execution_count": 76,
   "metadata": {},
   "outputs": [
    {
     "name": "stdout",
     "output_type": "stream",
     "text": [
      "hidden states : [[[0.35906476 0.35906476 0.35906476 0.70387346 0.70387346 0.70387346]\n",
      "  [0.5511133  0.5511133  0.5511133  0.5886358  0.5886358  0.5886358 ]\n",
      "  [0.5911575  0.5911575  0.5911575  0.39516988 0.39516988 0.39516988]\n",
      "  [0.6303139  0.6303139  0.6303139  0.2194224  0.2194224  0.2194224 ]]], shape: (1, 4, 6)\n",
      "forward state : [[0.6303139 0.6303139 0.6303139]], shape: (1, 3)\n",
      "backward state : [[0.70387346 0.70387346 0.70387346]], shape: (1, 3)\n"
     ]
    }
   ],
   "source": [
    "bilstm = Bidirectional(LSTM(3, return_sequences=True, return_state=True, \\\n",
    "                            kernel_initializer=k_init, bias_initializer=b_init, recurrent_initializer=r_init))\n",
    "hidden_states, forward_h, forward_c, backward_h, backward_c = bilstm(train_X)\n",
    "\n",
    "print('hidden states : {}, shape: {}'.format(hidden_states, hidden_states.shape))\n",
    "print('forward state : {}, shape: {}'.format(forward_h, forward_h.shape))\n",
    "print('backward state : {}, shape: {}'.format(backward_h, backward_h.shape))"
   ]
  },
  {
   "attachments": {
    "bilstm1.png": {
     "image/png": "[encoded data removed]"
    }
   },
   "cell_type": "markdown",
   "metadata": {},
   "source": [
    "- 위 코드 그림으로 설명\n",
    "![bilstm1.png](attachment:bilstm1.png)"
   ]
  },
  {
   "cell_type": "markdown",
   "metadata": {},
   "source": [
    "## 08-05 RNN 언어 모델(Recurrent Neural Network Language Model, RNNLM)"
   ]
  },
  {
   "attachments": {
    "rnnlm1_final_final.png": {
     "image/png": "[encoded data removed]"
    }
   },
   "cell_type": "markdown",
   "metadata": {},
   "source": [
    "### 1. RNN 언어 모델(Recurrent Neural Network Language Model, RNNLM)\n",
    "- 시점(time step)이라는 개념이 도입된 RNN으로 언어 모델을 만들면 입력의 길이를 고정하지 않아도 됨\n",
    "- RNNLM: RNN으로 만든 언어모델\n",
    "\n",
    "#### RNNLM이 언어 모델링 학습하는 과정\n",
    "> 예문 : 'what will the fat cat sit on'\n",
    "\n",
    "- RNNLM이 어떻게 이전 시점들의 단어들과 현재 시점의 단어로 다음 단어를 예측하는지 그림\n",
    "    ![rnnlm1_final_final.png](attachment:rnnlm1_final_final.png)\n",
    "    - 기본적으로 예측 과정에서 이전 시점의 출력을 현재 시점의 입력으로 함\n",
    "    - 훈련이 끝난 모델의 테스트 과정 동안(실제 사용할 때): RNNLM은 what을 입력받으면, will을 예측하고 이 will은 다음 시점의 입력이 되어 the를 예측\n",
    "    - 훈련 과정: what will the fat cat sit 시퀀스를 모델의 입력으로 넣으면, will the fat cat sit on를 예측하도록 훈련\n",
    "    - 교사 강요(teacher forcing): RNN의 훈련 기법\n",
    "    - 테스트 과정에서 t 시점의 출력이 t+1 시점의 입력으로 사용되는 RNN 모델을 훈련시킬 때 사용하는 훈련 기법\n",
    "    - 훈련할 때 교사 강요를 사용할 경우, 실제 알고있는 정답을 t+1 시점의 입력으로 사용\n",
    "    - 교사 강요를 사용하여 RNN을 좀 더 빠르고 효과적으로 훈련\n",
    "![img](https://wikidocs.net/images/page/46496/rnnlm2_final_final.PNG)\n",
    "    - 모델이 예측한 값과 실제 레이블과의 오차를 계산하기 위해서 손실 함수로 크로스 엔트로피 함수를 사용\n",
    "\n",
    "- RNNLM의 구조\n",
    "![img](https://wikidocs.net/images/page/46496/rnnlm3_final.PNG)\n",
    "\n",
    "    - 입력층(input layer)에서 RNNLM의 현 시점(timestep)은 4, 그래서 4번째 입력 단어인 fat의 원-핫 벡터가 입력\n",
    "    - 출력층에서 모델이 예측해야하는 정답에 해당되는 단어 cat의 원-핫 벡터는 출력층에서 모델이 예측한 값의 오차를 구하기 위해 사용될 예정\n",
    "    - 이 오차로부터 손실함수를 사용해 인공 신경망이 학습\n",
    "\n",
    "- 조금 더 구체적인 그림\n",
    "![img](https://wikidocs.net/images/page/46496/rnnlm4_final.PNG)\n",
    "    - 임베딩층: $e_{t} = lookup(x_{t})$\n",
    "    - 은닉층: $h_{t} = tanh(W_{x} e_{t} + W_{h}h_{t−1} + b)$\n",
    "    - 출력층: $\\hat{y_{t}} = softmax(W_{y}h_{t} + b)$"
   ]
  },
  {
   "cell_type": "markdown",
   "metadata": {},
   "source": [
    "## 08-06 RNN을 이용한 텍스트 생성(Text Generation using RNN)"
   ]
  },
  {
   "cell_type": "markdown",
   "metadata": {},
   "source": [
    "### 1. RNN을 이용하여 텍스트 생성하기\n",
    "\n",
    "\n",
    "samples|$X$|$y$\t\t\n",
    "---|---|---\n",
    "1\t|경마장에\t|있는\n",
    "2|\t경마장에 있는\t|말이\n",
    "3|\t경마장에 있는 말이\t|뛰고\n",
    "4|\t경마장에 있는 말이 뛰고\t|있다\n",
    "5|\t그의\t|말이\n",
    "6|\t그의 말이|\t법이다\n",
    "7|\t가는\t|말이\n",
    "8|\t가는 말이|\t고와야\n",
    "9|\t가는 말이 고와야|\t오는\n",
    "10|\t가는 말이 고와야 오는\t|말이\n",
    "11\t|가는 말이 고와야 오는 말이|\t곱다"
   ]
  },
  {
   "cell_type": "markdown",
   "metadata": {},
   "source": [
    "#### (1) 데이터에 대한 이해와 전처리"
   ]
  },
  {
   "cell_type": "code",
   "execution_count": 77,
   "metadata": {},
   "outputs": [],
   "source": [
    "import numpy as np\n",
    "from tensorflow.keras.preprocessing.text import Tokenizer\n",
    "from tensorflow.keras.preprocessing.sequence import pad_sequences\n",
    "from tensorflow.keras.utils import to_categorical"
   ]
  },
  {
   "cell_type": "code",
   "execution_count": 78,
   "metadata": {},
   "outputs": [],
   "source": [
    "text = \"\"\"경마장에 있는 말이 뛰고 있다\\n\n",
    "그의 말이 법이다\\n\n",
    "가는 말이 고와야 오는 말이 곱다\\n\"\"\""
   ]
  },
  {
   "cell_type": "code",
   "execution_count": 79,
   "metadata": {},
   "outputs": [
    {
     "name": "stdout",
     "output_type": "stream",
     "text": [
      "단어 집합의 크기 : 12\n"
     ]
    }
   ],
   "source": [
    "tokenizer = Tokenizer()\n",
    "tokenizer.fit_on_texts([text])\n",
    "vocab_size = len(tokenizer.word_index) + 1 # 패딩고려\n",
    "print('단어 집합의 크기 : %d' % vocab_size)"
   ]
  },
  {
   "cell_type": "code",
   "execution_count": 80,
   "metadata": {},
   "outputs": [
    {
     "name": "stdout",
     "output_type": "stream",
     "text": [
      "{'말이': 1, '경마장에': 2, '있는': 3, '뛰고': 4, '있다': 5, '그의': 6, '법이다': 7, '가는': 8, '고와야': 9, '오는': 10, '곱다': 11}\n"
     ]
    }
   ],
   "source": [
    "print(tokenizer.word_index)"
   ]
  },
  {
   "cell_type": "code",
   "execution_count": 81,
   "metadata": {},
   "outputs": [
    {
     "name": "stdout",
     "output_type": "stream",
     "text": [
      "학습에 사용할 샘플의 개수: 11\n"
     ]
    }
   ],
   "source": [
    "# 훈련 데이터\n",
    "sequences = list()\n",
    "for line in text.split('\\n'): # 줄바꿈 문자를 기준으로 문장 토큰화\n",
    "    encoded = tokenizer.texts_to_sequences([line])[0]\n",
    "    for i in range(1, len(encoded)):\n",
    "        sequence = encoded[:i+1]\n",
    "        sequences.append(sequence)\n",
    "\n",
    "print('학습에 사용할 샘플의 개수: %d' % len(sequences))"
   ]
  },
  {
   "cell_type": "code",
   "execution_count": 82,
   "metadata": {},
   "outputs": [
    {
     "name": "stdout",
     "output_type": "stream",
     "text": [
      "[[2, 3], [2, 3, 1], [2, 3, 1, 4], [2, 3, 1, 4, 5], [6, 1], [6, 1, 7], [8, 1], [8, 1, 9], [8, 1, 9, 10], [8, 1, 9, 10, 1], [8, 1, 9, 10, 1, 11]]\n"
     ]
    }
   ],
   "source": [
    "print(sequences)"
   ]
  },
  {
   "cell_type": "code",
   "execution_count": 83,
   "metadata": {},
   "outputs": [
    {
     "name": "stdout",
     "output_type": "stream",
     "text": [
      "샘플의 최대 길이 : 6\n"
     ]
    }
   ],
   "source": [
    "max_len = max(len(l) for l in sequences) # 모든 샘플에서 길이가 가장 긴 샘플의 길이 출력\n",
    "print('샘플의 최대 길이 : {}'.format(max_len))"
   ]
  },
  {
   "cell_type": "code",
   "execution_count": 84,
   "metadata": {},
   "outputs": [],
   "source": [
    "# 전체를 최대길이인 6으로 패딩\n",
    "sequences = pad_sequences(sequences, maxlen=max_len, padding='pre')"
   ]
  },
  {
   "cell_type": "code",
   "execution_count": 85,
   "metadata": {},
   "outputs": [
    {
     "name": "stdout",
     "output_type": "stream",
     "text": [
      "[[ 0  0  0  0  2  3]\n",
      " [ 0  0  0  2  3  1]\n",
      " [ 0  0  2  3  1  4]\n",
      " [ 0  2  3  1  4  5]\n",
      " [ 0  0  0  0  6  1]\n",
      " [ 0  0  0  6  1  7]\n",
      " [ 0  0  0  0  8  1]\n",
      " [ 0  0  0  8  1  9]\n",
      " [ 0  0  8  1  9 10]\n",
      " [ 0  8  1  9 10  1]\n",
      " [ 8  1  9 10  1 11]]\n"
     ]
    }
   ],
   "source": [
    "print(sequences)"
   ]
  },
  {
   "cell_type": "code",
   "execution_count": 86,
   "metadata": {},
   "outputs": [],
   "source": [
    "sequences = np.array(sequences)\n",
    "X = sequences[:,:-1]\n",
    "y = sequences[:,-1]"
   ]
  },
  {
   "cell_type": "code",
   "execution_count": 87,
   "metadata": {},
   "outputs": [
    {
     "name": "stdout",
     "output_type": "stream",
     "text": [
      "[[ 0  0  0  0  2]\n",
      " [ 0  0  0  2  3]\n",
      " [ 0  0  2  3  1]\n",
      " [ 0  2  3  1  4]\n",
      " [ 0  0  0  0  6]\n",
      " [ 0  0  0  6  1]\n",
      " [ 0  0  0  0  8]\n",
      " [ 0  0  0  8  1]\n",
      " [ 0  0  8  1  9]\n",
      " [ 0  8  1  9 10]\n",
      " [ 8  1  9 10  1]]\n"
     ]
    }
   ],
   "source": [
    "print(X)"
   ]
  },
  {
   "cell_type": "code",
   "execution_count": 88,
   "metadata": {},
   "outputs": [
    {
     "name": "stdout",
     "output_type": "stream",
     "text": [
      "[ 3  1  4  5  1  7  1  9 10  1 11]\n"
     ]
    }
   ],
   "source": [
    "print(y)"
   ]
  },
  {
   "cell_type": "code",
   "execution_count": 89,
   "metadata": {},
   "outputs": [],
   "source": [
    "# 원 핫 인코딩\n",
    "y = to_categorical(y, num_classes=vocab_size)"
   ]
  },
  {
   "cell_type": "code",
   "execution_count": 90,
   "metadata": {},
   "outputs": [
    {
     "name": "stdout",
     "output_type": "stream",
     "text": [
      "[[0. 0. 0. 1. 0. 0. 0. 0. 0. 0. 0. 0.]\n",
      " [0. 1. 0. 0. 0. 0. 0. 0. 0. 0. 0. 0.]\n",
      " [0. 0. 0. 0. 1. 0. 0. 0. 0. 0. 0. 0.]\n",
      " [0. 0. 0. 0. 0. 1. 0. 0. 0. 0. 0. 0.]\n",
      " [0. 1. 0. 0. 0. 0. 0. 0. 0. 0. 0. 0.]\n",
      " [0. 0. 0. 0. 0. 0. 0. 1. 0. 0. 0. 0.]\n",
      " [0. 1. 0. 0. 0. 0. 0. 0. 0. 0. 0. 0.]\n",
      " [0. 0. 0. 0. 0. 0. 0. 0. 0. 1. 0. 0.]\n",
      " [0. 0. 0. 0. 0. 0. 0. 0. 0. 0. 1. 0.]\n",
      " [0. 1. 0. 0. 0. 0. 0. 0. 0. 0. 0. 0.]\n",
      " [0. 0. 0. 0. 0. 0. 0. 0. 0. 0. 0. 1.]]\n"
     ]
    }
   ],
   "source": [
    "print(y)"
   ]
  },
  {
   "cell_type": "markdown",
   "metadata": {},
   "source": [
    "#### (2) 모델 설계하기"
   ]
  },
  {
   "cell_type": "code",
   "execution_count": 91,
   "metadata": {},
   "outputs": [],
   "source": [
    "from tensorflow.keras.models import Sequential\n",
    "from tensorflow.keras.layers import Embedding, Dense, SimpleRNN"
   ]
  },
  {
   "cell_type": "code",
   "execution_count": 92,
   "metadata": {},
   "outputs": [
    {
     "name": "stdout",
     "output_type": "stream",
     "text": [
      "Epoch 1/200\n",
      "1/1 - 1s - loss: 2.5049 - accuracy: 0.0909 - 605ms/epoch - 605ms/step\n",
      "Epoch 2/200\n",
      "1/1 - 0s - loss: 2.4890 - accuracy: 0.0909 - 19ms/epoch - 19ms/step\n",
      "Epoch 3/200\n",
      "1/1 - 0s - loss: 2.4733 - accuracy: 0.0909 - 17ms/epoch - 17ms/step\n",
      "Epoch 4/200\n",
      "1/1 - 0s - loss: 2.4577 - accuracy: 0.1818 - 17ms/epoch - 17ms/step\n",
      "Epoch 5/200\n",
      "1/1 - 0s - loss: 2.4420 - accuracy: 0.2727 - 17ms/epoch - 17ms/step\n",
      "Epoch 6/200\n",
      "1/1 - 0s - loss: 2.4263 - accuracy: 0.2727 - 17ms/epoch - 17ms/step\n",
      "Epoch 7/200\n",
      "1/1 - 0s - loss: 2.4103 - accuracy: 0.3636 - 19ms/epoch - 19ms/step\n",
      "Epoch 8/200\n",
      "1/1 - 0s - loss: 2.3939 - accuracy: 0.3636 - 16ms/epoch - 16ms/step\n",
      "Epoch 9/200\n",
      "1/1 - 0s - loss: 2.3771 - accuracy: 0.3636 - 15ms/epoch - 15ms/step\n",
      "Epoch 10/200\n",
      "1/1 - 0s - loss: 2.3596 - accuracy: 0.4545 - 18ms/epoch - 18ms/step\n",
      "Epoch 11/200\n",
      "1/1 - 0s - loss: 2.3415 - accuracy: 0.3636 - 15ms/epoch - 15ms/step\n",
      "Epoch 12/200\n",
      "1/1 - 0s - loss: 2.3225 - accuracy: 0.3636 - 16ms/epoch - 16ms/step\n",
      "Epoch 13/200\n",
      "1/1 - 0s - loss: 2.3028 - accuracy: 0.3636 - 16ms/epoch - 16ms/step\n",
      "Epoch 14/200\n",
      "1/1 - 0s - loss: 2.2822 - accuracy: 0.3636 - 17ms/epoch - 17ms/step\n",
      "Epoch 15/200\n",
      "1/1 - 0s - loss: 2.2607 - accuracy: 0.3636 - 11ms/epoch - 11ms/step\n",
      "Epoch 16/200\n",
      "1/1 - 0s - loss: 2.2384 - accuracy: 0.3636 - 14ms/epoch - 14ms/step\n",
      "Epoch 17/200\n",
      "1/1 - 0s - loss: 2.2151 - accuracy: 0.3636 - 14ms/epoch - 14ms/step\n",
      "Epoch 18/200\n",
      "1/1 - 0s - loss: 2.1911 - accuracy: 0.3636 - 15ms/epoch - 15ms/step\n",
      "Epoch 19/200\n",
      "1/1 - 0s - loss: 2.1664 - accuracy: 0.3636 - 12ms/epoch - 12ms/step\n",
      "Epoch 20/200\n",
      "1/1 - 0s - loss: 2.1411 - accuracy: 0.3636 - 11ms/epoch - 11ms/step\n",
      "Epoch 21/200\n",
      "1/1 - 0s - loss: 2.1154 - accuracy: 0.3636 - 13ms/epoch - 13ms/step\n",
      "Epoch 22/200\n",
      "1/1 - 0s - loss: 2.0894 - accuracy: 0.3636 - 12ms/epoch - 12ms/step\n",
      "Epoch 23/200\n",
      "1/1 - 0s - loss: 2.0635 - accuracy: 0.3636 - 12ms/epoch - 12ms/step\n",
      "Epoch 24/200\n",
      "1/1 - 0s - loss: 2.0378 - accuracy: 0.3636 - 12ms/epoch - 12ms/step\n",
      "Epoch 25/200\n",
      "1/1 - 0s - loss: 2.0126 - accuracy: 0.3636 - 12ms/epoch - 12ms/step\n",
      "Epoch 26/200\n",
      "1/1 - 0s - loss: 1.9883 - accuracy: 0.3636 - 12ms/epoch - 12ms/step\n",
      "Epoch 27/200\n",
      "1/1 - 0s - loss: 1.9650 - accuracy: 0.3636 - 12ms/epoch - 12ms/step\n",
      "Epoch 28/200\n",
      "1/1 - 0s - loss: 1.9430 - accuracy: 0.3636 - 12ms/epoch - 12ms/step\n",
      "Epoch 29/200\n",
      "1/1 - 0s - loss: 1.9224 - accuracy: 0.3636 - 14ms/epoch - 14ms/step\n",
      "Epoch 30/200\n",
      "1/1 - 0s - loss: 1.9035 - accuracy: 0.3636 - 15ms/epoch - 15ms/step\n",
      "Epoch 31/200\n",
      "1/1 - 0s - loss: 1.8862 - accuracy: 0.3636 - 12ms/epoch - 12ms/step\n",
      "Epoch 32/200\n",
      "1/1 - 0s - loss: 1.8704 - accuracy: 0.3636 - 12ms/epoch - 12ms/step\n",
      "Epoch 33/200\n",
      "1/1 - 0s - loss: 1.8561 - accuracy: 0.3636 - 12ms/epoch - 12ms/step\n",
      "Epoch 34/200\n",
      "1/1 - 0s - loss: 1.8428 - accuracy: 0.3636 - 11ms/epoch - 11ms/step\n",
      "Epoch 35/200\n",
      "1/1 - 0s - loss: 1.8305 - accuracy: 0.3636 - 14ms/epoch - 14ms/step\n",
      "Epoch 36/200\n",
      "1/1 - 0s - loss: 1.8186 - accuracy: 0.3636 - 14ms/epoch - 14ms/step\n",
      "Epoch 37/200\n",
      "1/1 - 0s - loss: 1.8070 - accuracy: 0.3636 - 14ms/epoch - 14ms/step\n",
      "Epoch 38/200\n",
      "1/1 - 0s - loss: 1.7953 - accuracy: 0.3636 - 13ms/epoch - 13ms/step\n",
      "Epoch 39/200\n",
      "1/1 - 0s - loss: 1.7834 - accuracy: 0.3636 - 13ms/epoch - 13ms/step\n",
      "Epoch 40/200\n",
      "1/1 - 0s - loss: 1.7712 - accuracy: 0.3636 - 13ms/epoch - 13ms/step\n",
      "Epoch 41/200\n",
      "1/1 - 0s - loss: 1.7585 - accuracy: 0.3636 - 12ms/epoch - 12ms/step\n",
      "Epoch 42/200\n",
      "1/1 - 0s - loss: 1.7455 - accuracy: 0.3636 - 13ms/epoch - 13ms/step\n",
      "Epoch 43/200\n",
      "1/1 - 0s - loss: 1.7322 - accuracy: 0.3636 - 15ms/epoch - 15ms/step\n",
      "Epoch 44/200\n",
      "1/1 - 0s - loss: 1.7185 - accuracy: 0.3636 - 14ms/epoch - 14ms/step\n",
      "Epoch 45/200\n",
      "1/1 - 0s - loss: 1.7046 - accuracy: 0.3636 - 13ms/epoch - 13ms/step\n",
      "Epoch 46/200\n",
      "1/1 - 0s - loss: 1.6905 - accuracy: 0.3636 - 14ms/epoch - 14ms/step\n",
      "Epoch 47/200\n",
      "1/1 - 0s - loss: 1.6761 - accuracy: 0.3636 - 14ms/epoch - 14ms/step\n",
      "Epoch 48/200\n",
      "1/1 - 0s - loss: 1.6615 - accuracy: 0.3636 - 14ms/epoch - 14ms/step\n",
      "Epoch 49/200\n",
      "1/1 - 0s - loss: 1.6464 - accuracy: 0.4545 - 13ms/epoch - 13ms/step\n",
      "Epoch 50/200\n",
      "1/1 - 0s - loss: 1.6309 - accuracy: 0.4545 - 11ms/epoch - 11ms/step\n",
      "Epoch 51/200\n",
      "1/1 - 0s - loss: 1.6148 - accuracy: 0.4545 - 11ms/epoch - 11ms/step\n",
      "Epoch 52/200\n",
      "1/1 - 0s - loss: 1.5981 - accuracy: 0.4545 - 14ms/epoch - 14ms/step\n",
      "Epoch 53/200\n",
      "1/1 - 0s - loss: 1.5808 - accuracy: 0.4545 - 13ms/epoch - 13ms/step\n",
      "Epoch 54/200\n",
      "1/1 - 0s - loss: 1.5629 - accuracy: 0.4545 - 14ms/epoch - 14ms/step\n",
      "Epoch 55/200\n",
      "1/1 - 0s - loss: 1.5444 - accuracy: 0.4545 - 14ms/epoch - 14ms/step\n",
      "Epoch 56/200\n",
      "1/1 - 0s - loss: 1.5253 - accuracy: 0.4545 - 14ms/epoch - 14ms/step\n",
      "Epoch 57/200\n",
      "1/1 - 0s - loss: 1.5059 - accuracy: 0.5455 - 14ms/epoch - 14ms/step\n",
      "Epoch 58/200\n",
      "1/1 - 0s - loss: 1.4860 - accuracy: 0.5455 - 14ms/epoch - 14ms/step\n",
      "Epoch 59/200\n",
      "1/1 - 0s - loss: 1.4659 - accuracy: 0.5455 - 12ms/epoch - 12ms/step\n",
      "Epoch 60/200\n",
      "1/1 - 0s - loss: 1.4455 - accuracy: 0.5455 - 14ms/epoch - 14ms/step\n",
      "Epoch 61/200\n",
      "1/1 - 0s - loss: 1.4248 - accuracy: 0.5455 - 11ms/epoch - 11ms/step\n",
      "Epoch 62/200\n",
      "1/1 - 0s - loss: 1.4039 - accuracy: 0.5455 - 12ms/epoch - 12ms/step\n",
      "Epoch 63/200\n",
      "1/1 - 0s - loss: 1.3829 - accuracy: 0.5455 - 12ms/epoch - 12ms/step\n",
      "Epoch 64/200\n",
      "1/1 - 0s - loss: 1.3616 - accuracy: 0.5455 - 13ms/epoch - 13ms/step\n",
      "Epoch 65/200\n",
      "1/1 - 0s - loss: 1.3403 - accuracy: 0.5455 - 12ms/epoch - 12ms/step\n",
      "Epoch 66/200\n",
      "1/1 - 0s - loss: 1.3188 - accuracy: 0.5455 - 14ms/epoch - 14ms/step\n",
      "Epoch 67/200\n",
      "1/1 - 0s - loss: 1.2974 - accuracy: 0.6364 - 14ms/epoch - 14ms/step\n",
      "Epoch 68/200\n",
      "1/1 - 0s - loss: 1.2759 - accuracy: 0.6364 - 13ms/epoch - 13ms/step\n",
      "Epoch 69/200\n",
      "1/1 - 0s - loss: 1.2547 - accuracy: 0.6364 - 14ms/epoch - 14ms/step\n",
      "Epoch 70/200\n",
      "1/1 - 0s - loss: 1.2335 - accuracy: 0.6364 - 11ms/epoch - 11ms/step\n",
      "Epoch 71/200\n",
      "1/1 - 0s - loss: 1.2126 - accuracy: 0.6364 - 12ms/epoch - 12ms/step\n",
      "Epoch 72/200\n",
      "1/1 - 0s - loss: 1.1920 - accuracy: 0.6364 - 12ms/epoch - 12ms/step\n",
      "Epoch 73/200\n",
      "1/1 - 0s - loss: 1.1716 - accuracy: 0.6364 - 13ms/epoch - 13ms/step\n",
      "Epoch 74/200\n",
      "1/1 - 0s - loss: 1.1516 - accuracy: 0.6364 - 13ms/epoch - 13ms/step\n",
      "Epoch 75/200\n",
      "1/1 - 0s - loss: 1.1319 - accuracy: 0.6364 - 13ms/epoch - 13ms/step\n",
      "Epoch 76/200\n",
      "1/1 - 0s - loss: 1.1125 - accuracy: 0.6364 - 13ms/epoch - 13ms/step\n",
      "Epoch 77/200\n",
      "1/1 - 0s - loss: 1.0935 - accuracy: 0.6364 - 13ms/epoch - 13ms/step\n",
      "Epoch 78/200\n",
      "1/1 - 0s - loss: 1.0750 - accuracy: 0.6364 - 10ms/epoch - 10ms/step\n",
      "Epoch 79/200\n",
      "1/1 - 0s - loss: 1.0568 - accuracy: 0.6364 - 11ms/epoch - 11ms/step\n",
      "Epoch 80/200\n",
      "1/1 - 0s - loss: 1.0390 - accuracy: 0.7273 - 13ms/epoch - 13ms/step\n",
      "Epoch 81/200\n",
      "1/1 - 0s - loss: 1.0216 - accuracy: 0.7273 - 12ms/epoch - 12ms/step\n",
      "Epoch 82/200\n",
      "1/1 - 0s - loss: 1.0046 - accuracy: 0.7273 - 14ms/epoch - 14ms/step\n",
      "Epoch 83/200\n",
      "1/1 - 0s - loss: 0.9880 - accuracy: 0.7273 - 14ms/epoch - 14ms/step\n",
      "Epoch 84/200\n",
      "1/1 - 0s - loss: 0.9717 - accuracy: 0.7273 - 13ms/epoch - 13ms/step\n",
      "Epoch 85/200\n",
      "1/1 - 0s - loss: 0.9557 - accuracy: 0.7273 - 11ms/epoch - 11ms/step\n",
      "Epoch 86/200\n",
      "1/1 - 0s - loss: 0.9400 - accuracy: 0.7273 - 12ms/epoch - 12ms/step\n",
      "Epoch 87/200\n",
      "1/1 - 0s - loss: 0.9246 - accuracy: 0.7273 - 11ms/epoch - 11ms/step\n",
      "Epoch 88/200\n",
      "1/1 - 0s - loss: 0.9095 - accuracy: 0.7273 - 13ms/epoch - 13ms/step\n",
      "Epoch 89/200\n",
      "1/1 - 0s - loss: 0.8946 - accuracy: 0.7273 - 13ms/epoch - 13ms/step\n",
      "Epoch 90/200\n",
      "1/1 - 0s - loss: 0.8800 - accuracy: 0.7273 - 13ms/epoch - 13ms/step\n",
      "Epoch 91/200\n",
      "1/1 - 0s - loss: 0.8656 - accuracy: 0.7273 - 13ms/epoch - 13ms/step\n",
      "Epoch 92/200\n",
      "1/1 - 0s - loss: 0.8515 - accuracy: 0.7273 - 11ms/epoch - 11ms/step\n",
      "Epoch 93/200\n",
      "1/1 - 0s - loss: 0.8375 - accuracy: 0.7273 - 11ms/epoch - 11ms/step\n",
      "Epoch 94/200\n",
      "1/1 - 0s - loss: 0.8238 - accuracy: 0.7273 - 12ms/epoch - 12ms/step\n",
      "Epoch 95/200\n",
      "1/1 - 0s - loss: 0.8103 - accuracy: 0.8182 - 13ms/epoch - 13ms/step\n",
      "Epoch 96/200\n",
      "1/1 - 0s - loss: 0.7969 - accuracy: 0.8182 - 13ms/epoch - 13ms/step\n",
      "Epoch 97/200\n",
      "1/1 - 0s - loss: 0.7838 - accuracy: 0.8182 - 13ms/epoch - 13ms/step\n",
      "Epoch 98/200\n",
      "1/1 - 0s - loss: 0.7708 - accuracy: 0.8182 - 13ms/epoch - 13ms/step\n",
      "Epoch 99/200\n",
      "1/1 - 0s - loss: 0.7581 - accuracy: 0.8182 - 11ms/epoch - 11ms/step\n",
      "Epoch 100/200\n",
      "1/1 - 0s - loss: 0.7455 - accuracy: 0.8182 - 11ms/epoch - 11ms/step\n",
      "Epoch 101/200\n",
      "1/1 - 0s - loss: 0.7332 - accuracy: 0.8182 - 12ms/epoch - 12ms/step\n",
      "Epoch 102/200\n",
      "1/1 - 0s - loss: 0.7210 - accuracy: 0.8182 - 13ms/epoch - 13ms/step\n"
     ]
    },
    {
     "name": "stdout",
     "output_type": "stream",
     "text": [
      "Epoch 103/200\n",
      "1/1 - 0s - loss: 0.7090 - accuracy: 0.8182 - 13ms/epoch - 13ms/step\n",
      "Epoch 104/200\n",
      "1/1 - 0s - loss: 0.6972 - accuracy: 0.8182 - 13ms/epoch - 13ms/step\n",
      "Epoch 105/200\n",
      "1/1 - 0s - loss: 0.6856 - accuracy: 0.8182 - 12ms/epoch - 12ms/step\n",
      "Epoch 106/200\n",
      "1/1 - 0s - loss: 0.6741 - accuracy: 0.8182 - 11ms/epoch - 11ms/step\n",
      "Epoch 107/200\n",
      "1/1 - 0s - loss: 0.6629 - accuracy: 0.8182 - 10ms/epoch - 10ms/step\n",
      "Epoch 108/200\n",
      "1/1 - 0s - loss: 0.6518 - accuracy: 0.8182 - 12ms/epoch - 12ms/step\n",
      "Epoch 109/200\n",
      "1/1 - 0s - loss: 0.6409 - accuracy: 0.8182 - 12ms/epoch - 12ms/step\n",
      "Epoch 110/200\n",
      "1/1 - 0s - loss: 0.6302 - accuracy: 0.8182 - 13ms/epoch - 13ms/step\n",
      "Epoch 111/200\n",
      "1/1 - 0s - loss: 0.6196 - accuracy: 0.8182 - 12ms/epoch - 12ms/step\n",
      "Epoch 112/200\n",
      "1/1 - 0s - loss: 0.6093 - accuracy: 0.8182 - 11ms/epoch - 11ms/step\n",
      "Epoch 113/200\n",
      "1/1 - 0s - loss: 0.5990 - accuracy: 0.8182 - 11ms/epoch - 11ms/step\n",
      "Epoch 114/200\n",
      "1/1 - 0s - loss: 0.5890 - accuracy: 0.8182 - 12ms/epoch - 12ms/step\n",
      "Epoch 115/200\n",
      "1/1 - 0s - loss: 0.5791 - accuracy: 0.8182 - 12ms/epoch - 12ms/step\n",
      "Epoch 116/200\n",
      "1/1 - 0s - loss: 0.5694 - accuracy: 0.8182 - 13ms/epoch - 13ms/step\n",
      "Epoch 117/200\n",
      "1/1 - 0s - loss: 0.5599 - accuracy: 0.8182 - 13ms/epoch - 13ms/step\n",
      "Epoch 118/200\n",
      "1/1 - 0s - loss: 0.5505 - accuracy: 0.8182 - 10ms/epoch - 10ms/step\n",
      "Epoch 119/200\n",
      "1/1 - 0s - loss: 0.5413 - accuracy: 0.8182 - 11ms/epoch - 11ms/step\n",
      "Epoch 120/200\n",
      "1/1 - 0s - loss: 0.5322 - accuracy: 0.8182 - 14ms/epoch - 14ms/step\n",
      "Epoch 121/200\n",
      "1/1 - 0s - loss: 0.5233 - accuracy: 0.8182 - 13ms/epoch - 13ms/step\n",
      "Epoch 122/200\n",
      "1/1 - 0s - loss: 0.5145 - accuracy: 0.8182 - 13ms/epoch - 13ms/step\n",
      "Epoch 123/200\n",
      "1/1 - 0s - loss: 0.5059 - accuracy: 0.9091 - 13ms/epoch - 13ms/step\n",
      "Epoch 124/200\n",
      "1/1 - 0s - loss: 0.4975 - accuracy: 0.9091 - 14ms/epoch - 14ms/step\n",
      "Epoch 125/200\n",
      "1/1 - 0s - loss: 0.4892 - accuracy: 0.9091 - 14ms/epoch - 14ms/step\n",
      "Epoch 126/200\n",
      "1/1 - 0s - loss: 0.4810 - accuracy: 0.9091 - 14ms/epoch - 14ms/step\n",
      "Epoch 127/200\n",
      "1/1 - 0s - loss: 0.4730 - accuracy: 0.9091 - 10ms/epoch - 10ms/step\n",
      "Epoch 128/200\n",
      "1/1 - 0s - loss: 0.4651 - accuracy: 0.9091 - 12ms/epoch - 12ms/step\n",
      "Epoch 129/200\n",
      "1/1 - 0s - loss: 0.4574 - accuracy: 0.9091 - 12ms/epoch - 12ms/step\n",
      "Epoch 130/200\n",
      "1/1 - 0s - loss: 0.4498 - accuracy: 0.9091 - 13ms/epoch - 13ms/step\n",
      "Epoch 131/200\n",
      "1/1 - 0s - loss: 0.4423 - accuracy: 0.9091 - 13ms/epoch - 13ms/step\n",
      "Epoch 132/200\n",
      "1/1 - 0s - loss: 0.4350 - accuracy: 0.9091 - 13ms/epoch - 13ms/step\n",
      "Epoch 133/200\n",
      "1/1 - 0s - loss: 0.4278 - accuracy: 0.9091 - 15ms/epoch - 15ms/step\n",
      "Epoch 134/200\n",
      "1/1 - 0s - loss: 0.4207 - accuracy: 0.9091 - 13ms/epoch - 13ms/step\n",
      "Epoch 135/200\n",
      "1/1 - 0s - loss: 0.4137 - accuracy: 0.9091 - 13ms/epoch - 13ms/step\n",
      "Epoch 136/200\n",
      "1/1 - 0s - loss: 0.4068 - accuracy: 0.9091 - 11ms/epoch - 11ms/step\n",
      "Epoch 137/200\n",
      "1/1 - 0s - loss: 0.4001 - accuracy: 0.9091 - 11ms/epoch - 11ms/step\n",
      "Epoch 138/200\n",
      "1/1 - 0s - loss: 0.3934 - accuracy: 0.9091 - 11ms/epoch - 11ms/step\n",
      "Epoch 139/200\n",
      "1/1 - 0s - loss: 0.3869 - accuracy: 0.9091 - 13ms/epoch - 13ms/step\n",
      "Epoch 140/200\n",
      "1/1 - 0s - loss: 0.3804 - accuracy: 0.9091 - 13ms/epoch - 13ms/step\n",
      "Epoch 141/200\n",
      "1/1 - 0s - loss: 0.3741 - accuracy: 0.9091 - 13ms/epoch - 13ms/step\n",
      "Epoch 142/200\n",
      "1/1 - 0s - loss: 0.3678 - accuracy: 0.9091 - 14ms/epoch - 14ms/step\n",
      "Epoch 143/200\n",
      "1/1 - 0s - loss: 0.3616 - accuracy: 0.9091 - 14ms/epoch - 14ms/step\n",
      "Epoch 144/200\n",
      "1/1 - 0s - loss: 0.3556 - accuracy: 0.9091 - 13ms/epoch - 13ms/step\n",
      "Epoch 145/200\n",
      "1/1 - 0s - loss: 0.3496 - accuracy: 0.9091 - 13ms/epoch - 13ms/step\n",
      "Epoch 146/200\n",
      "1/1 - 0s - loss: 0.3436 - accuracy: 0.9091 - 11ms/epoch - 11ms/step\n",
      "Epoch 147/200\n",
      "1/1 - 0s - loss: 0.3378 - accuracy: 0.9091 - 11ms/epoch - 11ms/step\n",
      "Epoch 148/200\n",
      "1/1 - 0s - loss: 0.3321 - accuracy: 0.9091 - 12ms/epoch - 12ms/step\n",
      "Epoch 149/200\n",
      "1/1 - 0s - loss: 0.3264 - accuracy: 0.9091 - 13ms/epoch - 13ms/step\n",
      "Epoch 150/200\n",
      "1/1 - 0s - loss: 0.3208 - accuracy: 0.9091 - 13ms/epoch - 13ms/step\n",
      "Epoch 151/200\n",
      "1/1 - 0s - loss: 0.3153 - accuracy: 0.9091 - 13ms/epoch - 13ms/step\n",
      "Epoch 152/200\n",
      "1/1 - 0s - loss: 0.3099 - accuracy: 0.9091 - 13ms/epoch - 13ms/step\n",
      "Epoch 153/200\n",
      "1/1 - 0s - loss: 0.3046 - accuracy: 0.9091 - 14ms/epoch - 14ms/step\n",
      "Epoch 154/200\n",
      "1/1 - 0s - loss: 0.2993 - accuracy: 0.9091 - 12ms/epoch - 12ms/step\n",
      "Epoch 155/200\n",
      "1/1 - 0s - loss: 0.2941 - accuracy: 1.0000 - 11ms/epoch - 11ms/step\n",
      "Epoch 156/200\n",
      "1/1 - 0s - loss: 0.2890 - accuracy: 1.0000 - 11ms/epoch - 11ms/step\n",
      "Epoch 157/200\n",
      "1/1 - 0s - loss: 0.2840 - accuracy: 1.0000 - 13ms/epoch - 13ms/step\n",
      "Epoch 158/200\n",
      "1/1 - 0s - loss: 0.2790 - accuracy: 1.0000 - 14ms/epoch - 14ms/step\n",
      "Epoch 159/200\n",
      "1/1 - 0s - loss: 0.2741 - accuracy: 1.0000 - 12ms/epoch - 12ms/step\n",
      "Epoch 160/200\n",
      "1/1 - 0s - loss: 0.2693 - accuracy: 1.0000 - 15ms/epoch - 15ms/step\n",
      "Epoch 161/200\n",
      "1/1 - 0s - loss: 0.2645 - accuracy: 1.0000 - 15ms/epoch - 15ms/step\n",
      "Epoch 162/200\n",
      "1/1 - 0s - loss: 0.2599 - accuracy: 1.0000 - 15ms/epoch - 15ms/step\n",
      "Epoch 163/200\n",
      "1/1 - 0s - loss: 0.2553 - accuracy: 1.0000 - 14ms/epoch - 14ms/step\n",
      "Epoch 164/200\n",
      "1/1 - 0s - loss: 0.2507 - accuracy: 1.0000 - 16ms/epoch - 16ms/step\n",
      "Epoch 165/200\n",
      "1/1 - 0s - loss: 0.2463 - accuracy: 1.0000 - 15ms/epoch - 15ms/step\n",
      "Epoch 166/200\n",
      "1/1 - 0s - loss: 0.2419 - accuracy: 1.0000 - 14ms/epoch - 14ms/step\n",
      "Epoch 167/200\n",
      "1/1 - 0s - loss: 0.2376 - accuracy: 1.0000 - 15ms/epoch - 15ms/step\n",
      "Epoch 168/200\n",
      "1/1 - 0s - loss: 0.2333 - accuracy: 1.0000 - 15ms/epoch - 15ms/step\n",
      "Epoch 169/200\n",
      "1/1 - 0s - loss: 0.2292 - accuracy: 1.0000 - 14ms/epoch - 14ms/step\n",
      "Epoch 170/200\n",
      "1/1 - 0s - loss: 0.2250 - accuracy: 1.0000 - 15ms/epoch - 15ms/step\n",
      "Epoch 171/200\n",
      "1/1 - 0s - loss: 0.2210 - accuracy: 1.0000 - 16ms/epoch - 16ms/step\n",
      "Epoch 172/200\n",
      "1/1 - 0s - loss: 0.2170 - accuracy: 1.0000 - 14ms/epoch - 14ms/step\n",
      "Epoch 173/200\n",
      "1/1 - 0s - loss: 0.2131 - accuracy: 1.0000 - 15ms/epoch - 15ms/step\n",
      "Epoch 174/200\n",
      "1/1 - 0s - loss: 0.2093 - accuracy: 1.0000 - 14ms/epoch - 14ms/step\n",
      "Epoch 175/200\n",
      "1/1 - 0s - loss: 0.2055 - accuracy: 1.0000 - 15ms/epoch - 15ms/step\n",
      "Epoch 176/200\n",
      "1/1 - 0s - loss: 0.2018 - accuracy: 1.0000 - 16ms/epoch - 16ms/step\n",
      "Epoch 177/200\n",
      "1/1 - 0s - loss: 0.1982 - accuracy: 1.0000 - 17ms/epoch - 17ms/step\n",
      "Epoch 178/200\n",
      "1/1 - 0s - loss: 0.1946 - accuracy: 1.0000 - 17ms/epoch - 17ms/step\n",
      "Epoch 179/200\n",
      "1/1 - 0s - loss: 0.1911 - accuracy: 1.0000 - 14ms/epoch - 14ms/step\n",
      "Epoch 180/200\n",
      "1/1 - 0s - loss: 0.1877 - accuracy: 1.0000 - 17ms/epoch - 17ms/step\n",
      "Epoch 181/200\n",
      "1/1 - 0s - loss: 0.1843 - accuracy: 1.0000 - 15ms/epoch - 15ms/step\n",
      "Epoch 182/200\n",
      "1/1 - 0s - loss: 0.1810 - accuracy: 1.0000 - 14ms/epoch - 14ms/step\n",
      "Epoch 183/200\n",
      "1/1 - 0s - loss: 0.1778 - accuracy: 1.0000 - 15ms/epoch - 15ms/step\n",
      "Epoch 184/200\n",
      "1/1 - 0s - loss: 0.1746 - accuracy: 1.0000 - 16ms/epoch - 16ms/step\n",
      "Epoch 185/200\n",
      "1/1 - 0s - loss: 0.1715 - accuracy: 1.0000 - 16ms/epoch - 16ms/step\n",
      "Epoch 186/200\n",
      "1/1 - 0s - loss: 0.1684 - accuracy: 1.0000 - 14ms/epoch - 14ms/step\n",
      "Epoch 187/200\n",
      "1/1 - 0s - loss: 0.1654 - accuracy: 1.0000 - 16ms/epoch - 16ms/step\n",
      "Epoch 188/200\n",
      "1/1 - 0s - loss: 0.1625 - accuracy: 1.0000 - 17ms/epoch - 17ms/step\n",
      "Epoch 189/200\n",
      "1/1 - 0s - loss: 0.1596 - accuracy: 1.0000 - 16ms/epoch - 16ms/step\n",
      "Epoch 190/200\n",
      "1/1 - 0s - loss: 0.1568 - accuracy: 1.0000 - 15ms/epoch - 15ms/step\n",
      "Epoch 191/200\n",
      "1/1 - 0s - loss: 0.1540 - accuracy: 1.0000 - 16ms/epoch - 16ms/step\n",
      "Epoch 192/200\n",
      "1/1 - 0s - loss: 0.1513 - accuracy: 1.0000 - 15ms/epoch - 15ms/step\n",
      "Epoch 193/200\n",
      "1/1 - 0s - loss: 0.1486 - accuracy: 1.0000 - 16ms/epoch - 16ms/step\n",
      "Epoch 194/200\n",
      "1/1 - 0s - loss: 0.1460 - accuracy: 1.0000 - 14ms/epoch - 14ms/step\n",
      "Epoch 195/200\n",
      "1/1 - 0s - loss: 0.1435 - accuracy: 1.0000 - 13ms/epoch - 13ms/step\n",
      "Epoch 196/200\n",
      "1/1 - 0s - loss: 0.1410 - accuracy: 1.0000 - 15ms/epoch - 15ms/step\n",
      "Epoch 197/200\n",
      "1/1 - 0s - loss: 0.1385 - accuracy: 1.0000 - 18ms/epoch - 18ms/step\n",
      "Epoch 198/200\n",
      "1/1 - 0s - loss: 0.1361 - accuracy: 1.0000 - 16ms/epoch - 16ms/step\n",
      "Epoch 199/200\n",
      "1/1 - 0s - loss: 0.1338 - accuracy: 1.0000 - 14ms/epoch - 14ms/step\n",
      "Epoch 200/200\n",
      "1/1 - 0s - loss: 0.1315 - accuracy: 1.0000 - 16ms/epoch - 16ms/step\n"
     ]
    },
    {
     "data": {
      "text/plain": [
       "<keras.callbacks.History at 0x18fe402e970>"
      ]
     },
     "execution_count": 92,
     "metadata": {},
     "output_type": "execute_result"
    }
   ],
   "source": [
    "embedding_dim = 10\n",
    "hidden_units = 32\n",
    "\n",
    "model = Sequential()\n",
    "model.add(Embedding(vocab_size, embedding_dim))\n",
    "model.add(SimpleRNN(hidden_units))\n",
    "model.add(Dense(vocab_size, activation='softmax'))\n",
    "model.compile(loss='categorical_crossentropy', optimizer='adam', metrics=['accuracy'])\n",
    "model.fit(X, y, epochs=200, verbose=2)"
   ]
  },
  {
   "cell_type": "code",
   "execution_count": 93,
   "metadata": {},
   "outputs": [],
   "source": [
    "def sentence_generation(model, tokenizer, current_word, n): # 모델, 토크나이저, 현재 단어, 반복할 횟수\n",
    "    init_word = current_word\n",
    "    sentence = ''\n",
    "\n",
    "    # n번 반복\n",
    "    for _ in range(n):\n",
    "        # 현재 단어에 대한 정수 인코딩과 패딩\n",
    "        encoded = tokenizer.texts_to_sequences([current_word])[0]\n",
    "        encoded = pad_sequences([encoded], maxlen=5, padding='pre')\n",
    "        # 입력한 X(현재 단어)에 대해서 Y를 예측하고 Y(예측한 단어)를 result에 저장.\n",
    "        result = model.predict(encoded, verbose=0)\n",
    "        result = np.argmax(result, axis=1)\n",
    "\n",
    "        for word, index in tokenizer.word_index.items(): \n",
    "            # 만약 예측한 단어와 인덱스와 동일한 단어가 있다면 break\n",
    "            if index == result:\n",
    "                break\n",
    "\n",
    "        # 현재 단어 + ' ' + 예측 단어를 현재 단어로 변경\n",
    "        current_word = current_word + ' '  + word\n",
    "\n",
    "        # 예측 단어를 문장에 저장\n",
    "        sentence = sentence + ' ' + word\n",
    "\n",
    "    sentence = init_word + sentence\n",
    "    return sentence"
   ]
  },
  {
   "cell_type": "code",
   "execution_count": 94,
   "metadata": {},
   "outputs": [
    {
     "name": "stdout",
     "output_type": "stream",
     "text": [
      "경마장에 있는 말이 뛰고 있다\n"
     ]
    }
   ],
   "source": [
    "print(sentence_generation(model, tokenizer, '경마장에', 4))"
   ]
  },
  {
   "cell_type": "code",
   "execution_count": 95,
   "metadata": {},
   "outputs": [
    {
     "name": "stdout",
     "output_type": "stream",
     "text": [
      "그의 말이 법이다\n"
     ]
    }
   ],
   "source": [
    "print(sentence_generation(model, tokenizer, '그의', 2))"
   ]
  },
  {
   "cell_type": "code",
   "execution_count": 96,
   "metadata": {},
   "outputs": [
    {
     "name": "stdout",
     "output_type": "stream",
     "text": [
      "가는 말이 고와야 오는 말이 곱다\n"
     ]
    }
   ],
   "source": [
    "print(sentence_generation(model, tokenizer, '가는', 5))"
   ]
  },
  {
   "cell_type": "markdown",
   "metadata": {},
   "source": [
    "- 이 모델은 충분한 훈련 데이터를 갖고 있지 못하므로 위에서 문장의 길이에 맞게 적절하게 예측해야하는 횟수 4, 2, 5를 각각 인자값으로 줌\n",
    "- 이 이상의 숫자를 주면 기계는 '있다', '법이다', '곱다' 다음에 나오는 단어가 무엇인지 배운 적이 없으므로 임의 예측을 함"
   ]
  },
  {
   "cell_type": "markdown",
   "metadata": {},
   "source": [
    "### 2. LSTM을 이용하여 텍스트 생성하기"
   ]
  },
  {
   "cell_type": "markdown",
   "metadata": {},
   "source": [
    "#### (1) 데이터에 대한 이해와 전처리"
   ]
  },
  {
   "cell_type": "markdown",
   "metadata": {},
   "source": [
    "#### (2) 모델 설계하기"
   ]
  },
  {
   "attachments": {
    "char_rnn1.png": {
     "image/png": "[encoded data removed]"
    }
   },
   "cell_type": "markdown",
   "metadata": {},
   "source": [
    "## 08-07 문자 단위 RNN(Char RNN)\n",
    "\n",
    "![char_rnn1.png](attachment:char_rnn1.png)\n"
   ]
  },
  {
   "attachments": {},
   "cell_type": "markdown",
   "metadata": {},
   "source": [
    "### 1. 문자 단위 RNN 언어 모델(Char RNNLM)"
   ]
  },
  {
   "cell_type": "markdown",
   "metadata": {},
   "source": [
    "#### (1) 데이터에 대한 이해와 전처리"
   ]
  },
  {
   "cell_type": "code",
   "execution_count": 97,
   "metadata": {},
   "outputs": [],
   "source": [
    "import numpy as np\n",
    "import urllib.request\n",
    "from tensorflow.keras.utils import to_categorical\n",
    "\n",
    "# 데이터 로드\n",
    "urllib.request.urlretrieve(\"http://www.gutenberg.org/files/11/11-0.txt\", filename=\"11-0.txt\")\n",
    "\n",
    "f = open('11-0.txt', 'rb')\n",
    "sentences = []\n",
    "for sentence in f: # 데이터로부터 한 줄씩 읽는다.\n",
    "    sentence = sentence.strip() # strip()을 통해 \\r, \\n을 제거한다.\n",
    "    sentence = sentence.lower() # 소문자화.\n",
    "    sentence = sentence.decode('ascii', 'ignore') # \\xe2\\x80\\x99 등과 같은 바이트 열 제거\n",
    "    if len(sentence) > 0:\n",
    "        sentences.append(sentence)\n",
    "f.close()"
   ]
  },
  {
   "cell_type": "code",
   "execution_count": 98,
   "metadata": {},
   "outputs": [
    {
     "name": "stdout",
     "output_type": "stream",
     "text": [
      "문자열의 길이 또는 총 문자의 개수: 159484\n"
     ]
    }
   ],
   "source": [
    "total_data = ' '.join(sentences)\n",
    "print('문자열의 길이 또는 총 문자의 개수: %d' % len(total_data))"
   ]
  },
  {
   "cell_type": "code",
   "execution_count": 99,
   "metadata": {},
   "outputs": [
    {
     "name": "stdout",
     "output_type": "stream",
     "text": [
      "the project gutenberg ebook of alices adventures in wonderland, by lewis carroll this ebook is for the use of anyone anywhere in the united states and most other parts of the world at no cost and with\n"
     ]
    }
   ],
   "source": [
    "print(total_data[:200])"
   ]
  },
  {
   "cell_type": "code",
   "execution_count": 100,
   "metadata": {},
   "outputs": [
    {
     "name": "stdout",
     "output_type": "stream",
     "text": [
      "문자 집합의 크기 : 56\n"
     ]
    }
   ],
   "source": [
    "char_vocab = sorted(list(set(total_data)))\n",
    "vocab_size = len(char_vocab)\n",
    "print ('문자 집합의 크기 : {}'.format(vocab_size))"
   ]
  },
  {
   "cell_type": "code",
   "execution_count": 101,
   "metadata": {},
   "outputs": [
    {
     "name": "stdout",
     "output_type": "stream",
     "text": [
      "문자 집합 : {' ': 0, '!': 1, '\"': 2, '#': 3, '$': 4, '%': 5, \"'\": 6, '(': 7, ')': 8, '*': 9, ',': 10, '-': 11, '.': 12, '/': 13, '0': 14, '1': 15, '2': 16, '3': 17, '4': 18, '5': 19, '6': 20, '7': 21, '8': 22, '9': 23, ':': 24, ';': 25, '?': 26, '[': 27, ']': 28, '_': 29, 'a': 30, 'b': 31, 'c': 32, 'd': 33, 'e': 34, 'f': 35, 'g': 36, 'h': 37, 'i': 38, 'j': 39, 'k': 40, 'l': 41, 'm': 42, 'n': 43, 'o': 44, 'p': 45, 'q': 46, 'r': 47, 's': 48, 't': 49, 'u': 50, 'v': 51, 'w': 52, 'x': 53, 'y': 54, 'z': 55}\n"
     ]
    }
   ],
   "source": [
    "# 문자에 고유한 정수 부여\n",
    "char_to_index = dict((char, index) for index, char in enumerate(char_vocab))\n",
    "print('문자 집합 :',char_to_index)"
   ]
  },
  {
   "cell_type": "code",
   "execution_count": 102,
   "metadata": {},
   "outputs": [],
   "source": [
    "index_to_char = {}\n",
    "for key, value in char_to_index.items():\n",
    "    index_to_char[value] = key"
   ]
  },
  {
   "cell_type": "code",
   "execution_count": 103,
   "metadata": {},
   "outputs": [],
   "source": [
    "# appl (입력 시퀀스) -> pple (예측해야하는 시퀀스)\n",
    "train_X = 'appl'\n",
    "train_y = 'pple'"
   ]
  },
  {
   "cell_type": "code",
   "execution_count": 104,
   "metadata": {},
   "outputs": [
    {
     "name": "stdout",
     "output_type": "stream",
     "text": [
      "샘플의 수 : 2658\n"
     ]
    }
   ],
   "source": [
    "seq_length = 60\n",
    "\n",
    "# 문자열의 길이를 seq_length로 나누면 전처리 후 생겨날 샘플 수\n",
    "n_samples = int(np.floor((len(total_data) - 1) / seq_length))\n",
    "print ('샘플의 수 : {}'.format(n_samples))"
   ]
  },
  {
   "cell_type": "code",
   "execution_count": 105,
   "metadata": {},
   "outputs": [],
   "source": [
    "train_X = []\n",
    "train_y = []\n",
    "\n",
    "for i in range(n_samples):\n",
    "    # 0:60 -> 60:120 -> 120:180로 loop를 돌면서 문장 샘플을 1개씩 pick.\n",
    "    X_sample = total_data[i * seq_length: (i + 1) * seq_length]\n",
    "\n",
    "    # 정수 인코딩\n",
    "    X_encoded = [char_to_index[c] for c in X_sample]\n",
    "    train_X.append(X_encoded)\n",
    "\n",
    "    # 오른쪽으로 1칸 쉬프트\n",
    "    y_sample = total_data[i * seq_length + 1: (i + 1) * seq_length + 1]\n",
    "    y_encoded = [char_to_index[c] for c in y_sample]\n",
    "    train_y.append(y_encoded)"
   ]
  },
  {
   "cell_type": "code",
   "execution_count": 106,
   "metadata": {},
   "outputs": [
    {
     "name": "stdout",
     "output_type": "stream",
     "text": [
      "X 데이터의 첫번째 샘플 : [49, 37, 34, 0, 45, 47, 44, 39, 34, 32, 49, 0, 36, 50, 49, 34, 43, 31, 34, 47, 36, 0, 34, 31, 44, 44, 40, 0, 44, 35, 0, 30, 41, 38, 32, 34, 48, 0, 30, 33, 51, 34, 43, 49, 50, 47, 34, 48, 0, 38, 43, 0, 52, 44, 43, 33, 34, 47, 41, 30]\n",
      "y 데이터의 첫번째 샘플 : [37, 34, 0, 45, 47, 44, 39, 34, 32, 49, 0, 36, 50, 49, 34, 43, 31, 34, 47, 36, 0, 34, 31, 44, 44, 40, 0, 44, 35, 0, 30, 41, 38, 32, 34, 48, 0, 30, 33, 51, 34, 43, 49, 50, 47, 34, 48, 0, 38, 43, 0, 52, 44, 43, 33, 34, 47, 41, 30, 43]\n",
      "--------------------------------------------------\n",
      "X 데이터의 첫번째 샘플 디코딩 : ['t', 'h', 'e', ' ', 'p', 'r', 'o', 'j', 'e', 'c', 't', ' ', 'g', 'u', 't', 'e', 'n', 'b', 'e', 'r', 'g', ' ', 'e', 'b', 'o', 'o', 'k', ' ', 'o', 'f', ' ', 'a', 'l', 'i', 'c', 'e', 's', ' ', 'a', 'd', 'v', 'e', 'n', 't', 'u', 'r', 'e', 's', ' ', 'i', 'n', ' ', 'w', 'o', 'n', 'd', 'e', 'r', 'l', 'a']\n",
      "y 데이터의 첫번째 샘플 디코딩 : ['h', 'e', ' ', 'p', 'r', 'o', 'j', 'e', 'c', 't', ' ', 'g', 'u', 't', 'e', 'n', 'b', 'e', 'r', 'g', ' ', 'e', 'b', 'o', 'o', 'k', ' ', 'o', 'f', ' ', 'a', 'l', 'i', 'c', 'e', 's', ' ', 'a', 'd', 'v', 'e', 'n', 't', 'u', 'r', 'e', 's', ' ', 'i', 'n', ' ', 'w', 'o', 'n', 'd', 'e', 'r', 'l', 'a', 'n']\n"
     ]
    }
   ],
   "source": [
    "print('X 데이터의 첫번째 샘플 :',train_X[0])\n",
    "print('y 데이터의 첫번째 샘플 :',train_y[0])\n",
    "print('-'*50)\n",
    "print('X 데이터의 첫번째 샘플 디코딩 :',[index_to_char[i] for i in train_X[0]])\n",
    "print('y 데이터의 첫번째 샘플 디코딩 :',[index_to_char[i] for i in train_y[0]])"
   ]
  },
  {
   "cell_type": "code",
   "execution_count": 107,
   "metadata": {},
   "outputs": [
    {
     "name": "stdout",
     "output_type": "stream",
     "text": [
      "[43, 33, 10, 0, 31, 54, 0, 41, 34, 52, 38, 48, 0, 32, 30, 47, 47, 44, 41, 41, 0, 49, 37, 38, 48, 0, 34, 31, 44, 44, 40, 0, 38, 48, 0, 35, 44, 47, 0, 49, 37, 34, 0, 50, 48, 34, 0, 44, 35, 0, 30, 43, 54, 44, 43, 34, 0, 30, 43, 54]\n",
      "[33, 10, 0, 31, 54, 0, 41, 34, 52, 38, 48, 0, 32, 30, 47, 47, 44, 41, 41, 0, 49, 37, 38, 48, 0, 34, 31, 44, 44, 40, 0, 38, 48, 0, 35, 44, 47, 0, 49, 37, 34, 0, 50, 48, 34, 0, 44, 35, 0, 30, 43, 54, 44, 43, 34, 0, 30, 43, 54, 52]\n"
     ]
    }
   ],
   "source": [
    "print(train_X[1])\n",
    "print(train_y[1])"
   ]
  },
  {
   "cell_type": "code",
   "execution_count": 108,
   "metadata": {},
   "outputs": [
    {
     "name": "stdout",
     "output_type": "stream",
     "text": [
      "train_X의 크기(shape) : (2658, 60, 56)\n",
      "train_y의 크기(shape) : (2658, 60, 56)\n"
     ]
    }
   ],
   "source": [
    "train_X = to_categorical(train_X)\n",
    "train_y = to_categorical(train_y)\n",
    "\n",
    "print('train_X의 크기(shape) : {}'.format(train_X.shape)) # 원-핫 인코딩\n",
    "print('train_y의 크기(shape) : {}'.format(train_y.shape)) # 원-핫 인코딩"
   ]
  },
  {
   "cell_type": "markdown",
   "metadata": {},
   "source": [
    "#### (2) 모델 설계하기"
   ]
  },
  {
   "cell_type": "code",
   "execution_count": 109,
   "metadata": {},
   "outputs": [
    {
     "name": "stdout",
     "output_type": "stream",
     "text": [
      "Epoch 1/80\n",
      "84/84 - 3s - loss: 3.0720 - accuracy: 0.1811 - 3s/epoch - 37ms/step\n",
      "Epoch 2/80\n",
      "84/84 - 1s - loss: 2.7166 - accuracy: 0.2521 - 948ms/epoch - 11ms/step\n",
      "Epoch 3/80\n",
      "84/84 - 1s - loss: 2.3727 - accuracy: 0.3320 - 951ms/epoch - 11ms/step\n",
      "Epoch 4/80\n",
      "84/84 - 1s - loss: 2.2394 - accuracy: 0.3638 - 925ms/epoch - 11ms/step\n",
      "Epoch 5/80\n",
      "84/84 - 1s - loss: 2.1399 - accuracy: 0.3891 - 944ms/epoch - 11ms/step\n",
      "Epoch 6/80\n",
      "84/84 - 1s - loss: 2.0616 - accuracy: 0.4085 - 931ms/epoch - 11ms/step\n",
      "Epoch 7/80\n",
      "84/84 - 1s - loss: 1.9912 - accuracy: 0.4271 - 937ms/epoch - 11ms/step\n",
      "Epoch 8/80\n",
      "84/84 - 1s - loss: 1.9311 - accuracy: 0.4420 - 934ms/epoch - 11ms/step\n",
      "Epoch 9/80\n",
      "84/84 - 1s - loss: 1.8786 - accuracy: 0.4569 - 929ms/epoch - 11ms/step\n",
      "Epoch 10/80\n",
      "84/84 - 1s - loss: 1.8266 - accuracy: 0.4718 - 935ms/epoch - 11ms/step\n",
      "Epoch 11/80\n",
      "84/84 - 1s - loss: 1.7805 - accuracy: 0.4851 - 927ms/epoch - 11ms/step\n",
      "Epoch 12/80\n",
      "84/84 - 1s - loss: 1.7401 - accuracy: 0.4944 - 946ms/epoch - 11ms/step\n",
      "Epoch 13/80\n",
      "84/84 - 1s - loss: 1.6982 - accuracy: 0.5060 - 927ms/epoch - 11ms/step\n",
      "Epoch 14/80\n",
      "84/84 - 1s - loss: 1.6624 - accuracy: 0.5144 - 926ms/epoch - 11ms/step\n",
      "Epoch 15/80\n",
      "84/84 - 1s - loss: 1.6234 - accuracy: 0.5247 - 937ms/epoch - 11ms/step\n",
      "Epoch 16/80\n",
      "84/84 - 1s - loss: 1.5926 - accuracy: 0.5313 - 931ms/epoch - 11ms/step\n",
      "Epoch 17/80\n",
      "84/84 - 1s - loss: 1.5577 - accuracy: 0.5416 - 935ms/epoch - 11ms/step\n",
      "Epoch 18/80\n",
      "84/84 - 1s - loss: 1.5261 - accuracy: 0.5487 - 935ms/epoch - 11ms/step\n",
      "Epoch 19/80\n",
      "84/84 - 1s - loss: 1.4953 - accuracy: 0.5574 - 943ms/epoch - 11ms/step\n",
      "Epoch 20/80\n",
      "84/84 - 1s - loss: 1.4652 - accuracy: 0.5654 - 937ms/epoch - 11ms/step\n",
      "Epoch 21/80\n",
      "84/84 - 1s - loss: 1.4359 - accuracy: 0.5744 - 937ms/epoch - 11ms/step\n",
      "Epoch 22/80\n",
      "84/84 - 1s - loss: 1.4076 - accuracy: 0.5820 - 943ms/epoch - 11ms/step\n",
      "Epoch 23/80\n",
      "84/84 - 1s - loss: 1.3780 - accuracy: 0.5899 - 933ms/epoch - 11ms/step\n",
      "Epoch 24/80\n",
      "84/84 - 1s - loss: 1.3537 - accuracy: 0.5968 - 938ms/epoch - 11ms/step\n",
      "Epoch 25/80\n",
      "84/84 - 1s - loss: 1.3225 - accuracy: 0.6057 - 945ms/epoch - 11ms/step\n",
      "Epoch 26/80\n",
      "84/84 - 1s - loss: 1.2950 - accuracy: 0.6141 - 930ms/epoch - 11ms/step\n",
      "Epoch 27/80\n",
      "84/84 - 1s - loss: 1.2758 - accuracy: 0.6181 - 940ms/epoch - 11ms/step\n",
      "Epoch 28/80\n",
      "84/84 - 1s - loss: 1.2401 - accuracy: 0.6288 - 930ms/epoch - 11ms/step\n",
      "Epoch 29/80\n",
      "84/84 - 1s - loss: 1.2166 - accuracy: 0.6360 - 941ms/epoch - 11ms/step\n",
      "Epoch 30/80\n",
      "84/84 - 1s - loss: 1.1934 - accuracy: 0.6432 - 933ms/epoch - 11ms/step\n",
      "Epoch 31/80\n",
      "84/84 - 1s - loss: 1.1660 - accuracy: 0.6514 - 935ms/epoch - 11ms/step\n",
      "Epoch 32/80\n",
      "84/84 - 1s - loss: 1.1359 - accuracy: 0.6595 - 943ms/epoch - 11ms/step\n",
      "Epoch 33/80\n",
      "84/84 - 1s - loss: 1.1083 - accuracy: 0.6676 - 933ms/epoch - 11ms/step\n",
      "Epoch 34/80\n",
      "84/84 - 1s - loss: 1.0836 - accuracy: 0.6751 - 934ms/epoch - 11ms/step\n",
      "Epoch 35/80\n",
      "84/84 - 1s - loss: 1.0570 - accuracy: 0.6829 - 924ms/epoch - 11ms/step\n",
      "Epoch 36/80\n",
      "84/84 - 1s - loss: 1.0252 - accuracy: 0.6932 - 940ms/epoch - 11ms/step\n",
      "Epoch 37/80\n",
      "84/84 - 1s - loss: 1.0128 - accuracy: 0.6960 - 931ms/epoch - 11ms/step\n",
      "Epoch 38/80\n",
      "84/84 - 1s - loss: 0.9742 - accuracy: 0.7089 - 933ms/epoch - 11ms/step\n",
      "Epoch 39/80\n",
      "84/84 - 1s - loss: 0.9480 - accuracy: 0.7176 - 944ms/epoch - 11ms/step\n",
      "Epoch 40/80\n",
      "84/84 - 1s - loss: 0.9256 - accuracy: 0.7233 - 934ms/epoch - 11ms/step\n",
      "Epoch 41/80\n",
      "84/84 - 1s - loss: 0.8977 - accuracy: 0.7318 - 933ms/epoch - 11ms/step\n",
      "Epoch 42/80\n",
      "84/84 - 1s - loss: 0.8762 - accuracy: 0.7383 - 942ms/epoch - 11ms/step\n",
      "Epoch 43/80\n",
      "84/84 - 1s - loss: 0.8552 - accuracy: 0.7452 - 940ms/epoch - 11ms/step\n",
      "Epoch 44/80\n",
      "84/84 - 1s - loss: 0.8228 - accuracy: 0.7539 - 948ms/epoch - 11ms/step\n",
      "Epoch 45/80\n",
      "84/84 - 1s - loss: 0.7949 - accuracy: 0.7640 - 929ms/epoch - 11ms/step\n",
      "Epoch 46/80\n",
      "84/84 - 1s - loss: 0.7717 - accuracy: 0.7726 - 944ms/epoch - 11ms/step\n",
      "Epoch 47/80\n",
      "84/84 - 1s - loss: 0.7508 - accuracy: 0.7783 - 946ms/epoch - 11ms/step\n",
      "Epoch 48/80\n",
      "84/84 - 1s - loss: 0.7244 - accuracy: 0.7871 - 937ms/epoch - 11ms/step\n",
      "Epoch 49/80\n",
      "84/84 - 1s - loss: 0.7000 - accuracy: 0.7939 - 948ms/epoch - 11ms/step\n",
      "Epoch 50/80\n",
      "84/84 - 1s - loss: 0.6880 - accuracy: 0.7969 - 946ms/epoch - 11ms/step\n",
      "Epoch 51/80\n",
      "84/84 - 1s - loss: 0.6580 - accuracy: 0.8075 - 942ms/epoch - 11ms/step\n",
      "Epoch 52/80\n",
      "84/84 - 1s - loss: 0.6321 - accuracy: 0.8171 - 942ms/epoch - 11ms/step\n",
      "Epoch 53/80\n",
      "84/84 - 1s - loss: 0.6116 - accuracy: 0.8235 - 952ms/epoch - 11ms/step\n",
      "Epoch 54/80\n",
      "84/84 - 1s - loss: 0.5884 - accuracy: 0.8306 - 941ms/epoch - 11ms/step\n",
      "Epoch 55/80\n",
      "84/84 - 1s - loss: 0.5773 - accuracy: 0.8333 - 944ms/epoch - 11ms/step\n",
      "Epoch 56/80\n",
      "84/84 - 1s - loss: 0.5466 - accuracy: 0.8444 - 945ms/epoch - 11ms/step\n",
      "Epoch 57/80\n",
      "84/84 - 1s - loss: 0.5280 - accuracy: 0.8498 - 942ms/epoch - 11ms/step\n",
      "Epoch 58/80\n",
      "84/84 - 1s - loss: 0.5048 - accuracy: 0.8579 - 948ms/epoch - 11ms/step\n",
      "Epoch 59/80\n",
      "84/84 - 1s - loss: 0.4810 - accuracy: 0.8666 - 962ms/epoch - 11ms/step\n",
      "Epoch 60/80\n",
      "84/84 - 1s - loss: 0.4763 - accuracy: 0.8656 - 960ms/epoch - 11ms/step\n",
      "Epoch 61/80\n",
      "84/84 - 1s - loss: 0.4578 - accuracy: 0.8725 - 1s/epoch - 12ms/step\n",
      "Epoch 62/80\n",
      "84/84 - 1s - loss: 0.4438 - accuracy: 0.8762 - 938ms/epoch - 11ms/step\n",
      "Epoch 63/80\n",
      "84/84 - 1s - loss: 0.4295 - accuracy: 0.8810 - 1s/epoch - 12ms/step\n",
      "Epoch 64/80\n",
      "84/84 - 1s - loss: 0.4012 - accuracy: 0.8916 - 964ms/epoch - 11ms/step\n",
      "Epoch 65/80\n",
      "84/84 - 1s - loss: 0.3896 - accuracy: 0.8945 - 948ms/epoch - 11ms/step\n",
      "Epoch 66/80\n",
      "84/84 - 1s - loss: 0.3696 - accuracy: 0.9017 - 945ms/epoch - 11ms/step\n",
      "Epoch 67/80\n",
      "84/84 - 1s - loss: 0.3642 - accuracy: 0.9025 - 951ms/epoch - 11ms/step\n",
      "Epoch 68/80\n",
      "84/84 - 1s - loss: 0.3482 - accuracy: 0.9074 - 976ms/epoch - 12ms/step\n",
      "Epoch 69/80\n",
      "84/84 - 1s - loss: 0.3300 - accuracy: 0.9137 - 977ms/epoch - 12ms/step\n",
      "Epoch 70/80\n",
      "84/84 - 1s - loss: 0.3713 - accuracy: 0.8942 - 986ms/epoch - 12ms/step\n",
      "Epoch 71/80\n",
      "84/84 - 1s - loss: 0.3194 - accuracy: 0.9156 - 972ms/epoch - 12ms/step\n",
      "Epoch 72/80\n",
      "84/84 - 1s - loss: 0.2980 - accuracy: 0.9241 - 972ms/epoch - 12ms/step\n",
      "Epoch 73/80\n",
      "84/84 - 1s - loss: 0.2784 - accuracy: 0.9307 - 989ms/epoch - 12ms/step\n",
      "Epoch 74/80\n",
      "84/84 - 1s - loss: 0.2704 - accuracy: 0.9324 - 980ms/epoch - 12ms/step\n",
      "Epoch 75/80\n",
      "84/84 - 1s - loss: 0.2530 - accuracy: 0.9390 - 964ms/epoch - 11ms/step\n",
      "Epoch 76/80\n",
      "84/84 - 1s - loss: 0.2454 - accuracy: 0.9409 - 987ms/epoch - 12ms/step\n",
      "Epoch 77/80\n",
      "84/84 - 1s - loss: 0.2488 - accuracy: 0.9380 - 973ms/epoch - 12ms/step\n",
      "Epoch 78/80\n",
      "84/84 - 1s - loss: 0.2660 - accuracy: 0.9300 - 966ms/epoch - 11ms/step\n",
      "Epoch 79/80\n",
      "84/84 - 1s - loss: 0.2546 - accuracy: 0.9335 - 954ms/epoch - 11ms/step\n",
      "Epoch 80/80\n",
      "84/84 - 1s - loss: 0.2510 - accuracy: 0.9340 - 1s/epoch - 12ms/step\n"
     ]
    },
    {
     "data": {
      "text/plain": [
       "<keras.callbacks.History at 0x19022d6c3a0>"
      ]
     },
     "execution_count": 109,
     "metadata": {},
     "output_type": "execute_result"
    }
   ],
   "source": [
    "from tensorflow.keras.models import Sequential\n",
    "from tensorflow.keras.layers import Dense, LSTM, TimeDistributed\n",
    "\n",
    "hidden_units = 256\n",
    "\n",
    "model = Sequential()\n",
    "model.add(LSTM(hidden_units, input_shape=(None, train_X.shape[2]), return_sequences=True))\n",
    "model.add(LSTM(hidden_units, return_sequences=True))\n",
    "model.add(TimeDistributed(Dense(vocab_size, activation='softmax')))\n",
    "\n",
    "model.compile(loss='categorical_crossentropy', optimizer='adam', metrics=['accuracy'])\n",
    "model.fit(train_X, train_y, epochs=80, verbose=2)"
   ]
  },
  {
   "cell_type": "code",
   "execution_count": 110,
   "metadata": {},
   "outputs": [],
   "source": [
    "def sentence_generation(model, length):\n",
    "    # 문자에 대한 랜덤한 정수 생성\n",
    "    ix = [np.random.randint(vocab_size)]\n",
    "\n",
    "    # 랜덤한 정수로부터 맵핑되는 문자 생성\n",
    "    y_char = [index_to_char[ix[-1]]]\n",
    "    print(ix[-1],'번 문자',y_char[-1],'로 예측을 시작!')\n",
    "\n",
    "    # (1, length, 55) 크기의 X 생성. 즉, LSTM의 입력 시퀀스 생성\n",
    "    X = np.zeros((1, length, vocab_size))\n",
    "\n",
    "    for i in range(length):\n",
    "        # X[0][i][예측한 문자의 인덱스] = 1, 즉, 예측 문자를 다음 입력 시퀀스에 추가\n",
    "        X[0][i][ix[-1]] = 1\n",
    "        print(index_to_char[ix[-1]], end=\"\")\n",
    "        ix = np.argmax(model.predict(X[:, :i+1, :])[0], 1)\n",
    "        y_char.append(index_to_char[ix[-1]])\n",
    "    return ('').join(y_char)"
   ]
  },
  {
   "cell_type": "code",
   "execution_count": 111,
   "metadata": {},
   "outputs": [
    {
     "name": "stdout",
     "output_type": "stream",
     "text": [
      "34 번 문자 e 로 예측을 시작!\n",
      "1/1 [==============================] - 0s 497ms/step\n",
      "1/1 [==============================] - 0s 468ms/step\n",
      "1/1 [==============================] - 0s 14ms/step\n",
      "1/1 [==============================] - 0s 14ms/step\n",
      "1/1 [==============================] - 0s 14ms/step\n",
      "1/1 [==============================] - 0s 14ms/step\n",
      "1/1 [==============================] - 0s 14ms/step\n",
      "1/1 [==============================] - 0s 14ms/step\n",
      "1/1 [==============================] - 0s 14ms/step\n",
      "1/1 [==============================] - 0s 14ms/step\n",
      "1/1 [==============================] - 0s 14ms/step\n",
      "1/1 [==============================] - 0s 14ms/step\n",
      "1/1 [==============================] - 0s 14ms/step\n",
      "1/1 [==============================] - 0s 15ms/step\n",
      "1/1 [==============================] - 0s 15ms/step\n",
      "1/1 [==============================] - 0s 13ms/step\n",
      "1/1 [==============================] - 0s 14ms/step\n",
      "1/1 [==============================] - 0s 14ms/step\n",
      "1/1 [==============================] - 0s 14ms/step\n",
      "1/1 [==============================] - 0s 14ms/step\n",
      "1/1 [==============================] - 0s 15ms/step\n",
      "1/1 [==============================] - 0s 14ms/step\n",
      "1/1 [==============================] - 0s 15ms/step\n",
      "1/1 [==============================] - 0s 14ms/step\n",
      "1/1 [==============================] - 0s 15ms/step\n",
      "1/1 [==============================] - 0s 15ms/step\n",
      "1/1 [==============================] - 0s 15ms/step\n",
      "1/1 [==============================] - 0s 14ms/step\n",
      "1/1 [==============================] - 0s 15ms/step\n",
      "1/1 [==============================] - 0s 14ms/step\n",
      "1/1 [==============================] - 0s 15ms/step\n",
      "1/1 [==============================] - 0s 14ms/step\n",
      "1/1 [==============================] - 0s 15ms/step\n",
      "1/1 [==============================] - 0s 15ms/step\n",
      "1/1 [==============================] - 0s 16ms/step\n",
      "1/1 [==============================] - 0s 15ms/step\n",
      "1/1 [==============================] - 0s 15ms/step\n",
      "1/1 [==============================] - 0s 16ms/step\n",
      "1/1 [==============================] - 0s 15ms/step\n",
      "1/1 [==============================] - 0s 16ms/step\n",
      "1/1 [==============================] - 0s 15ms/step\n",
      "1/1 [==============================] - 0s 16ms/step\n",
      "1/1 [==============================] - 0s 15ms/step\n",
      "1/1 [==============================] - 0s 15ms/step\n",
      "1/1 [==============================] - 0s 15ms/step\n",
      "1/1 [==============================] - 0s 15ms/step\n",
      "1/1 [==============================] - 0s 15ms/step\n",
      "1/1 [==============================] - 0s 14ms/step\n",
      "1/1 [==============================] - 0s 15ms/step\n",
      "1/1 [==============================] - 0s 15ms/step\n",
      "1/1 [==============================] - 0s 16ms/step\n",
      "1/1 [==============================] - 0s 16ms/step\n",
      "1/1 [==============================] - 0s 15ms/step\n",
      "1/1 [==============================] - 0s 15ms/step\n",
      "1/1 [==============================] - 0s 17ms/step\n",
      "1/1 [==============================] - 0s 16ms/step\n",
      "1/1 [==============================] - 0s 16ms/step\n",
      "1/1 [==============================] - 0s 16ms/step\n",
      "1/1 [==============================] - 0s 15ms/step\n",
      "1/1 [==============================] - 0s 20ms/step\n",
      "1/1 [==============================] - 0s 15ms/step\n",
      "1/1 [==============================] - 0s 15ms/step\n",
      "1/1 [==============================] - 0s 15ms/step\n",
      "1/1 [==============================] - 0s 16ms/step\n",
      "1/1 [==============================] - 0s 16ms/step\n",
      "1/1 [==============================] - 0s 15ms/step\n",
      "1/1 [==============================] - 0s 16ms/step\n",
      "1/1 [==============================] - 0s 15ms/step\n",
      "1/1 [==============================] - 0s 17ms/step\n",
      "1/1 [==============================] - 0s 18ms/step\n",
      "1/1 [==============================] - 0s 16ms/step\n",
      "1/1 [==============================] - 0s 17ms/step\n",
      "1/1 [==============================] - 0s 17ms/step\n",
      "1/1 [==============================] - 0s 16ms/step\n",
      "1/1 [==============================] - 0s 17ms/step\n",
      "1/1 [==============================] - 0s 16ms/step\n",
      "1/1 [==============================] - 0s 17ms/step\n",
      "1/1 [==============================] - 0s 16ms/step\n",
      "1/1 [==============================] - 0s 16ms/step\n",
      "1/1 [==============================] - 0s 19ms/step\n",
      "1/1 [==============================] - 0s 17ms/step\n",
      "1/1 [==============================] - 0s 16ms/step\n",
      "1/1 [==============================] - 0s 18ms/step\n",
      "1/1 [==============================] - 0s 16ms/step\n",
      "1/1 [==============================] - 0s 17ms/step\n",
      "1/1 [==============================] - 0s 18ms/step\n",
      "1/1 [==============================] - 0s 16ms/step\n",
      "1/1 [==============================] - 0s 16ms/step\n",
      "1/1 [==============================] - 0s 15ms/step\n",
      "1/1 [==============================] - 0s 16ms/step\n",
      "1/1 [==============================] - 0s 17ms/step\n",
      "1/1 [==============================] - 0s 16ms/step\n",
      "1/1 [==============================] - 0s 17ms/step\n",
      "1/1 [==============================] - 0s 17ms/step\n",
      "1/1 [==============================] - 0s 16ms/step\n",
      "1/1 [==============================] - 0s 17ms/step\n",
      "1/1 [==============================] - 0s 17ms/step\n",
      "1/1 [==============================] - 0s 18ms/step\n",
      "1/1 [==============================] - 0s 17ms/step\n",
      "1/1 [==============================] - 0s 16ms/step\n",
      "e who _you_ are, and what are you thing the queen had a groud fill of a watching or agrelly sigply wi\n"
     ]
    }
   ],
   "source": [
    "result = sentence_generation(model, 100)\n",
    "print(result)"
   ]
  },
  {
   "cell_type": "markdown",
   "metadata": {},
   "source": [
    "### 2. 문자 단위 RNN(Char RNN)으로 텍스트 생성하기"
   ]
  },
  {
   "cell_type": "markdown",
   "metadata": {},
   "source": [
    "#### (1) 데이터에 대한 이해와 전처리"
   ]
  },
  {
   "cell_type": "code",
   "execution_count": 112,
   "metadata": {},
   "outputs": [],
   "source": [
    "import numpy as np\n",
    "from tensorflow.keras.utils import to_categorical"
   ]
  },
  {
   "cell_type": "code",
   "execution_count": 113,
   "metadata": {},
   "outputs": [],
   "source": [
    "raw_text = '''\n",
    "I get on with life as a programmer,\n",
    "I like to contemplate beer.\n",
    "But when I start to daydream,\n",
    "My mind turns straight to wine.\n",
    "\n",
    "Do I love wine more than beer?\n",
    "\n",
    "I like to use words about beer.\n",
    "But when I stop my talking,\n",
    "My mind turns straight to wine.\n",
    "\n",
    "I hate bugs and errors.\n",
    "But I just think back to wine,\n",
    "And I'm happy once again.\n",
    "\n",
    "I like to hang out with programming and deep learning.\n",
    "But when left alone,\n",
    "My mind turns straight to wine.\n",
    "'''"
   ]
  },
  {
   "cell_type": "code",
   "execution_count": 114,
   "metadata": {},
   "outputs": [
    {
     "name": "stdout",
     "output_type": "stream",
     "text": [
      "I get on with life as a programmer, I like to contemplate beer. But when I start to daydream, My mind turns straight to wine. Do I love wine more than beer? I like to use words about beer. But when I stop my talking, My mind turns straight to wine. I hate bugs and errors. But I just think back to wine, And I'm happy once again. I like to hang out with programming and deep learning. But when left alone, My mind turns straight to wine.\n"
     ]
    }
   ],
   "source": [
    "tokens = raw_text.split()\n",
    "raw_text = ' '.join(tokens)\n",
    "print(raw_text)"
   ]
  },
  {
   "cell_type": "code",
   "execution_count": 115,
   "metadata": {},
   "outputs": [
    {
     "name": "stdout",
     "output_type": "stream",
     "text": [
      "문자 집합 : [' ', \"'\", ',', '.', '?', 'A', 'B', 'D', 'I', 'M', 'a', 'b', 'c', 'd', 'e', 'f', 'g', 'h', 'i', 'j', 'k', 'l', 'm', 'n', 'o', 'p', 'r', 's', 't', 'u', 'v', 'w', 'y']\n",
      "문자 집합의 크기 : 33\n"
     ]
    }
   ],
   "source": [
    "# 중복을 제거한 문자 집합 생성\n",
    "char_vocab = sorted(list(set(raw_text)))\n",
    "vocab_size = len(char_vocab)\n",
    "print('문자 집합 :',char_vocab)\n",
    "print ('문자 집합의 크기 : {}'.format(vocab_size))"
   ]
  },
  {
   "cell_type": "code",
   "execution_count": 116,
   "metadata": {},
   "outputs": [
    {
     "name": "stdout",
     "output_type": "stream",
     "text": [
      "{' ': 0, \"'\": 1, ',': 2, '.': 3, '?': 4, 'A': 5, 'B': 6, 'D': 7, 'I': 8, 'M': 9, 'a': 10, 'b': 11, 'c': 12, 'd': 13, 'e': 14, 'f': 15, 'g': 16, 'h': 17, 'i': 18, 'j': 19, 'k': 20, 'l': 21, 'm': 22, 'n': 23, 'o': 24, 'p': 25, 'r': 26, 's': 27, 't': 28, 'u': 29, 'v': 30, 'w': 31, 'y': 32}\n"
     ]
    }
   ],
   "source": [
    "char_to_index = dict((char, index) for index, char in enumerate(char_vocab)) # 문자에 고유한 정수 인덱스 부여\n",
    "print(char_to_index)"
   ]
  },
  {
   "cell_type": "code",
   "execution_count": 117,
   "metadata": {},
   "outputs": [
    {
     "name": "stdout",
     "output_type": "stream",
     "text": [
      "총 훈련 샘플의 수: 426\n"
     ]
    }
   ],
   "source": [
    "length = 11\n",
    "sequences = []\n",
    "for i in range(length, len(raw_text)):\n",
    "    seq = raw_text[i-length:i] # 길이 11의 문자열을 지속적으로 만든다.\n",
    "    sequences.append(seq)\n",
    "print('총 훈련 샘플의 수: %d' % len(sequences))"
   ]
  },
  {
   "cell_type": "code",
   "execution_count": 118,
   "metadata": {},
   "outputs": [
    {
     "data": {
      "text/plain": [
       "['I get on wi',\n",
       " ' get on wit',\n",
       " 'get on with',\n",
       " 'et on with ',\n",
       " 't on with l',\n",
       " ' on with li',\n",
       " 'on with lif',\n",
       " 'n with life',\n",
       " ' with life ',\n",
       " 'with life a']"
      ]
     },
     "execution_count": 118,
     "metadata": {},
     "output_type": "execute_result"
    }
   ],
   "source": [
    "sequences[:10]"
   ]
  },
  {
   "cell_type": "code",
   "execution_count": 119,
   "metadata": {},
   "outputs": [],
   "source": [
    "encoded_sequences = []\n",
    "for sequence in sequences: # 전체 데이터에서 문장 샘플을 1개씩 꺼낸다.\n",
    "    encoded_sequence = [char_to_index[char] for char in sequence] # 문장 샘플에서 각 문자에 대해서 정수 인코딩을 수행.\n",
    "    encoded_sequences.append(encoded_sequence)"
   ]
  },
  {
   "cell_type": "code",
   "execution_count": 120,
   "metadata": {},
   "outputs": [
    {
     "data": {
      "text/plain": [
       "[[8, 0, 16, 14, 28, 0, 24, 23, 0, 31, 18],\n",
       " [0, 16, 14, 28, 0, 24, 23, 0, 31, 18, 28],\n",
       " [16, 14, 28, 0, 24, 23, 0, 31, 18, 28, 17],\n",
       " [14, 28, 0, 24, 23, 0, 31, 18, 28, 17, 0],\n",
       " [28, 0, 24, 23, 0, 31, 18, 28, 17, 0, 21]]"
      ]
     },
     "execution_count": 120,
     "metadata": {},
     "output_type": "execute_result"
    }
   ],
   "source": [
    "encoded_sequences[:5]"
   ]
  },
  {
   "cell_type": "code",
   "execution_count": 121,
   "metadata": {},
   "outputs": [],
   "source": [
    "encoded_sequences = np.array(encoded_sequences)\n",
    "\n",
    "# 맨 마지막 위치의 문자를 분리\n",
    "X_data = encoded_sequences[:,:-1]\n",
    "# 맨 마지막 위치의 문자를 저장\n",
    "y_data = encoded_sequences[:,-1]"
   ]
  },
  {
   "cell_type": "code",
   "execution_count": 122,
   "metadata": {},
   "outputs": [
    {
     "name": "stdout",
     "output_type": "stream",
     "text": [
      "[[ 8  0 16 14 28  0 24 23  0 31]\n",
      " [ 0 16 14 28  0 24 23  0 31 18]\n",
      " [16 14 28  0 24 23  0 31 18 28]\n",
      " [14 28  0 24 23  0 31 18 28 17]\n",
      " [28  0 24 23  0 31 18 28 17  0]]\n",
      "[18 28 17  0 21]\n"
     ]
    }
   ],
   "source": [
    "print(X_data[:5])\n",
    "print(y_data[:5])"
   ]
  },
  {
   "cell_type": "code",
   "execution_count": 123,
   "metadata": {},
   "outputs": [],
   "source": [
    "# 원-핫 인코딩\n",
    "X_data_one_hot = [to_categorical(encoded, num_classes=vocab_size) for encoded in X_data]\n",
    "X_data_one_hot = np.array(X_data_one_hot)\n",
    "y_data_one_hot = to_categorical(y_data, num_classes=vocab_size)"
   ]
  },
  {
   "cell_type": "code",
   "execution_count": 124,
   "metadata": {},
   "outputs": [
    {
     "name": "stdout",
     "output_type": "stream",
     "text": [
      "(426, 10, 33)\n"
     ]
    }
   ],
   "source": [
    "print(X_data_one_hot.shape)"
   ]
  },
  {
   "cell_type": "markdown",
   "metadata": {},
   "source": [
    "#### (2) 모델 설계하기"
   ]
  },
  {
   "cell_type": "code",
   "execution_count": 125,
   "metadata": {},
   "outputs": [
    {
     "name": "stdout",
     "output_type": "stream",
     "text": [
      "Epoch 1/100\n",
      "14/14 - 1s - loss: 3.4803 - accuracy: 0.0634 - 1s/epoch - 90ms/step\n",
      "Epoch 2/100\n",
      "14/14 - 0s - loss: 3.4061 - accuracy: 0.1972 - 74ms/epoch - 5ms/step\n",
      "Epoch 3/100\n",
      "14/14 - 0s - loss: 3.1784 - accuracy: 0.1972 - 78ms/epoch - 6ms/step\n",
      "Epoch 4/100\n",
      "14/14 - 0s - loss: 3.0303 - accuracy: 0.1972 - 77ms/epoch - 6ms/step\n",
      "Epoch 5/100\n",
      "14/14 - 0s - loss: 2.9652 - accuracy: 0.1972 - 78ms/epoch - 6ms/step\n",
      "Epoch 6/100\n",
      "14/14 - 0s - loss: 2.9441 - accuracy: 0.1972 - 86ms/epoch - 6ms/step\n",
      "Epoch 7/100\n",
      "14/14 - 0s - loss: 2.9227 - accuracy: 0.1972 - 60ms/epoch - 4ms/step\n",
      "Epoch 8/100\n",
      "14/14 - 0s - loss: 2.9071 - accuracy: 0.1972 - 55ms/epoch - 4ms/step\n",
      "Epoch 9/100\n",
      "14/14 - 0s - loss: 2.8922 - accuracy: 0.1972 - 57ms/epoch - 4ms/step\n",
      "Epoch 10/100\n",
      "14/14 - 0s - loss: 2.8737 - accuracy: 0.1972 - 54ms/epoch - 4ms/step\n",
      "Epoch 11/100\n",
      "14/14 - 0s - loss: 2.8443 - accuracy: 0.1972 - 55ms/epoch - 4ms/step\n",
      "Epoch 12/100\n",
      "14/14 - 0s - loss: 2.8096 - accuracy: 0.1995 - 54ms/epoch - 4ms/step\n",
      "Epoch 13/100\n",
      "14/14 - 0s - loss: 2.7688 - accuracy: 0.2019 - 54ms/epoch - 4ms/step\n",
      "Epoch 14/100\n",
      "14/14 - 0s - loss: 2.7317 - accuracy: 0.2066 - 48ms/epoch - 3ms/step\n",
      "Epoch 15/100\n",
      "14/14 - 0s - loss: 2.6867 - accuracy: 0.2300 - 52ms/epoch - 4ms/step\n",
      "Epoch 16/100\n",
      "14/14 - 0s - loss: 2.6512 - accuracy: 0.2136 - 52ms/epoch - 4ms/step\n",
      "Epoch 17/100\n",
      "14/14 - 0s - loss: 2.6030 - accuracy: 0.2465 - 49ms/epoch - 4ms/step\n",
      "Epoch 18/100\n",
      "14/14 - 0s - loss: 2.5619 - accuracy: 0.2559 - 46ms/epoch - 3ms/step\n",
      "Epoch 19/100\n",
      "14/14 - 0s - loss: 2.5259 - accuracy: 0.2770 - 44ms/epoch - 3ms/step\n",
      "Epoch 20/100\n",
      "14/14 - 0s - loss: 2.4837 - accuracy: 0.2793 - 44ms/epoch - 3ms/step\n",
      "Epoch 21/100\n",
      "14/14 - 0s - loss: 2.4322 - accuracy: 0.2864 - 43ms/epoch - 3ms/step\n",
      "Epoch 22/100\n",
      "14/14 - 0s - loss: 2.3885 - accuracy: 0.3239 - 45ms/epoch - 3ms/step\n",
      "Epoch 23/100\n",
      "14/14 - 0s - loss: 2.3673 - accuracy: 0.3192 - 46ms/epoch - 3ms/step\n",
      "Epoch 24/100\n",
      "14/14 - 0s - loss: 2.3175 - accuracy: 0.3263 - 46ms/epoch - 3ms/step\n",
      "Epoch 25/100\n",
      "14/14 - 0s - loss: 2.2783 - accuracy: 0.3615 - 46ms/epoch - 3ms/step\n",
      "Epoch 26/100\n",
      "14/14 - 0s - loss: 2.2374 - accuracy: 0.3498 - 48ms/epoch - 3ms/step\n",
      "Epoch 27/100\n",
      "14/14 - 0s - loss: 2.1963 - accuracy: 0.3685 - 50ms/epoch - 4ms/step\n",
      "Epoch 28/100\n",
      "14/14 - 0s - loss: 2.1646 - accuracy: 0.3920 - 54ms/epoch - 4ms/step\n",
      "Epoch 29/100\n",
      "14/14 - 0s - loss: 2.0912 - accuracy: 0.4108 - 56ms/epoch - 4ms/step\n",
      "Epoch 30/100\n",
      "14/14 - 0s - loss: 2.0710 - accuracy: 0.4343 - 55ms/epoch - 4ms/step\n",
      "Epoch 31/100\n",
      "14/14 - 0s - loss: 2.0274 - accuracy: 0.4108 - 55ms/epoch - 4ms/step\n",
      "Epoch 32/100\n",
      "14/14 - 0s - loss: 1.9893 - accuracy: 0.4413 - 52ms/epoch - 4ms/step\n",
      "Epoch 33/100\n",
      "14/14 - 0s - loss: 1.9499 - accuracy: 0.4671 - 48ms/epoch - 3ms/step\n",
      "Epoch 34/100\n",
      "14/14 - 0s - loss: 1.8990 - accuracy: 0.4765 - 50ms/epoch - 4ms/step\n",
      "Epoch 35/100\n",
      "14/14 - 0s - loss: 1.8647 - accuracy: 0.4742 - 48ms/epoch - 3ms/step\n",
      "Epoch 36/100\n",
      "14/14 - 0s - loss: 1.8281 - accuracy: 0.4789 - 51ms/epoch - 4ms/step\n",
      "Epoch 37/100\n",
      "14/14 - 0s - loss: 1.7782 - accuracy: 0.5352 - 47ms/epoch - 3ms/step\n",
      "Epoch 38/100\n",
      "14/14 - 0s - loss: 1.7537 - accuracy: 0.5446 - 49ms/epoch - 4ms/step\n",
      "Epoch 39/100\n",
      "14/14 - 0s - loss: 1.7029 - accuracy: 0.5329 - 51ms/epoch - 4ms/step\n",
      "Epoch 40/100\n",
      "14/14 - 0s - loss: 1.6921 - accuracy: 0.5516 - 47ms/epoch - 3ms/step\n",
      "Epoch 41/100\n",
      "14/14 - 0s - loss: 1.6455 - accuracy: 0.5915 - 49ms/epoch - 3ms/step\n",
      "Epoch 42/100\n",
      "14/14 - 0s - loss: 1.6011 - accuracy: 0.5962 - 51ms/epoch - 4ms/step\n",
      "Epoch 43/100\n",
      "14/14 - 0s - loss: 1.5748 - accuracy: 0.5986 - 50ms/epoch - 4ms/step\n",
      "Epoch 44/100\n",
      "14/14 - 0s - loss: 1.5358 - accuracy: 0.6080 - 48ms/epoch - 3ms/step\n",
      "Epoch 45/100\n",
      "14/14 - 0s - loss: 1.4802 - accuracy: 0.6150 - 48ms/epoch - 3ms/step\n",
      "Epoch 46/100\n",
      "14/14 - 0s - loss: 1.4394 - accuracy: 0.6338 - 48ms/epoch - 3ms/step\n",
      "Epoch 47/100\n",
      "14/14 - 0s - loss: 1.4091 - accuracy: 0.6338 - 48ms/epoch - 3ms/step\n",
      "Epoch 48/100\n",
      "14/14 - 0s - loss: 1.3851 - accuracy: 0.6455 - 47ms/epoch - 3ms/step\n",
      "Epoch 49/100\n",
      "14/14 - 0s - loss: 1.3401 - accuracy: 0.6549 - 50ms/epoch - 4ms/step\n",
      "Epoch 50/100\n",
      "14/14 - 0s - loss: 1.3100 - accuracy: 0.6737 - 54ms/epoch - 4ms/step\n",
      "Epoch 51/100\n",
      "14/14 - 0s - loss: 1.3135 - accuracy: 0.6502 - 51ms/epoch - 4ms/step\n",
      "Epoch 52/100\n",
      "14/14 - 0s - loss: 1.3169 - accuracy: 0.6291 - 53ms/epoch - 4ms/step\n",
      "Epoch 53/100\n",
      "14/14 - 0s - loss: 1.2380 - accuracy: 0.6596 - 50ms/epoch - 4ms/step\n",
      "Epoch 54/100\n",
      "14/14 - 0s - loss: 1.1964 - accuracy: 0.7113 - 49ms/epoch - 3ms/step\n",
      "Epoch 55/100\n",
      "14/14 - 0s - loss: 1.1709 - accuracy: 0.7113 - 50ms/epoch - 4ms/step\n",
      "Epoch 56/100\n",
      "14/14 - 0s - loss: 1.1364 - accuracy: 0.7418 - 52ms/epoch - 4ms/step\n",
      "Epoch 57/100\n",
      "14/14 - 0s - loss: 1.0975 - accuracy: 0.7371 - 55ms/epoch - 4ms/step\n",
      "Epoch 58/100\n",
      "14/14 - 0s - loss: 1.0562 - accuracy: 0.7465 - 60ms/epoch - 4ms/step\n",
      "Epoch 59/100\n",
      "14/14 - 0s - loss: 1.0228 - accuracy: 0.7582 - 71ms/epoch - 5ms/step\n",
      "Epoch 60/100\n",
      "14/14 - 0s - loss: 0.9997 - accuracy: 0.7559 - 44ms/epoch - 3ms/step\n",
      "Epoch 61/100\n",
      "14/14 - 0s - loss: 0.9784 - accuracy: 0.7887 - 45ms/epoch - 3ms/step\n",
      "Epoch 62/100\n",
      "14/14 - 0s - loss: 0.9487 - accuracy: 0.7840 - 45ms/epoch - 3ms/step\n",
      "Epoch 63/100\n",
      "14/14 - 0s - loss: 0.9294 - accuracy: 0.7864 - 45ms/epoch - 3ms/step\n",
      "Epoch 64/100\n",
      "14/14 - 0s - loss: 0.8983 - accuracy: 0.8028 - 46ms/epoch - 3ms/step\n",
      "Epoch 65/100\n",
      "14/14 - 0s - loss: 0.8664 - accuracy: 0.8122 - 45ms/epoch - 3ms/step\n",
      "Epoch 66/100\n",
      "14/14 - 0s - loss: 0.8448 - accuracy: 0.8146 - 45ms/epoch - 3ms/step\n",
      "Epoch 67/100\n",
      "14/14 - 0s - loss: 0.8138 - accuracy: 0.8380 - 45ms/epoch - 3ms/step\n",
      "Epoch 68/100\n",
      "14/14 - 0s - loss: 0.7919 - accuracy: 0.8357 - 43ms/epoch - 3ms/step\n",
      "Epoch 69/100\n",
      "14/14 - 0s - loss: 0.7846 - accuracy: 0.8451 - 47ms/epoch - 3ms/step\n",
      "Epoch 70/100\n",
      "14/14 - 0s - loss: 0.7525 - accuracy: 0.8521 - 42ms/epoch - 3ms/step\n",
      "Epoch 71/100\n",
      "14/14 - 0s - loss: 0.7356 - accuracy: 0.8521 - 45ms/epoch - 3ms/step\n",
      "Epoch 72/100\n",
      "14/14 - 0s - loss: 0.7264 - accuracy: 0.8662 - 47ms/epoch - 3ms/step\n",
      "Epoch 73/100\n",
      "14/14 - 0s - loss: 0.6917 - accuracy: 0.8826 - 44ms/epoch - 3ms/step\n",
      "Epoch 74/100\n",
      "14/14 - 0s - loss: 0.6536 - accuracy: 0.9038 - 43ms/epoch - 3ms/step\n",
      "Epoch 75/100\n",
      "14/14 - 0s - loss: 0.6355 - accuracy: 0.8897 - 47ms/epoch - 3ms/step\n",
      "Epoch 76/100\n",
      "14/14 - 0s - loss: 0.6114 - accuracy: 0.9085 - 44ms/epoch - 3ms/step\n",
      "Epoch 77/100\n",
      "14/14 - 0s - loss: 0.5947 - accuracy: 0.9038 - 44ms/epoch - 3ms/step\n",
      "Epoch 78/100\n",
      "14/14 - 0s - loss: 0.5721 - accuracy: 0.9249 - 43ms/epoch - 3ms/step\n",
      "Epoch 79/100\n",
      "14/14 - 0s - loss: 0.5608 - accuracy: 0.9249 - 46ms/epoch - 3ms/step\n",
      "Epoch 80/100\n",
      "14/14 - 0s - loss: 0.5548 - accuracy: 0.9319 - 44ms/epoch - 3ms/step\n",
      "Epoch 81/100\n",
      "14/14 - 0s - loss: 0.5274 - accuracy: 0.9296 - 44ms/epoch - 3ms/step\n",
      "Epoch 82/100\n",
      "14/14 - 0s - loss: 0.5221 - accuracy: 0.9249 - 45ms/epoch - 3ms/step\n",
      "Epoch 83/100\n",
      "14/14 - 0s - loss: 0.5032 - accuracy: 0.9437 - 43ms/epoch - 3ms/step\n",
      "Epoch 84/100\n",
      "14/14 - 0s - loss: 0.4808 - accuracy: 0.9343 - 44ms/epoch - 3ms/step\n",
      "Epoch 85/100\n",
      "14/14 - 0s - loss: 0.4684 - accuracy: 0.9460 - 44ms/epoch - 3ms/step\n",
      "Epoch 86/100\n",
      "14/14 - 0s - loss: 0.4466 - accuracy: 0.9531 - 43ms/epoch - 3ms/step\n",
      "Epoch 87/100\n",
      "14/14 - 0s - loss: 0.4362 - accuracy: 0.9601 - 46ms/epoch - 3ms/step\n",
      "Epoch 88/100\n",
      "14/14 - 0s - loss: 0.4269 - accuracy: 0.9507 - 44ms/epoch - 3ms/step\n",
      "Epoch 89/100\n",
      "14/14 - 0s - loss: 0.4087 - accuracy: 0.9531 - 44ms/epoch - 3ms/step\n",
      "Epoch 90/100\n",
      "14/14 - 0s - loss: 0.3942 - accuracy: 0.9671 - 42ms/epoch - 3ms/step\n",
      "Epoch 91/100\n",
      "14/14 - 0s - loss: 0.3764 - accuracy: 0.9648 - 42ms/epoch - 3ms/step\n",
      "Epoch 92/100\n",
      "14/14 - 0s - loss: 0.3749 - accuracy: 0.9765 - 42ms/epoch - 3ms/step\n",
      "Epoch 93/100\n",
      "14/14 - 0s - loss: 0.3558 - accuracy: 0.9695 - 45ms/epoch - 3ms/step\n",
      "Epoch 94/100\n",
      "14/14 - 0s - loss: 0.3451 - accuracy: 0.9671 - 49ms/epoch - 3ms/step\n",
      "Epoch 95/100\n",
      "14/14 - 0s - loss: 0.3271 - accuracy: 0.9765 - 52ms/epoch - 4ms/step\n",
      "Epoch 96/100\n",
      "14/14 - 0s - loss: 0.3292 - accuracy: 0.9765 - 53ms/epoch - 4ms/step\n",
      "Epoch 97/100\n",
      "14/14 - 0s - loss: 0.3182 - accuracy: 0.9742 - 61ms/epoch - 4ms/step\n",
      "Epoch 98/100\n",
      "14/14 - 0s - loss: 0.3027 - accuracy: 0.9742 - 53ms/epoch - 4ms/step\n",
      "Epoch 99/100\n",
      "14/14 - 0s - loss: 0.3069 - accuracy: 0.9671 - 56ms/epoch - 4ms/step\n",
      "Epoch 100/100\n",
      "14/14 - 0s - loss: 0.3004 - accuracy: 0.9742 - 58ms/epoch - 4ms/step\n"
     ]
    },
    {
     "data": {
      "text/plain": [
       "<keras.callbacks.History at 0x18fe3e03880>"
      ]
     },
     "execution_count": 125,
     "metadata": {},
     "output_type": "execute_result"
    }
   ],
   "source": [
    "from tensorflow.keras.models import Sequential\n",
    "from tensorflow.keras.layers import Dense, LSTM\n",
    "from tensorflow.keras.preprocessing.sequence import pad_sequences\n",
    "\n",
    "hidden_units = 64\n",
    "\n",
    "model = Sequential()\n",
    "model.add(LSTM(hidden_units, input_shape=(X_data_one_hot.shape[1], X_data_one_hot.shape[2])))\n",
    "model.add(Dense(vocab_size, activation='softmax'))\n",
    "\n",
    "model.compile(loss='categorical_crossentropy', optimizer='adam', metrics=['accuracy'])\n",
    "model.fit(X_data_one_hot, y_data_one_hot, epochs=100, verbose=2)"
   ]
  },
  {
   "cell_type": "code",
   "execution_count": 126,
   "metadata": {},
   "outputs": [],
   "source": [
    "def sentence_generation(model, char_to_index, seq_length, seed_text, n):\n",
    "\n",
    "    # 초기 시퀀스\n",
    "    init_text = seed_text\n",
    "    sentence = ''\n",
    "\n",
    "    # 다음 문자 예측은 총 n번만 반복.\n",
    "    for _ in range(n):\n",
    "        encoded = [char_to_index[char] for char in seed_text] # 현재 시퀀스에 대한 정수 인코딩\n",
    "        encoded = pad_sequences([encoded], maxlen=seq_length, padding='pre') # 데이터에 대한 패딩\n",
    "        encoded = to_categorical(encoded, num_classes=len(char_to_index))\n",
    "\n",
    "        # 입력한 X(현재 시퀀스)에 대해서 y를 예측하고 y(예측한 문자)를 result에 저장.\n",
    "        result = model.predict(encoded, verbose=0)\n",
    "        result = np.argmax(result, axis=1)\n",
    "\n",
    "        for char, index in char_to_index.items():\n",
    "            if index == result:\n",
    "                break\n",
    "\n",
    "        # 현재 시퀀스 + 예측 문자를 현재 시퀀스로 변경\n",
    "        seed_text = seed_text + char\n",
    "\n",
    "        # 예측 문자를 문장에 저장\n",
    "        sentence = sentence + char\n",
    "\n",
    "    # n번의 다음 문자 예측이 끝나면 최종 완성된 문장을 리턴.\n",
    "    sentence = init_text + sentence\n",
    "    return sentence"
   ]
  },
  {
   "cell_type": "code",
   "execution_count": 127,
   "metadata": {},
   "outputs": [
    {
     "name": "stdout",
     "output_type": "stream",
     "text": [
      "I get on with life as a programmer, I like to use words about beer. But when I stop my tal\n"
     ]
    }
   ],
   "source": [
    "print(sentence_generation(model, char_to_index, 10, 'I get on w', 80))"
   ]
  },
  {
   "cell_type": "code",
   "execution_count": null,
   "metadata": {},
   "outputs": [],
   "source": []
  }
 ],
 "metadata": {
  "kernelspec": {
   "display_name": "Python 3",
   "language": "python",
   "name": "python3"
  },
  "language_info": {
   "codemirror_mode": {
    "name": "ipython",
    "version": 3
   },
   "file_extension": ".py",
   "mimetype": "text/x-python",
   "name": "python",
   "nbconvert_exporter": "python",
   "pygments_lexer": "ipython3",
   "version": "3.8.5"
  }
 },
 "nbformat": 4,
 "nbformat_minor": 4
}
