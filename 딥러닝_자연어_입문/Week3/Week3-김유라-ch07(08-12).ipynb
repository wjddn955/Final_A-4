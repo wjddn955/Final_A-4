{
 "cells": [
  {
   "cell_type": "markdown",
   "metadata": {},
   "source": [
    "# 07. 딥 러닝(Deep Learning) 개요"
   ]
  },
  {
   "cell_type": "markdown",
   "metadata": {},
   "source": [
    "## 07-08 케라스(Keras) 훑어보기"
   ]
  },
  {
   "cell_type": "markdown",
   "metadata": {},
   "source": [
    "### 1. 전처리(Preprocessing)\n",
    "- Tokenizer() : 토큰화와 정수 인코딩을 위해 사용"
   ]
  },
  {
   "cell_type": "code",
   "execution_count": 1,
   "metadata": {},
   "outputs": [
    {
     "name": "stdout",
     "output_type": "stream",
     "text": [
      "정수 인코딩 :  [1, 2, 3, 4, 6, 7]\n",
      "단어 집합 :  {'the': 1, 'earth': 2, 'is': 3, 'an': 4, 'awesome': 5, 'place': 6, 'live': 7}\n"
     ]
    }
   ],
   "source": [
    "from tensorflow.keras.preprocessing.text import Tokenizer\n",
    "from tensorflow.keras.preprocessing.sequence import pad_sequences\n",
    "\n",
    "tokenizer = Tokenizer()\n",
    "train_text = \"The earth is an awesome place live\"\n",
    "\n",
    "# 단어 집합 생성\n",
    "tokenizer.fit_on_texts([train_text])\n",
    "\n",
    "# 정수 인코딩\n",
    "sub_text = \"The earth is an great place live\"\n",
    "sequences = tokenizer.texts_to_sequences([sub_text])[0]\n",
    "\n",
    "print(\"정수 인코딩 : \",sequences)\n",
    "print(\"단어 집합 : \",tokenizer.word_index)"
   ]
  },
  {
   "cell_type": "markdown",
   "metadata": {},
   "source": [
    "- pad_sequence(): 숫자 0을 넣어서 길이가 다른 샘플들의 길이를 맞춤. 정해준 길이보다 길이가 긴 샘플은 값을 일부 자르고, 정해준 길이보다 길이가 짧은 샘플은 값을 0으로 채움"
   ]
  },
  {
   "cell_type": "code",
   "execution_count": 2,
   "metadata": {},
   "outputs": [
    {
     "data": {
      "text/plain": [
       "array([[1, 2, 3],\n",
       "       [4, 5, 6],\n",
       "       [0, 7, 8]])"
      ]
     },
     "execution_count": 2,
     "metadata": {},
     "output_type": "execute_result"
    }
   ],
   "source": [
    "# 첫번째 인자: 패딩을 진행할 데이터\n",
    "# maxlen: 모든 데이터에 대하여 정규화 할 길이\n",
    "# padding: pre를 선택하면 앞에 0 채우고 post를 선택하면 뒤에 0채움\n",
    "pad_sequences([[1, 2, 3], [3, 4, 5, 6], [7, 8]], maxlen=3, padding='pre')"
   ]
  },
  {
   "cell_type": "markdown",
   "metadata": {},
   "source": [
    "### 2. 워드 임베딩(Word Embedding)\n",
    "- 텍스트 내의 단어들을 밀집 벡터(dense vector)로 만드는 것\n",
    "- 원-핫 벡터는 단어 집합의 크기만큼 벡터의 차원을 가지며 단어 벡터 간의 유의미한 유사도를 구할 수 없음\n",
    "- 반면 워드 임베딩으로부터 얻은 임베딩 벡터는 상대적으로 저차원을 가지며 모든 원소의 값이 실수\n",
    "- Embedding() : Embedding()은 단어를 밀집 벡터로 만드는 역할"
   ]
  },
  {
   "cell_type": "markdown",
   "metadata": {},
   "source": [
    "```python\n",
    "# 1. 토큰화\n",
    "tokenized_text = [['Hope', 'to', 'see', 'you', 'soon'], ['Nice', 'to', 'see', 'you', 'again']]\n",
    "\n",
    "# 2. 각 단어에 대한 정수 인코딩\n",
    "encoded_text = [[0, 1, 2, 3, 4],[5, 1, 2, 3, 6]]\n",
    "\n",
    "# 3. 위 정수 인코딩 데이터가 아래의 임베딩 층의 입력이 된다.\n",
    "vocab_size = 7 # 단어의 개수\n",
    "embedding_dim = 2 # 출력 차원\n",
    "Embedding(vocab_size, embedding_dim, input_length=5) # input_length: 입력 시퀀스 길이\n",
    "\n",
    "# 각 정수는 아래의 테이블의 인덱스로 사용되며 Embedding()은 각 단어마다 임베딩 벡터를 리턴한다.\n",
    "+------------+------------+\n",
    "|   index    | embedding  |\n",
    "+------------+------------+\n",
    "|     0      | [1.2, 3.1] |\n",
    "|     1      | [0.1, 4.2] |\n",
    "|     2      | [1.0, 3.1] |\n",
    "|     3      | [0.3, 2.1] |\n",
    "|     4      | [2.2, 1.4] |\n",
    "|     5      | [0.7, 1.7] |\n",
    "|     6      | [4.1, 2.0] |\n",
    "+------------+------------+\n",
    "\n",
    "# 위의 표는 임베딩 벡터가 된 결과를 예로서 정리한 것이고 Embedding()의 출력인 3D 텐서를 보여주는 것이 아님.\n",
    "```"
   ]
  },
  {
   "cell_type": "markdown",
   "metadata": {},
   "source": [
    "### 3. 모델링(Modeling)"
   ]
  },
  {
   "cell_type": "markdown",
   "metadata": {},
   "source": [
    "- Sequential(): 입력층, 은닉층, 출력층을 구성하기 위해 Sequential()을 사용"
   ]
  },
  {
   "cell_type": "markdown",
   "metadata": {},
   "source": [
    "``` python\n",
    "from tensorflow.keras.models import Sequential\n",
    "from tensorflow.keras.layers import Dense\n",
    "\n",
    "model = Sequential()\n",
    "model.add(...) # 층 추가\n",
    "model.add(...) # 층 추가\n",
    "model.add(...) # 층 추가\n",
    "```"
   ]
  },
  {
   "cell_type": "code",
   "execution_count": 11,
   "metadata": {},
   "outputs": [],
   "source": [
    "from tensorflow.keras.models import Sequential\n",
    "from tensorflow.keras.layers import Dense\n",
    "from keras.layers import Embedding\n",
    "\n",
    "vocab_size = 7 # 단어의 개수\n",
    "output_dim = 2 # 출력 차원\n",
    "\n",
    "# Embedding을 통해 생성하는 임베딩 층 추가 예시\n",
    "model = Sequential()\n",
    "model.add(Embedding(vocab_size, output_dim, input_length = 5))"
   ]
  },
  {
   "cell_type": "code",
   "execution_count": 12,
   "metadata": {},
   "outputs": [],
   "source": [
    "# 전결합층 추가 예시\n",
    "model = Sequential()\n",
    "\n",
    "#Dense(출력뉴런수, 입력차원, 활성화함수)\n",
    "model.add(Dense(1, input_dim=3, activation='relu'))"
   ]
  },
  {
   "attachments": {
    "neural_network1_final.png": {
     "image/png": "[encoded data removed]"
    }
   },
   "cell_type": "markdown",
   "metadata": {},
   "source": [
    "- linear : 디폴트 값으로 별도 활성화 함수 없이 입력 뉴런과 가중치의 계산 결과 그대로 출력.\n",
    "- sigmoid : 이진 분류 문제에서 출력층에 주로 사용되는 활성화 함수.\n",
    "- softmax : 셋 이상의 선택지 중 하나를 택하는 다중 클래스 분류 문제에서 출력층에 주로 사용되는 활성화 함수.\n",
    "- relu : 은닉층에 주로 사용되는 활성화 함수.\n",
    "\n",
    "- Dense(1, input_dim=3, activation='relu') 시각화\n",
    "![neural_network1_final.png](attachment:neural_network1_final.png)"
   ]
  },
  {
   "cell_type": "code",
   "execution_count": 13,
   "metadata": {},
   "outputs": [],
   "source": [
    "# 전결합층 더 추가\n",
    "model = Sequential()\n",
    "model.add(Dense(8, input_dim=4, activation='relu')) # 8은 출력층이 아닌 은닉층 뉴런\n",
    "model.add(Dense(1, activation='sigmoid')) # 출력층"
   ]
  },
  {
   "attachments": {
    "neural_network2_final.png": {
     "image/png": "[encoded data removed]"
    }
   },
   "cell_type": "markdown",
   "metadata": {},
   "source": [
    "- Dense(8, input_dim=4, activation='relu'), add(Dense(1, activation='sigmoid') 시각화\n",
    "![neural_network2_final.png](attachment:neural_network2_final.png)\n",
    "\n",
    "- 이 외에도 LSTM, GRU, Convolution2D, BatchNormalization 등 다양한 층을 만들 수 있음\n",
    "- summary() : 모델의 정보를 요약해서 보여줌"
   ]
  },
  {
   "cell_type": "code",
   "execution_count": 14,
   "metadata": {},
   "outputs": [
    {
     "name": "stdout",
     "output_type": "stream",
     "text": [
      "Model: \"sequential_9\"\n",
      "_________________________________________________________________\n",
      " Layer (type)                Output Shape              Param #   \n",
      "=================================================================\n",
      " dense_4 (Dense)             (None, 8)                 40        \n",
      "                                                                 \n",
      " dense_5 (Dense)             (None, 1)                 9         \n",
      "                                                                 \n",
      "=================================================================\n",
      "Total params: 49\n",
      "Trainable params: 49\n",
      "Non-trainable params: 0\n",
      "_________________________________________________________________\n"
     ]
    }
   ],
   "source": [
    "model.summary()"
   ]
  },
  {
   "cell_type": "markdown",
   "metadata": {},
   "source": [
    "### 4. 컴파일(Compile)과 훈련(Training)\n",
    "\n",
    "- compile() : 모델을 기계가 이해할 수 있도록 컴파일. 손실 함수와 옵티마이저, 메트릭 함수를 선택"
   ]
  },
  {
   "cell_type": "code",
   "execution_count": 15,
   "metadata": {},
   "outputs": [],
   "source": [
    "from tensorflow.keras.layers import SimpleRNN, Embedding, Dense\n",
    "from tensorflow.keras.models import Sequential\n",
    "\n",
    "vocab_size = 10000\n",
    "embedding_dim = 32\n",
    "hidden_units = 32\n",
    "\n",
    "model = Sequential()\n",
    "model.add(Embedding(vocab_size, embedding_dim))\n",
    "model.add(SimpleRNN(hidden_units))\n",
    "model.add(Dense(1, activation='sigmoid'))\n",
    "model.compile(optimizer='rmsprop', loss='binary_crossentropy', metrics=['acc'])"
   ]
  },
  {
   "cell_type": "markdown",
   "metadata": {},
   "source": [
    "|문제 유형|손실 함수명|출력층의 활성화 함수명|참고 실습|\n",
    "|---|---|---|---|\n",
    "|회귀 문제|mean_squared_error|-|선형 회귀 실습|\n",
    "|다중 클래스 분류|categorical_crossentropy|소프트맥스|로이터 뉴스 분류하기|\n",
    "|다중 클래스 분류|sparse_categorical_crossentropy|소프트맥스|양방향 LSTM를 이용한 품사 태깅|\n",
    "|이진 분류|binary_crossentropy|시그모이드|IMDB 리뷰 감성 분류하기|\n",
    "\n",
    "- fit() : 모델을 학습"
   ]
  },
  {
   "cell_type": "markdown",
   "metadata": {},
   "source": [
    "```python\n",
    "# 위의 compile() 코드의 연장선상인 코드\n",
    "# model.fit(훈련데이터, 레이블데이터, 총 훈련횟수, 배치크기)\n",
    "model.fit(X_train, y_train, epochs=10, batch_size=32)\n",
    "\n",
    "# validation_data(x_val, y_val) = 검증 데이터(validation data)를 사용\n",
    "model.fit(X_train, y_train, epochs=10, batch_size=32, verbose=0, validation_data(X_val, y_val))\n",
    "\n",
    "# validation_split = 검증 데이터를 지정하는 것이 아니라 훈련 데이터와 훈련 데이터의 레이블인 X_train과 y_train에서 일정 비율 분리하여 이를 검증 데이터로 사용\n",
    "# 훈련 데이터의 20%를 검증 데이터로 사용.\n",
    "model.fit(X_train, y_train, epochs=10, batch_size=32, verbose=0, validation_split=0.2)\n",
    "```\n",
    "\n",
    "- verbose = 학습 중 출력되는 문구를 설정\n",
    "    - 0 : 아무 것도 출력 X\n",
    "    - 1 : 훈련의 진행도를 보여주는 진행 막대 출력\n",
    "    - 2 : 미니 배치마다 손실 정보 출력\n",
    "    \n",
    "```python\n",
    "# verbose = 1일 경우.\n",
    "Epoch 88/100\n",
    "7/7 [==============================] - 0s 143us/step - loss: 0.1029 - acc: 1.0000\n",
    "        \n",
    "        \n",
    "# verbose = 2일 경우.\n",
    "Epoch 88/100\n",
    " - 0s - loss: 0.1475 - acc: 1.0000\n",
    "```"
   ]
  },
  {
   "cell_type": "markdown",
   "metadata": {},
   "source": [
    "### 5. 평가(Evaluation)와 예측(Prediction) "
   ]
  },
  {
   "cell_type": "markdown",
   "metadata": {},
   "source": [
    "- evaluate() : 테스트 데이터를 통해 학습한 모델에 대한 정확도를 평가\n",
    "\n",
    "```python\n",
    "# 위의 fit() 코드의 연장선상인 코드\n",
    "# 테스트 데이터, 레이블 테스트 데이터, 배치크기\n",
    "model.evaluate(X_test, y_test, batch_size=32)\n",
    "```\n",
    "\n",
    "- predict() : 임의의 입력에 대한 모델의 출력값을 확인\n",
    "```python\n",
    "# 위의 fit() 코드의 연장선상인 코드\n",
    "# 예측데이터, 배치크기\n",
    "model.predict(X_input, batch_size=32)\n",
    "```"
   ]
  },
  {
   "cell_type": "markdown",
   "metadata": {},
   "source": [
    "### 6. 모델의 저장(Save)과 로드(Load)\n",
    "- save() : 인공 신경망 모델을 hdf5 파일에 저장합니다.\n",
    "- load_model() : 저장해둔 모델을 불러옵니다.\n",
    "\n",
    "```python\n",
    "model.save(\"model_name.h5\")\n",
    "\n",
    "from tensorflow.keras.models import load_model\n",
    "model = load_model(\"model_name.h5\")\n",
    "```"
   ]
  },
  {
   "cell_type": "markdown",
   "metadata": {},
   "source": [
    "## 07-09 케라스의 함수형 API(Keras Functional API)"
   ]
  },
  {
   "cell_type": "markdown",
   "metadata": {},
   "source": [
    "### 1. Sequential API로 만든 모델"
   ]
  },
  {
   "cell_type": "code",
   "execution_count": 19,
   "metadata": {},
   "outputs": [],
   "source": [
    "from tensorflow.keras.models import Sequential\n",
    "from tensorflow.keras.layers import Dense\n",
    "\n",
    "model = Sequential()\n",
    "model.add(Dense(3, input_dim=4, activation='softmax'))"
   ]
  },
  {
   "cell_type": "markdown",
   "metadata": {},
   "source": [
    "### 2. Functional API로 만든 모델"
   ]
  },
  {
   "cell_type": "markdown",
   "metadata": {},
   "source": [
    "#### (1) 전결합 피드 포워드 신경망(Fully-connected FFNN)\n",
    "- functional API에서는 입력 데이터의 크기(shape)를 인자로 입력층을 정의해줘야 함"
   ]
  },
  {
   "cell_type": "code",
   "execution_count": 20,
   "metadata": {},
   "outputs": [],
   "source": [
    "from tensorflow.keras.layers import Input, Dense\n",
    "from tensorflow.keras.models import Model"
   ]
  },
  {
   "cell_type": "code",
   "execution_count": 21,
   "metadata": {},
   "outputs": [],
   "source": [
    "inputs = Input(shape=(10,))"
   ]
  },
  {
   "cell_type": "code",
   "execution_count": 22,
   "metadata": {},
   "outputs": [],
   "source": [
    "inputs = Input(shape=(10,))\n",
    "hidden1 = Dense(64, activation='relu')(inputs)  # <- 새로 추가\n",
    "hidden2 = Dense(64, activation='relu')(hidden1) # <- 새로 추가\n",
    "output = Dense(1, activation='sigmoid')(hidden2) # <- 새로 추가"
   ]
  },
  {
   "cell_type": "code",
   "execution_count": 23,
   "metadata": {},
   "outputs": [],
   "source": [
    "inputs = Input(shape=(10,)) # 입력 크기 정의\n",
    "hidden1 = Dense(64, activation='relu')(inputs) # 이전층을 다음층 함수의 입력으로 사용\n",
    "hidden2 = Dense(64, activation='relu')(hidden1)\n",
    "output = Dense(1, activation='sigmoid')(hidden2)\n",
    "model = Model(inputs=inputs, outputs=output) # <- 새로 추가 / 입력 출력 정의"
   ]
  },
  {
   "cell_type": "code",
   "execution_count": 24,
   "metadata": {},
   "outputs": [],
   "source": [
    "model.compile(optimizer='rmsprop', loss='categorical_crossentropy', metrics=['accuracy'])\n",
    "# model.fit(data, labels)"
   ]
  },
  {
   "cell_type": "code",
   "execution_count": 25,
   "metadata": {},
   "outputs": [],
   "source": [
    "inputs = Input(shape=(10,))\n",
    "x = Dense(8, activation=\"relu\")(inputs)\n",
    "x = Dense(4, activation=\"relu\")(x)\n",
    "x = Dense(1, activation=\"linear\")(x)\n",
    "model = Model(inputs, x)"
   ]
  },
  {
   "cell_type": "markdown",
   "metadata": {},
   "source": [
    "#### (2) 선형 회귀(Linear Regression)"
   ]
  },
  {
   "cell_type": "code",
   "execution_count": 26,
   "metadata": {},
   "outputs": [
    {
     "name": "stdout",
     "output_type": "stream",
     "text": [
      "Epoch 1/300\n"
     ]
    },
    {
     "name": "stderr",
     "output_type": "stream",
     "text": [
      "C:\\Users\\YOORA\\anaconda3\\lib\\site-packages\\keras\\optimizers\\optimizer_v2\\gradient_descent.py:108: UserWarning: The `lr` argument is deprecated, use `learning_rate` instead.\n",
      "  super(SGD, self).__init__(name, **kwargs)\n"
     ]
    },
    {
     "name": "stdout",
     "output_type": "stream",
     "text": [
      "1/1 [==============================] - 1s 1s/step - loss: 2865.3420 - mse: 2865.3420\n",
      "Epoch 2/300\n",
      "1/1 [==============================] - 0s 9ms/step - loss: 353.5701 - mse: 353.5701\n",
      "Epoch 3/300\n",
      "1/1 [==============================] - 0s 5ms/step - loss: 44.5148 - mse: 44.5148\n",
      "Epoch 4/300\n",
      "1/1 [==============================] - 0s 5ms/step - loss: 6.4872 - mse: 6.4872\n",
      "Epoch 5/300\n",
      "1/1 [==============================] - 0s 5ms/step - loss: 1.8075 - mse: 1.8075\n",
      "Epoch 6/300\n",
      "1/1 [==============================] - 0s 5ms/step - loss: 1.2310 - mse: 1.2310\n",
      "Epoch 7/300\n",
      "1/1 [==============================] - 0s 5ms/step - loss: 1.1595 - mse: 1.1595\n",
      "Epoch 8/300\n",
      "1/1 [==============================] - 0s 5ms/step - loss: 1.1500 - mse: 1.1500\n",
      "Epoch 9/300\n",
      "1/1 [==============================] - 0s 5ms/step - loss: 1.1482 - mse: 1.1482\n",
      "Epoch 10/300\n",
      "1/1 [==============================] - 0s 4ms/step - loss: 1.1473 - mse: 1.1473\n",
      "Epoch 11/300\n",
      "1/1 [==============================] - 0s 7ms/step - loss: 1.1466 - mse: 1.1466\n",
      "Epoch 12/300\n",
      "1/1 [==============================] - 0s 5ms/step - loss: 1.1459 - mse: 1.1459\n",
      "Epoch 13/300\n",
      "1/1 [==============================] - 0s 6ms/step - loss: 1.1452 - mse: 1.1452\n",
      "Epoch 14/300\n",
      "1/1 [==============================] - 0s 5ms/step - loss: 1.1445 - mse: 1.1445\n",
      "Epoch 15/300\n",
      "1/1 [==============================] - 0s 5ms/step - loss: 1.1438 - mse: 1.1438\n",
      "Epoch 16/300\n",
      "1/1 [==============================] - 0s 6ms/step - loss: 1.1431 - mse: 1.1431\n",
      "Epoch 17/300\n",
      "1/1 [==============================] - 0s 5ms/step - loss: 1.1424 - mse: 1.1424\n",
      "Epoch 18/300\n",
      "1/1 [==============================] - 0s 5ms/step - loss: 1.1418 - mse: 1.1418\n",
      "Epoch 19/300\n",
      "1/1 [==============================] - 0s 5ms/step - loss: 1.1411 - mse: 1.1411\n",
      "Epoch 20/300\n",
      "1/1 [==============================] - 0s 5ms/step - loss: 1.1404 - mse: 1.1404\n",
      "Epoch 21/300\n",
      "1/1 [==============================] - 0s 6ms/step - loss: 1.1398 - mse: 1.1398\n",
      "Epoch 22/300\n",
      "1/1 [==============================] - 0s 5ms/step - loss: 1.1391 - mse: 1.1391\n",
      "Epoch 23/300\n",
      "1/1 [==============================] - 0s 5ms/step - loss: 1.1385 - mse: 1.1385\n",
      "Epoch 24/300\n",
      "1/1 [==============================] - 0s 5ms/step - loss: 1.1378 - mse: 1.1378\n",
      "Epoch 25/300\n",
      "1/1 [==============================] - 0s 6ms/step - loss: 1.1372 - mse: 1.1372\n",
      "Epoch 26/300\n",
      "1/1 [==============================] - 0s 6ms/step - loss: 1.1365 - mse: 1.1365\n",
      "Epoch 27/300\n",
      "1/1 [==============================] - 0s 4ms/step - loss: 1.1359 - mse: 1.1359\n",
      "Epoch 28/300\n",
      "1/1 [==============================] - 0s 4ms/step - loss: 1.1353 - mse: 1.1353\n",
      "Epoch 29/300\n",
      "1/1 [==============================] - 0s 5ms/step - loss: 1.1347 - mse: 1.1347\n",
      "Epoch 30/300\n",
      "1/1 [==============================] - 0s 6ms/step - loss: 1.1341 - mse: 1.1341\n",
      "Epoch 31/300\n",
      "1/1 [==============================] - 0s 5ms/step - loss: 1.1334 - mse: 1.1334\n",
      "Epoch 32/300\n",
      "1/1 [==============================] - 0s 5ms/step - loss: 1.1328 - mse: 1.1328\n",
      "Epoch 33/300\n",
      "1/1 [==============================] - 0s 4ms/step - loss: 1.1322 - mse: 1.1322\n",
      "Epoch 34/300\n",
      "1/1 [==============================] - 0s 5ms/step - loss: 1.1316 - mse: 1.1316\n",
      "Epoch 35/300\n",
      "1/1 [==============================] - 0s 7ms/step - loss: 1.1311 - mse: 1.1311\n",
      "Epoch 36/300\n",
      "1/1 [==============================] - 0s 5ms/step - loss: 1.1305 - mse: 1.1305\n",
      "Epoch 37/300\n",
      "1/1 [==============================] - 0s 5ms/step - loss: 1.1299 - mse: 1.1299\n",
      "Epoch 38/300\n",
      "1/1 [==============================] - 0s 4ms/step - loss: 1.1293 - mse: 1.1293\n",
      "Epoch 39/300\n",
      "1/1 [==============================] - 0s 4ms/step - loss: 1.1288 - mse: 1.1288\n",
      "Epoch 40/300\n",
      "1/1 [==============================] - 0s 6ms/step - loss: 1.1282 - mse: 1.1282\n",
      "Epoch 41/300\n",
      "1/1 [==============================] - 0s 5ms/step - loss: 1.1276 - mse: 1.1276\n",
      "Epoch 42/300\n",
      "1/1 [==============================] - 0s 4ms/step - loss: 1.1271 - mse: 1.1271\n",
      "Epoch 43/300\n",
      "1/1 [==============================] - 0s 5ms/step - loss: 1.1265 - mse: 1.1265\n",
      "Epoch 44/300\n",
      "1/1 [==============================] - 0s 5ms/step - loss: 1.1260 - mse: 1.1260\n",
      "Epoch 45/300\n",
      "1/1 [==============================] - 0s 5ms/step - loss: 1.1254 - mse: 1.1254\n",
      "Epoch 46/300\n",
      "1/1 [==============================] - 0s 6ms/step - loss: 1.1249 - mse: 1.1249\n",
      "Epoch 47/300\n",
      "1/1 [==============================] - 0s 5ms/step - loss: 1.1244 - mse: 1.1244\n",
      "Epoch 48/300\n",
      "1/1 [==============================] - 0s 5ms/step - loss: 1.1238 - mse: 1.1238\n",
      "Epoch 49/300\n",
      "1/1 [==============================] - 0s 5ms/step - loss: 1.1233 - mse: 1.1233\n",
      "Epoch 50/300\n",
      "1/1 [==============================] - 0s 5ms/step - loss: 1.1228 - mse: 1.1228\n",
      "Epoch 51/300\n",
      "1/1 [==============================] - 0s 5ms/step - loss: 1.1223 - mse: 1.1223\n",
      "Epoch 52/300\n",
      "1/1 [==============================] - 0s 5ms/step - loss: 1.1218 - mse: 1.1218\n",
      "Epoch 53/300\n",
      "1/1 [==============================] - 0s 5ms/step - loss: 1.1213 - mse: 1.1213\n",
      "Epoch 54/300\n",
      "1/1 [==============================] - 0s 5ms/step - loss: 1.1208 - mse: 1.1208\n",
      "Epoch 55/300\n",
      "1/1 [==============================] - 0s 5ms/step - loss: 1.1203 - mse: 1.1203\n",
      "Epoch 56/300\n",
      "1/1 [==============================] - 0s 5ms/step - loss: 1.1198 - mse: 1.1198\n",
      "Epoch 57/300\n",
      "1/1 [==============================] - 0s 6ms/step - loss: 1.1193 - mse: 1.1193\n",
      "Epoch 58/300\n",
      "1/1 [==============================] - 0s 5ms/step - loss: 1.1188 - mse: 1.1188\n",
      "Epoch 59/300\n",
      "1/1 [==============================] - 0s 5ms/step - loss: 1.1183 - mse: 1.1183\n",
      "Epoch 60/300\n",
      "1/1 [==============================] - 0s 5ms/step - loss: 1.1178 - mse: 1.1178\n",
      "Epoch 61/300\n",
      "1/1 [==============================] - 0s 5ms/step - loss: 1.1173 - mse: 1.1173\n",
      "Epoch 62/300\n",
      "1/1 [==============================] - 0s 5ms/step - loss: 1.1169 - mse: 1.1169\n",
      "Epoch 63/300\n",
      "1/1 [==============================] - 0s 5ms/step - loss: 1.1164 - mse: 1.1164\n",
      "Epoch 64/300\n",
      "1/1 [==============================] - 0s 5ms/step - loss: 1.1159 - mse: 1.1159\n",
      "Epoch 65/300\n",
      "1/1 [==============================] - 0s 5ms/step - loss: 1.1155 - mse: 1.1155\n",
      "Epoch 66/300\n",
      "1/1 [==============================] - 0s 5ms/step - loss: 1.1150 - mse: 1.1150\n",
      "Epoch 67/300\n",
      "1/1 [==============================] - 0s 6ms/step - loss: 1.1146 - mse: 1.1146\n",
      "Epoch 68/300\n",
      "1/1 [==============================] - 0s 6ms/step - loss: 1.1141 - mse: 1.1141\n",
      "Epoch 69/300\n",
      "1/1 [==============================] - 0s 5ms/step - loss: 1.1137 - mse: 1.1137\n",
      "Epoch 70/300\n",
      "1/1 [==============================] - 0s 5ms/step - loss: 1.1132 - mse: 1.1132\n",
      "Epoch 71/300\n",
      "1/1 [==============================] - 0s 5ms/step - loss: 1.1128 - mse: 1.1128\n",
      "Epoch 72/300\n",
      "1/1 [==============================] - 0s 5ms/step - loss: 1.1124 - mse: 1.1124\n",
      "Epoch 73/300\n",
      "1/1 [==============================] - 0s 5ms/step - loss: 1.1119 - mse: 1.1119\n",
      "Epoch 74/300\n",
      "1/1 [==============================] - 0s 4ms/step - loss: 1.1115 - mse: 1.1115\n",
      "Epoch 75/300\n",
      "1/1 [==============================] - 0s 5ms/step - loss: 1.1111 - mse: 1.1111\n",
      "Epoch 76/300\n",
      "1/1 [==============================] - 0s 5ms/step - loss: 1.1107 - mse: 1.1107\n",
      "Epoch 77/300\n",
      "1/1 [==============================] - 0s 5ms/step - loss: 1.1103 - mse: 1.1103\n",
      "Epoch 78/300\n",
      "1/1 [==============================] - 0s 7ms/step - loss: 1.1098 - mse: 1.1098\n",
      "Epoch 79/300\n",
      "1/1 [==============================] - 0s 5ms/step - loss: 1.1094 - mse: 1.1094\n",
      "Epoch 80/300\n",
      "1/1 [==============================] - 0s 5ms/step - loss: 1.1090 - mse: 1.1090\n",
      "Epoch 81/300\n",
      "1/1 [==============================] - 0s 7ms/step - loss: 1.1086 - mse: 1.1086\n",
      "Epoch 82/300\n",
      "1/1 [==============================] - 0s 5ms/step - loss: 1.1082 - mse: 1.1082\n",
      "Epoch 83/300\n",
      "1/1 [==============================] - 0s 4ms/step - loss: 1.1078 - mse: 1.1078\n",
      "Epoch 84/300\n",
      "1/1 [==============================] - 0s 5ms/step - loss: 1.1074 - mse: 1.1074\n",
      "Epoch 85/300\n",
      "1/1 [==============================] - 0s 5ms/step - loss: 1.1070 - mse: 1.1070\n",
      "Epoch 86/300\n",
      "1/1 [==============================] - 0s 5ms/step - loss: 1.1067 - mse: 1.1067\n",
      "Epoch 87/300\n",
      "1/1 [==============================] - 0s 5ms/step - loss: 1.1063 - mse: 1.1063\n",
      "Epoch 88/300\n",
      "1/1 [==============================] - 0s 5ms/step - loss: 1.1059 - mse: 1.1059\n",
      "Epoch 89/300\n",
      "1/1 [==============================] - 0s 4ms/step - loss: 1.1055 - mse: 1.1055\n",
      "Epoch 90/300\n",
      "1/1 [==============================] - 0s 5ms/step - loss: 1.1051 - mse: 1.1051\n",
      "Epoch 91/300\n",
      "1/1 [==============================] - 0s 4ms/step - loss: 1.1048 - mse: 1.1048\n",
      "Epoch 92/300\n",
      "1/1 [==============================] - 0s 5ms/step - loss: 1.1044 - mse: 1.1044\n",
      "Epoch 93/300\n",
      "1/1 [==============================] - 0s 8ms/step - loss: 1.1040 - mse: 1.1040\n",
      "Epoch 94/300\n",
      "1/1 [==============================] - 0s 8ms/step - loss: 1.1037 - mse: 1.1037\n",
      "Epoch 95/300\n",
      "1/1 [==============================] - 0s 5ms/step - loss: 1.1033 - mse: 1.1033\n",
      "Epoch 96/300\n",
      "1/1 [==============================] - 0s 8ms/step - loss: 1.1030 - mse: 1.1030\n",
      "Epoch 97/300\n",
      "1/1 [==============================] - 0s 5ms/step - loss: 1.1026 - mse: 1.1026\n",
      "Epoch 98/300\n",
      "1/1 [==============================] - 0s 5ms/step - loss: 1.1023 - mse: 1.1023\n",
      "Epoch 99/300\n",
      "1/1 [==============================] - 0s 5ms/step - loss: 1.1019 - mse: 1.1019\n",
      "Epoch 100/300\n",
      "1/1 [==============================] - 0s 5ms/step - loss: 1.1016 - mse: 1.1016\n",
      "Epoch 101/300\n",
      "1/1 [==============================] - 0s 5ms/step - loss: 1.1012 - mse: 1.1012\n",
      "Epoch 102/300\n",
      "1/1 [==============================] - 0s 7ms/step - loss: 1.1009 - mse: 1.1009\n",
      "Epoch 103/300\n",
      "1/1 [==============================] - 0s 5ms/step - loss: 1.1005 - mse: 1.1005\n",
      "Epoch 104/300\n",
      "1/1 [==============================] - 0s 5ms/step - loss: 1.1002 - mse: 1.1002\n",
      "Epoch 105/300\n",
      "1/1 [==============================] - 0s 5ms/step - loss: 1.0999 - mse: 1.0999\n",
      "Epoch 106/300\n",
      "1/1 [==============================] - 0s 4ms/step - loss: 1.0996 - mse: 1.0996\n",
      "Epoch 107/300\n",
      "1/1 [==============================] - 0s 6ms/step - loss: 1.0992 - mse: 1.0992\n",
      "Epoch 108/300\n",
      "1/1 [==============================] - 0s 8ms/step - loss: 1.0989 - mse: 1.0989\n",
      "Epoch 109/300\n",
      "1/1 [==============================] - 0s 5ms/step - loss: 1.0986 - mse: 1.0986\n",
      "Epoch 110/300\n",
      "1/1 [==============================] - 0s 5ms/step - loss: 1.0983 - mse: 1.0983\n",
      "Epoch 111/300\n",
      "1/1 [==============================] - 0s 5ms/step - loss: 1.0980 - mse: 1.0980\n",
      "Epoch 112/300\n",
      "1/1 [==============================] - 0s 5ms/step - loss: 1.0976 - mse: 1.0976\n",
      "Epoch 113/300\n",
      "1/1 [==============================] - 0s 6ms/step - loss: 1.0973 - mse: 1.0973\n",
      "Epoch 114/300\n",
      "1/1 [==============================] - 0s 5ms/step - loss: 1.0970 - mse: 1.0970\n",
      "Epoch 115/300\n",
      "1/1 [==============================] - 0s 5ms/step - loss: 1.0967 - mse: 1.0967\n",
      "Epoch 116/300\n",
      "1/1 [==============================] - 0s 5ms/step - loss: 1.0964 - mse: 1.0964\n",
      "Epoch 117/300\n",
      "1/1 [==============================] - 0s 7ms/step - loss: 1.0961 - mse: 1.0961\n",
      "Epoch 118/300\n",
      "1/1 [==============================] - 0s 5ms/step - loss: 1.0958 - mse: 1.0958\n",
      "Epoch 119/300\n",
      "1/1 [==============================] - 0s 5ms/step - loss: 1.0955 - mse: 1.0955\n",
      "Epoch 120/300\n",
      "1/1 [==============================] - 0s 5ms/step - loss: 1.0952 - mse: 1.0952\n",
      "Epoch 121/300\n",
      "1/1 [==============================] - 0s 5ms/step - loss: 1.0949 - mse: 1.0949\n",
      "Epoch 122/300\n",
      "1/1 [==============================] - 0s 6ms/step - loss: 1.0947 - mse: 1.0947\n",
      "Epoch 123/300\n",
      "1/1 [==============================] - 0s 5ms/step - loss: 1.0944 - mse: 1.0944\n",
      "Epoch 124/300\n",
      "1/1 [==============================] - 0s 4ms/step - loss: 1.0941 - mse: 1.0941\n",
      "Epoch 125/300\n",
      "1/1 [==============================] - 0s 5ms/step - loss: 1.0938 - mse: 1.0938\n",
      "Epoch 126/300\n",
      "1/1 [==============================] - 0s 5ms/step - loss: 1.0935 - mse: 1.0935\n",
      "Epoch 127/300\n",
      "1/1 [==============================] - 0s 4ms/step - loss: 1.0933 - mse: 1.0933\n",
      "Epoch 128/300\n",
      "1/1 [==============================] - 0s 6ms/step - loss: 1.0930 - mse: 1.0930\n",
      "Epoch 129/300\n",
      "1/1 [==============================] - 0s 5ms/step - loss: 1.0927 - mse: 1.0927\n",
      "Epoch 130/300\n",
      "1/1 [==============================] - 0s 5ms/step - loss: 1.0924 - mse: 1.0924\n",
      "Epoch 131/300\n",
      "1/1 [==============================] - 0s 5ms/step - loss: 1.0922 - mse: 1.0922\n",
      "Epoch 132/300\n",
      "1/1 [==============================] - 0s 6ms/step - loss: 1.0919 - mse: 1.0919\n",
      "Epoch 133/300\n",
      "1/1 [==============================] - 0s 5ms/step - loss: 1.0916 - mse: 1.0916\n",
      "Epoch 134/300\n",
      "1/1 [==============================] - 0s 5ms/step - loss: 1.0914 - mse: 1.0914\n",
      "Epoch 135/300\n",
      "1/1 [==============================] - 0s 5ms/step - loss: 1.0911 - mse: 1.0911\n",
      "Epoch 136/300\n",
      "1/1 [==============================] - 0s 5ms/step - loss: 1.0909 - mse: 1.0909\n",
      "Epoch 137/300\n",
      "1/1 [==============================] - 0s 5ms/step - loss: 1.0906 - mse: 1.0906\n",
      "Epoch 138/300\n",
      "1/1 [==============================] - 0s 4ms/step - loss: 1.0904 - mse: 1.0904\n",
      "Epoch 139/300\n",
      "1/1 [==============================] - 0s 6ms/step - loss: 1.0901 - mse: 1.0901\n",
      "Epoch 140/300\n",
      "1/1 [==============================] - 0s 7ms/step - loss: 1.0899 - mse: 1.0899\n",
      "Epoch 141/300\n",
      "1/1 [==============================] - 0s 4ms/step - loss: 1.0896 - mse: 1.0896\n",
      "Epoch 142/300\n",
      "1/1 [==============================] - 0s 5ms/step - loss: 1.0894 - mse: 1.0894\n",
      "Epoch 143/300\n",
      "1/1 [==============================] - 0s 5ms/step - loss: 1.0891 - mse: 1.0891\n",
      "Epoch 144/300\n",
      "1/1 [==============================] - 0s 5ms/step - loss: 1.0889 - mse: 1.0889\n",
      "Epoch 145/300\n",
      "1/1 [==============================] - 0s 6ms/step - loss: 1.0887 - mse: 1.0887\n",
      "Epoch 146/300\n",
      "1/1 [==============================] - 0s 5ms/step - loss: 1.0884 - mse: 1.0884\n",
      "Epoch 147/300\n",
      "1/1 [==============================] - 0s 5ms/step - loss: 1.0882 - mse: 1.0882\n",
      "Epoch 148/300\n",
      "1/1 [==============================] - 0s 5ms/step - loss: 1.0880 - mse: 1.0880\n",
      "Epoch 149/300\n",
      "1/1 [==============================] - 0s 5ms/step - loss: 1.0877 - mse: 1.0877\n",
      "Epoch 150/300\n",
      "1/1 [==============================] - 0s 5ms/step - loss: 1.0875 - mse: 1.0875\n",
      "Epoch 151/300\n",
      "1/1 [==============================] - 0s 5ms/step - loss: 1.0873 - mse: 1.0873\n",
      "Epoch 152/300\n",
      "1/1 [==============================] - 0s 7ms/step - loss: 1.0870 - mse: 1.0870\n",
      "Epoch 153/300\n",
      "1/1 [==============================] - 0s 5ms/step - loss: 1.0868 - mse: 1.0868\n",
      "Epoch 154/300\n",
      "1/1 [==============================] - 0s 5ms/step - loss: 1.0866 - mse: 1.0866\n",
      "Epoch 155/300\n",
      "1/1 [==============================] - 0s 4ms/step - loss: 1.0864 - mse: 1.0864\n",
      "Epoch 156/300\n",
      "1/1 [==============================] - 0s 5ms/step - loss: 1.0862 - mse: 1.0862\n",
      "Epoch 157/300\n",
      "1/1 [==============================] - 0s 4ms/step - loss: 1.0860 - mse: 1.0860\n",
      "Epoch 158/300\n",
      "1/1 [==============================] - 0s 5ms/step - loss: 1.0857 - mse: 1.0857\n",
      "Epoch 159/300\n",
      "1/1 [==============================] - 0s 5ms/step - loss: 1.0855 - mse: 1.0855\n",
      "Epoch 160/300\n",
      "1/1 [==============================] - 0s 5ms/step - loss: 1.0853 - mse: 1.0853\n",
      "Epoch 161/300\n",
      "1/1 [==============================] - 0s 5ms/step - loss: 1.0851 - mse: 1.0851\n",
      "Epoch 162/300\n",
      "1/1 [==============================] - 0s 4ms/step - loss: 1.0849 - mse: 1.0849\n",
      "Epoch 163/300\n",
      "1/1 [==============================] - 0s 5ms/step - loss: 1.0847 - mse: 1.0847\n",
      "Epoch 164/300\n",
      "1/1 [==============================] - 0s 5ms/step - loss: 1.0845 - mse: 1.0845\n",
      "Epoch 165/300\n",
      "1/1 [==============================] - 0s 5ms/step - loss: 1.0843 - mse: 1.0843\n",
      "Epoch 166/300\n",
      "1/1 [==============================] - 0s 5ms/step - loss: 1.0841 - mse: 1.0841\n",
      "Epoch 167/300\n",
      "1/1 [==============================] - 0s 5ms/step - loss: 1.0839 - mse: 1.0839\n",
      "Epoch 168/300\n",
      "1/1 [==============================] - 0s 5ms/step - loss: 1.0837 - mse: 1.0837\n",
      "Epoch 169/300\n",
      "1/1 [==============================] - 0s 4ms/step - loss: 1.0835 - mse: 1.0835\n",
      "Epoch 170/300\n",
      "1/1 [==============================] - 0s 5ms/step - loss: 1.0833 - mse: 1.0833\n",
      "Epoch 171/300\n",
      "1/1 [==============================] - 0s 5ms/step - loss: 1.0831 - mse: 1.0831\n",
      "Epoch 172/300\n",
      "1/1 [==============================] - 0s 5ms/step - loss: 1.0829 - mse: 1.0829\n",
      "Epoch 173/300\n",
      "1/1 [==============================] - 0s 8ms/step - loss: 1.0827 - mse: 1.0827\n",
      "Epoch 174/300\n",
      "1/1 [==============================] - 0s 5ms/step - loss: 1.0825 - mse: 1.0825\n",
      "Epoch 175/300\n",
      "1/1 [==============================] - 0s 5ms/step - loss: 1.0824 - mse: 1.0824\n",
      "Epoch 176/300\n"
     ]
    },
    {
     "name": "stdout",
     "output_type": "stream",
     "text": [
      "1/1 [==============================] - 0s 4ms/step - loss: 1.0822 - mse: 1.0822\n",
      "Epoch 177/300\n",
      "1/1 [==============================] - 0s 6ms/step - loss: 1.0820 - mse: 1.0820\n",
      "Epoch 178/300\n",
      "1/1 [==============================] - 0s 5ms/step - loss: 1.0818 - mse: 1.0818\n",
      "Epoch 179/300\n",
      "1/1 [==============================] - 0s 5ms/step - loss: 1.0816 - mse: 1.0816\n",
      "Epoch 180/300\n",
      "1/1 [==============================] - 0s 5ms/step - loss: 1.0815 - mse: 1.0815\n",
      "Epoch 181/300\n",
      "1/1 [==============================] - 0s 5ms/step - loss: 1.0813 - mse: 1.0813\n",
      "Epoch 182/300\n",
      "1/1 [==============================] - 0s 5ms/step - loss: 1.0811 - mse: 1.0811\n",
      "Epoch 183/300\n",
      "1/1 [==============================] - 0s 5ms/step - loss: 1.0809 - mse: 1.0809\n",
      "Epoch 184/300\n",
      "1/1 [==============================] - 0s 4ms/step - loss: 1.0808 - mse: 1.0808\n",
      "Epoch 185/300\n",
      "1/1 [==============================] - 0s 4ms/step - loss: 1.0806 - mse: 1.0806\n",
      "Epoch 186/300\n",
      "1/1 [==============================] - 0s 5ms/step - loss: 1.0804 - mse: 1.0804\n",
      "Epoch 187/300\n",
      "1/1 [==============================] - 0s 7ms/step - loss: 1.0802 - mse: 1.0802\n",
      "Epoch 188/300\n",
      "1/1 [==============================] - 0s 5ms/step - loss: 1.0801 - mse: 1.0801\n",
      "Epoch 189/300\n",
      "1/1 [==============================] - 0s 5ms/step - loss: 1.0799 - mse: 1.0799\n",
      "Epoch 190/300\n",
      "1/1 [==============================] - 0s 5ms/step - loss: 1.0797 - mse: 1.0797\n",
      "Epoch 191/300\n",
      "1/1 [==============================] - 0s 5ms/step - loss: 1.0796 - mse: 1.0796\n",
      "Epoch 192/300\n",
      "1/1 [==============================] - 0s 6ms/step - loss: 1.0794 - mse: 1.0794\n",
      "Epoch 193/300\n",
      "1/1 [==============================] - 0s 7ms/step - loss: 1.0793 - mse: 1.0793\n",
      "Epoch 194/300\n",
      "1/1 [==============================] - 0s 5ms/step - loss: 1.0791 - mse: 1.0791\n",
      "Epoch 195/300\n",
      "1/1 [==============================] - 0s 6ms/step - loss: 1.0789 - mse: 1.0789\n",
      "Epoch 196/300\n",
      "1/1 [==============================] - 0s 5ms/step - loss: 1.0788 - mse: 1.0788\n",
      "Epoch 197/300\n",
      "1/1 [==============================] - 0s 6ms/step - loss: 1.0786 - mse: 1.0786\n",
      "Epoch 198/300\n",
      "1/1 [==============================] - 0s 7ms/step - loss: 1.0785 - mse: 1.0785\n",
      "Epoch 199/300\n",
      "1/1 [==============================] - 0s 5ms/step - loss: 1.0783 - mse: 1.0783\n",
      "Epoch 200/300\n",
      "1/1 [==============================] - 0s 5ms/step - loss: 1.0782 - mse: 1.0782\n",
      "Epoch 201/300\n",
      "1/1 [==============================] - 0s 5ms/step - loss: 1.0780 - mse: 1.0780\n",
      "Epoch 202/300\n",
      "1/1 [==============================] - 0s 6ms/step - loss: 1.0779 - mse: 1.0779\n",
      "Epoch 203/300\n",
      "1/1 [==============================] - 0s 7ms/step - loss: 1.0777 - mse: 1.0777\n",
      "Epoch 204/300\n",
      "1/1 [==============================] - 0s 5ms/step - loss: 1.0776 - mse: 1.0776\n",
      "Epoch 205/300\n",
      "1/1 [==============================] - 0s 5ms/step - loss: 1.0774 - mse: 1.0774\n",
      "Epoch 206/300\n",
      "1/1 [==============================] - 0s 5ms/step - loss: 1.0773 - mse: 1.0773\n",
      "Epoch 207/300\n",
      "1/1 [==============================] - 0s 6ms/step - loss: 1.0772 - mse: 1.0772\n",
      "Epoch 208/300\n",
      "1/1 [==============================] - 0s 7ms/step - loss: 1.0770 - mse: 1.0770\n",
      "Epoch 209/300\n",
      "1/1 [==============================] - 0s 5ms/step - loss: 1.0769 - mse: 1.0769\n",
      "Epoch 210/300\n",
      "1/1 [==============================] - 0s 5ms/step - loss: 1.0767 - mse: 1.0767\n",
      "Epoch 211/300\n",
      "1/1 [==============================] - 0s 5ms/step - loss: 1.0766 - mse: 1.0766\n",
      "Epoch 212/300\n",
      "1/1 [==============================] - 0s 6ms/step - loss: 1.0765 - mse: 1.0765\n",
      "Epoch 213/300\n",
      "1/1 [==============================] - 0s 7ms/step - loss: 1.0763 - mse: 1.0763\n",
      "Epoch 214/300\n",
      "1/1 [==============================] - 0s 5ms/step - loss: 1.0762 - mse: 1.0762\n",
      "Epoch 215/300\n",
      "1/1 [==============================] - 0s 5ms/step - loss: 1.0761 - mse: 1.0761\n",
      "Epoch 216/300\n",
      "1/1 [==============================] - 0s 5ms/step - loss: 1.0759 - mse: 1.0759\n",
      "Epoch 217/300\n",
      "1/1 [==============================] - 0s 5ms/step - loss: 1.0758 - mse: 1.0758\n",
      "Epoch 218/300\n",
      "1/1 [==============================] - 0s 6ms/step - loss: 1.0757 - mse: 1.0757\n",
      "Epoch 219/300\n",
      "1/1 [==============================] - 0s 5ms/step - loss: 1.0755 - mse: 1.0755\n",
      "Epoch 220/300\n",
      "1/1 [==============================] - 0s 5ms/step - loss: 1.0754 - mse: 1.0754\n",
      "Epoch 221/300\n",
      "1/1 [==============================] - 0s 5ms/step - loss: 1.0753 - mse: 1.0753\n",
      "Epoch 222/300\n",
      "1/1 [==============================] - 0s 4ms/step - loss: 1.0751 - mse: 1.0751\n",
      "Epoch 223/300\n",
      "1/1 [==============================] - 0s 7ms/step - loss: 1.0750 - mse: 1.0750\n",
      "Epoch 224/300\n",
      "1/1 [==============================] - 0s 5ms/step - loss: 1.0749 - mse: 1.0749\n",
      "Epoch 225/300\n",
      "1/1 [==============================] - 0s 5ms/step - loss: 1.0748 - mse: 1.0748\n",
      "Epoch 226/300\n",
      "1/1 [==============================] - 0s 5ms/step - loss: 1.0747 - mse: 1.0747\n",
      "Epoch 227/300\n",
      "1/1 [==============================] - 0s 5ms/step - loss: 1.0745 - mse: 1.0745\n",
      "Epoch 228/300\n",
      "1/1 [==============================] - 0s 7ms/step - loss: 1.0744 - mse: 1.0744\n",
      "Epoch 229/300\n",
      "1/1 [==============================] - 0s 5ms/step - loss: 1.0743 - mse: 1.0743\n",
      "Epoch 230/300\n",
      "1/1 [==============================] - 0s 5ms/step - loss: 1.0742 - mse: 1.0742\n",
      "Epoch 231/300\n",
      "1/1 [==============================] - 0s 5ms/step - loss: 1.0741 - mse: 1.0741\n",
      "Epoch 232/300\n",
      "1/1 [==============================] - 0s 5ms/step - loss: 1.0739 - mse: 1.0739\n",
      "Epoch 233/300\n",
      "1/1 [==============================] - 0s 7ms/step - loss: 1.0738 - mse: 1.0738\n",
      "Epoch 234/300\n",
      "1/1 [==============================] - 0s 7ms/step - loss: 1.0737 - mse: 1.0737\n",
      "Epoch 235/300\n",
      "1/1 [==============================] - 0s 5ms/step - loss: 1.0736 - mse: 1.0736\n",
      "Epoch 236/300\n",
      "1/1 [==============================] - 0s 5ms/step - loss: 1.0735 - mse: 1.0735\n",
      "Epoch 237/300\n",
      "1/1 [==============================] - 0s 5ms/step - loss: 1.0734 - mse: 1.0734\n",
      "Epoch 238/300\n",
      "1/1 [==============================] - 0s 7ms/step - loss: 1.0733 - mse: 1.0733\n",
      "Epoch 239/300\n",
      "1/1 [==============================] - 0s 6ms/step - loss: 1.0732 - mse: 1.0732\n",
      "Epoch 240/300\n",
      "1/1 [==============================] - 0s 5ms/step - loss: 1.0730 - mse: 1.0730\n",
      "Epoch 241/300\n",
      "1/1 [==============================] - 0s 6ms/step - loss: 1.0729 - mse: 1.0729\n",
      "Epoch 242/300\n",
      "1/1 [==============================] - 0s 6ms/step - loss: 1.0728 - mse: 1.0728\n",
      "Epoch 243/300\n",
      "1/1 [==============================] - 0s 7ms/step - loss: 1.0727 - mse: 1.0727\n",
      "Epoch 244/300\n",
      "1/1 [==============================] - 0s 4ms/step - loss: 1.0726 - mse: 1.0726\n",
      "Epoch 245/300\n",
      "1/1 [==============================] - 0s 5ms/step - loss: 1.0725 - mse: 1.0725\n",
      "Epoch 246/300\n",
      "1/1 [==============================] - 0s 5ms/step - loss: 1.0724 - mse: 1.0724\n",
      "Epoch 247/300\n",
      "1/1 [==============================] - 0s 4ms/step - loss: 1.0723 - mse: 1.0723\n",
      "Epoch 248/300\n",
      "1/1 [==============================] - 0s 6ms/step - loss: 1.0722 - mse: 1.0722\n",
      "Epoch 249/300\n",
      "1/1 [==============================] - 0s 7ms/step - loss: 1.0721 - mse: 1.0721\n",
      "Epoch 250/300\n",
      "1/1 [==============================] - 0s 5ms/step - loss: 1.0720 - mse: 1.0720\n",
      "Epoch 251/300\n",
      "1/1 [==============================] - 0s 5ms/step - loss: 1.0719 - mse: 1.0719\n",
      "Epoch 252/300\n",
      "1/1 [==============================] - 0s 4ms/step - loss: 1.0718 - mse: 1.0718\n",
      "Epoch 253/300\n",
      "1/1 [==============================] - 0s 6ms/step - loss: 1.0717 - mse: 1.0717\n",
      "Epoch 254/300\n",
      "1/1 [==============================] - 0s 5ms/step - loss: 1.0716 - mse: 1.0716\n",
      "Epoch 255/300\n",
      "1/1 [==============================] - 0s 5ms/step - loss: 1.0715 - mse: 1.0715\n",
      "Epoch 256/300\n",
      "1/1 [==============================] - 0s 4ms/step - loss: 1.0714 - mse: 1.0714\n",
      "Epoch 257/300\n",
      "1/1 [==============================] - 0s 4ms/step - loss: 1.0713 - mse: 1.0713\n",
      "Epoch 258/300\n",
      "1/1 [==============================] - 0s 7ms/step - loss: 1.0712 - mse: 1.0712\n",
      "Epoch 259/300\n",
      "1/1 [==============================] - 0s 8ms/step - loss: 1.0711 - mse: 1.0711\n",
      "Epoch 260/300\n",
      "1/1 [==============================] - 0s 4ms/step - loss: 1.0710 - mse: 1.0710\n",
      "Epoch 261/300\n",
      "1/1 [==============================] - 0s 5ms/step - loss: 1.0710 - mse: 1.0710\n",
      "Epoch 262/300\n",
      "1/1 [==============================] - 0s 6ms/step - loss: 1.0709 - mse: 1.0709\n",
      "Epoch 263/300\n",
      "1/1 [==============================] - 0s 5ms/step - loss: 1.0708 - mse: 1.0708\n",
      "Epoch 264/300\n",
      "1/1 [==============================] - 0s 7ms/step - loss: 1.0707 - mse: 1.0707\n",
      "Epoch 265/300\n",
      "1/1 [==============================] - 0s 5ms/step - loss: 1.0706 - mse: 1.0706\n",
      "Epoch 266/300\n",
      "1/1 [==============================] - 0s 4ms/step - loss: 1.0705 - mse: 1.0705\n",
      "Epoch 267/300\n",
      "1/1 [==============================] - 0s 5ms/step - loss: 1.0704 - mse: 1.0704\n",
      "Epoch 268/300\n",
      "1/1 [==============================] - 0s 6ms/step - loss: 1.0703 - mse: 1.0703\n",
      "Epoch 269/300\n",
      "1/1 [==============================] - 0s 5ms/step - loss: 1.0702 - mse: 1.0702\n",
      "Epoch 270/300\n",
      "1/1 [==============================] - 0s 4ms/step - loss: 1.0702 - mse: 1.0702\n",
      "Epoch 271/300\n",
      "1/1 [==============================] - 0s 5ms/step - loss: 1.0701 - mse: 1.0701\n",
      "Epoch 272/300\n",
      "1/1 [==============================] - 0s 5ms/step - loss: 1.0700 - mse: 1.0700\n",
      "Epoch 273/300\n",
      "1/1 [==============================] - 0s 6ms/step - loss: 1.0699 - mse: 1.0699\n",
      "Epoch 274/300\n",
      "1/1 [==============================] - 0s 5ms/step - loss: 1.0698 - mse: 1.0698\n",
      "Epoch 275/300\n",
      "1/1 [==============================] - 0s 5ms/step - loss: 1.0697 - mse: 1.0697\n",
      "Epoch 276/300\n",
      "1/1 [==============================] - 0s 5ms/step - loss: 1.0697 - mse: 1.0697\n",
      "Epoch 277/300\n",
      "1/1 [==============================] - 0s 6ms/step - loss: 1.0696 - mse: 1.0696\n",
      "Epoch 278/300\n",
      "1/1 [==============================] - 0s 5ms/step - loss: 1.0695 - mse: 1.0695\n",
      "Epoch 279/300\n",
      "1/1 [==============================] - 0s 5ms/step - loss: 1.0694 - mse: 1.0694\n",
      "Epoch 280/300\n",
      "1/1 [==============================] - 0s 5ms/step - loss: 1.0694 - mse: 1.0694\n",
      "Epoch 281/300\n",
      "1/1 [==============================] - 0s 5ms/step - loss: 1.0693 - mse: 1.0693\n",
      "Epoch 282/300\n",
      "1/1 [==============================] - 0s 5ms/step - loss: 1.0692 - mse: 1.0692\n",
      "Epoch 283/300\n",
      "1/1 [==============================] - 0s 6ms/step - loss: 1.0691 - mse: 1.0691\n",
      "Epoch 284/300\n",
      "1/1 [==============================] - 0s 6ms/step - loss: 1.0690 - mse: 1.0690\n",
      "Epoch 285/300\n",
      "1/1 [==============================] - 0s 5ms/step - loss: 1.0690 - mse: 1.0690\n",
      "Epoch 286/300\n",
      "1/1 [==============================] - 0s 5ms/step - loss: 1.0689 - mse: 1.0689\n",
      "Epoch 287/300\n",
      "1/1 [==============================] - 0s 6ms/step - loss: 1.0688 - mse: 1.0688\n",
      "Epoch 288/300\n",
      "1/1 [==============================] - 0s 5ms/step - loss: 1.0687 - mse: 1.0687\n",
      "Epoch 289/300\n",
      "1/1 [==============================] - 0s 5ms/step - loss: 1.0687 - mse: 1.0687\n",
      "Epoch 290/300\n",
      "1/1 [==============================] - 0s 5ms/step - loss: 1.0686 - mse: 1.0686\n",
      "Epoch 291/300\n",
      "1/1 [==============================] - 0s 5ms/step - loss: 1.0685 - mse: 1.0685\n",
      "Epoch 292/300\n",
      "1/1 [==============================] - 0s 4ms/step - loss: 1.0685 - mse: 1.0685\n",
      "Epoch 293/300\n",
      "1/1 [==============================] - 0s 6ms/step - loss: 1.0684 - mse: 1.0684\n",
      "Epoch 294/300\n",
      "1/1 [==============================] - 0s 6ms/step - loss: 1.0683 - mse: 1.0683\n",
      "Epoch 295/300\n",
      "1/1 [==============================] - 0s 5ms/step - loss: 1.0682 - mse: 1.0682\n",
      "Epoch 296/300\n",
      "1/1 [==============================] - 0s 5ms/step - loss: 1.0682 - mse: 1.0682\n",
      "Epoch 297/300\n",
      "1/1 [==============================] - 0s 5ms/step - loss: 1.0681 - mse: 1.0681\n",
      "Epoch 298/300\n",
      "1/1 [==============================] - 0s 5ms/step - loss: 1.0680 - mse: 1.0680\n",
      "Epoch 299/300\n",
      "1/1 [==============================] - 0s 6ms/step - loss: 1.0680 - mse: 1.0680\n",
      "Epoch 300/300\n",
      "1/1 [==============================] - 0s 5ms/step - loss: 1.0679 - mse: 1.0679\n"
     ]
    },
    {
     "data": {
      "text/plain": [
       "<keras.callbacks.History at 0x1644f80b100>"
      ]
     },
     "execution_count": 26,
     "metadata": {},
     "output_type": "execute_result"
    }
   ],
   "source": [
    "from tensorflow.keras.layers import Input, Dense\n",
    "from tensorflow.keras import optimizers\n",
    "from tensorflow.keras.models import Model\n",
    "\n",
    "X = [1, 2, 3, 4, 5, 6, 7, 8, 9] # 공부하는 시간\n",
    "y = [11, 22, 33, 44, 53, 66, 77, 87, 95] # 각 공부하는 시간에 맵핑되는 성적\n",
    "\n",
    "inputs = Input(shape=(1,))\n",
    "output = Dense(1, activation='linear')(inputs)\n",
    "linear_model = Model(inputs, output)\n",
    "\n",
    "sgd = optimizers.SGD(lr=0.01)\n",
    "\n",
    "linear_model.compile(optimizer=sgd, loss='mse', metrics=['mse'])\n",
    "linear_model.fit(X, y, epochs=300)"
   ]
  },
  {
   "cell_type": "markdown",
   "metadata": {},
   "source": [
    "#### (3) 로지스틱 회귀(Logistic Regression)"
   ]
  },
  {
   "cell_type": "code",
   "execution_count": 27,
   "metadata": {},
   "outputs": [],
   "source": [
    "from tensorflow.keras.layers import Input, Dense\n",
    "from tensorflow.keras.models import Model\n",
    "\n",
    "inputs = Input(shape=(3,))\n",
    "output = Dense(1, activation='sigmoid')(inputs)\n",
    "logistic_model = Model(inputs, output)"
   ]
  },
  {
   "cell_type": "markdown",
   "metadata": {},
   "source": [
    "#### (4) 다중 입력을 받는 모델(model that accepts multiple inputs)"
   ]
  },
  {
   "cell_type": "markdown",
   "metadata": {},
   "source": [
    "``` python\n",
    "# 최종 완성된 다중 입력, 다중 출력 모델의 예\n",
    "model = Model(inputs=[a1, a2], outputs=[b1, b2, b3])\n",
    "```"
   ]
  },
  {
   "cell_type": "code",
   "execution_count": 29,
   "metadata": {},
   "outputs": [],
   "source": [
    "from tensorflow.keras.layers import Input, Dense, concatenate\n",
    "from tensorflow.keras.models import Model\n",
    "\n",
    "# 두 개의 입력층을 정의\n",
    "inputA = Input(shape=(64,))\n",
    "inputB = Input(shape=(128,))\n",
    "\n",
    "# 첫번째 입력층으로부터 분기되어 진행되는 인공 신경망을 정의\n",
    "x = Dense(16, activation=\"relu\")(inputA)\n",
    "x = Dense(8, activation=\"relu\")(x)\n",
    "x = Model(inputs=inputA, outputs=x)\n",
    "\n",
    "# 두번째 입력층으로부터 분기되어 진행되는 인공 신경망을 정의\n",
    "y = Dense(64, activation=\"relu\")(inputB)\n",
    "y = Dense(32, activation=\"relu\")(y)\n",
    "y = Dense(8, activation=\"relu\")(y)\n",
    "y = Model(inputs=inputB, outputs=y)\n",
    "\n",
    "# 두개의 인공 신경망의 출력을 연결(concatenate)\n",
    "result = concatenate([x.output, y.output])\n",
    "\n",
    "z = Dense(2, activation=\"relu\")(result)\n",
    "z = Dense(1, activation=\"linear\")(z)\n",
    "\n",
    "model = Model(inputs=[x.input, y.input], outputs=z)"
   ]
  },
  {
   "cell_type": "markdown",
   "metadata": {},
   "source": [
    "#### (5) RNN(Recurrence Neural Network) 은닉층 사용하기"
   ]
  },
  {
   "cell_type": "code",
   "execution_count": 30,
   "metadata": {},
   "outputs": [],
   "source": [
    "from tensorflow.keras.layers import Input, Dense, LSTM\n",
    "from tensorflow.keras.models import Model\n",
    "\n",
    "# 하나의 특성(feature)에 50개의 시점(time-step)을 입력\n",
    "inputs = Input(shape=(50,1))\n",
    "lstm_layer = LSTM(10)(inputs)\n",
    "x = Dense(10, activation='relu')(lstm_layer)\n",
    "output = Dense(1, activation='sigmoid')(x)\n",
    "\n",
    "model = Model(inputs=inputs, outputs=output)"
   ]
  },
  {
   "cell_type": "markdown",
   "metadata": {},
   "source": [
    "#### (6) 다르게 보이지만 동일한 표기"
   ]
  },
  {
   "cell_type": "markdown",
   "metadata": {},
   "source": [
    "```python\n",
    "# 같은 코드를 한줄로 표기\n",
    "result = Dense(128)(input)\n",
    "\n",
    "# 같은 코드를 두줄로 표기\n",
    "dense = Dense(128)\n",
    "result = dense(input)\n",
    "```"
   ]
  },
  {
   "cell_type": "markdown",
   "metadata": {},
   "source": [
    "## 07-10 케라스 서브클래싱 API(Keras Subclassing API)"
   ]
  },
  {
   "cell_type": "markdown",
   "metadata": {},
   "source": [
    "### 1. 서브클래싱 API로 구현한 선형 회귀"
   ]
  },
  {
   "cell_type": "code",
   "execution_count": 35,
   "metadata": {},
   "outputs": [],
   "source": [
    "import tensorflow as tf"
   ]
  },
  {
   "cell_type": "code",
   "execution_count": 36,
   "metadata": {},
   "outputs": [],
   "source": [
    "class LinearRegression(tf.keras.Model):\n",
    "    def __init__(self):\n",
    "        super(LinearRegression, self).__init__()\n",
    "        self.linear_layer = tf.keras.layers.Dense(1, input_dim=1, activation='linear')\n",
    "\n",
    "    def call(self, x):\n",
    "        y_pred = self.linear_layer(x)\n",
    "        return y_pred"
   ]
  },
  {
   "cell_type": "code",
   "execution_count": 37,
   "metadata": {},
   "outputs": [],
   "source": [
    "model = LinearRegression()"
   ]
  },
  {
   "cell_type": "code",
   "execution_count": 38,
   "metadata": {},
   "outputs": [],
   "source": [
    "X = [1, 2, 3, 4, 5, 6, 7, 8, 9] # 공부하는 시간\n",
    "y = [11, 22, 33, 44, 53, 66, 77, 87, 95] # 각 공부하는 시간에 맵핑되는 성적"
   ]
  },
  {
   "cell_type": "code",
   "execution_count": 42,
   "metadata": {},
   "outputs": [
    {
     "name": "stdout",
     "output_type": "stream",
     "text": [
      "Epoch 1/300\n",
      "1/1 [==============================] - 0s 171ms/step - loss: 4748.8896 - mse: 4748.8896\n",
      "Epoch 2/300\n",
      "1/1 [==============================] - 0s 6ms/step - loss: 585.4631 - mse: 585.4631\n",
      "Epoch 3/300\n",
      "1/1 [==============================] - 0s 6ms/step - loss: 73.1828 - mse: 73.1828\n",
      "Epoch 4/300\n",
      "1/1 [==============================] - 0s 5ms/step - loss: 10.1489 - mse: 10.1489\n",
      "Epoch 5/300\n",
      "1/1 [==============================] - 0s 5ms/step - loss: 2.3913 - mse: 2.3913\n",
      "Epoch 6/300\n",
      "1/1 [==============================] - 0s 5ms/step - loss: 1.4350 - mse: 1.4350\n",
      "Epoch 7/300\n",
      "1/1 [==============================] - 0s 6ms/step - loss: 1.3156 - mse: 1.3156\n",
      "Epoch 8/300\n",
      "1/1 [==============================] - 0s 6ms/step - loss: 1.2992 - mse: 1.2992\n",
      "Epoch 9/300\n",
      "1/1 [==============================] - 0s 5ms/step - loss: 1.2955 - mse: 1.2955\n",
      "Epoch 10/300\n",
      "1/1 [==============================] - 0s 8ms/step - loss: 1.2933 - mse: 1.2933\n",
      "Epoch 11/300\n",
      "1/1 [==============================] - 0s 5ms/step - loss: 1.2914 - mse: 1.2914\n",
      "Epoch 12/300\n",
      "1/1 [==============================] - 0s 5ms/step - loss: 1.2895 - mse: 1.2895\n",
      "Epoch 13/300\n",
      "1/1 [==============================] - 0s 5ms/step - loss: 1.2876 - mse: 1.2876\n",
      "Epoch 14/300\n",
      "1/1 [==============================] - 0s 8ms/step - loss: 1.2857 - mse: 1.2857\n",
      "Epoch 15/300\n",
      "1/1 [==============================] - 0s 5ms/step - loss: 1.2839 - mse: 1.2839\n",
      "Epoch 16/300\n",
      "1/1 [==============================] - 0s 11ms/step - loss: 1.2820 - mse: 1.2820\n",
      "Epoch 17/300\n",
      "1/1 [==============================] - 0s 5ms/step - loss: 1.2802 - mse: 1.2802\n",
      "Epoch 18/300\n",
      "1/1 [==============================] - 0s 12ms/step - loss: 1.2784 - mse: 1.2784\n",
      "Epoch 19/300\n",
      "1/1 [==============================] - 0s 5ms/step - loss: 1.2766 - mse: 1.2766\n",
      "Epoch 20/300\n",
      "1/1 [==============================] - 0s 6ms/step - loss: 1.2748 - mse: 1.2748\n",
      "Epoch 21/300\n",
      "1/1 [==============================] - 0s 5ms/step - loss: 1.2731 - mse: 1.2731\n",
      "Epoch 22/300\n",
      "1/1 [==============================] - 0s 5ms/step - loss: 1.2713 - mse: 1.2713\n",
      "Epoch 23/300\n",
      "1/1 [==============================] - 0s 8ms/step - loss: 1.2696 - mse: 1.2696\n",
      "Epoch 24/300\n",
      "1/1 [==============================] - 0s 5ms/step - loss: 1.2679 - mse: 1.2679\n",
      "Epoch 25/300\n",
      "1/1 [==============================] - 0s 6ms/step - loss: 1.2662 - mse: 1.2662\n",
      "Epoch 26/300\n",
      "1/1 [==============================] - 0s 9ms/step - loss: 1.2645 - mse: 1.2645\n",
      "Epoch 27/300\n",
      "1/1 [==============================] - 0s 5ms/step - loss: 1.2628 - mse: 1.2628\n",
      "Epoch 28/300\n",
      "1/1 [==============================] - 0s 12ms/step - loss: 1.2611 - mse: 1.2611\n",
      "Epoch 29/300\n",
      "1/1 [==============================] - 0s 5ms/step - loss: 1.2595 - mse: 1.2595\n",
      "Epoch 30/300\n",
      "1/1 [==============================] - 0s 12ms/step - loss: 1.2579 - mse: 1.2579\n",
      "Epoch 31/300\n",
      "1/1 [==============================] - 0s 5ms/step - loss: 1.2562 - mse: 1.2562\n",
      "Epoch 32/300\n",
      "1/1 [==============================] - 0s 12ms/step - loss: 1.2546 - mse: 1.2546\n",
      "Epoch 33/300\n",
      "1/1 [==============================] - 0s 6ms/step - loss: 1.2530 - mse: 1.2530\n",
      "Epoch 34/300\n",
      "1/1 [==============================] - 0s 6ms/step - loss: 1.2514 - mse: 1.2514\n",
      "Epoch 35/300\n",
      "1/1 [==============================] - 0s 5ms/step - loss: 1.2499 - mse: 1.2499\n",
      "Epoch 36/300\n",
      "1/1 [==============================] - 0s 5ms/step - loss: 1.2483 - mse: 1.2483\n",
      "Epoch 37/300\n",
      "1/1 [==============================] - 0s 10ms/step - loss: 1.2468 - mse: 1.2468\n",
      "Epoch 38/300\n",
      "1/1 [==============================] - 0s 6ms/step - loss: 1.2452 - mse: 1.2452\n",
      "Epoch 39/300\n",
      "1/1 [==============================] - 0s 7ms/step - loss: 1.2437 - mse: 1.2437\n",
      "Epoch 40/300\n",
      "1/1 [==============================] - 0s 6ms/step - loss: 1.2422 - mse: 1.2422\n",
      "Epoch 41/300\n",
      "1/1 [==============================] - 0s 8ms/step - loss: 1.2407 - mse: 1.2407\n",
      "Epoch 42/300\n",
      "1/1 [==============================] - 0s 6ms/step - loss: 1.2392 - mse: 1.2392\n",
      "Epoch 43/300\n",
      "1/1 [==============================] - 0s 8ms/step - loss: 1.2378 - mse: 1.2378\n",
      "Epoch 44/300\n",
      "1/1 [==============================] - 0s 6ms/step - loss: 1.2363 - mse: 1.2363\n",
      "Epoch 45/300\n",
      "1/1 [==============================] - 0s 6ms/step - loss: 1.2349 - mse: 1.2349\n",
      "Epoch 46/300\n",
      "1/1 [==============================] - 0s 8ms/step - loss: 1.2334 - mse: 1.2334\n",
      "Epoch 47/300\n",
      "1/1 [==============================] - 0s 5ms/step - loss: 1.2320 - mse: 1.2320\n",
      "Epoch 48/300\n",
      "1/1 [==============================] - 0s 11ms/step - loss: 1.2306 - mse: 1.2306\n",
      "Epoch 49/300\n",
      "1/1 [==============================] - 0s 5ms/step - loss: 1.2292 - mse: 1.2292\n",
      "Epoch 50/300\n",
      "1/1 [==============================] - 0s 6ms/step - loss: 1.2278 - mse: 1.2278\n",
      "Epoch 51/300\n",
      "1/1 [==============================] - 0s 9ms/step - loss: 1.2264 - mse: 1.2264\n",
      "Epoch 52/300\n",
      "1/1 [==============================] - 0s 6ms/step - loss: 1.2251 - mse: 1.2251\n",
      "Epoch 53/300\n",
      "1/1 [==============================] - 0s 9ms/step - loss: 1.2237 - mse: 1.2237\n",
      "Epoch 54/300\n",
      "1/1 [==============================] - 0s 5ms/step - loss: 1.2224 - mse: 1.2224\n",
      "Epoch 55/300\n",
      "1/1 [==============================] - 0s 7ms/step - loss: 1.2210 - mse: 1.2210\n",
      "Epoch 56/300\n",
      "1/1 [==============================] - 0s 6ms/step - loss: 1.2197 - mse: 1.2197\n",
      "Epoch 57/300\n",
      "1/1 [==============================] - 0s 6ms/step - loss: 1.2184 - mse: 1.2184\n",
      "Epoch 58/300\n",
      "1/1 [==============================] - 0s 5ms/step - loss: 1.2171 - mse: 1.2171\n",
      "Epoch 59/300\n",
      "1/1 [==============================] - 0s 7ms/step - loss: 1.2158 - mse: 1.2158\n",
      "Epoch 60/300\n",
      "1/1 [==============================] - 0s 5ms/step - loss: 1.2145 - mse: 1.2145\n",
      "Epoch 61/300\n",
      "1/1 [==============================] - 0s 5ms/step - loss: 1.2133 - mse: 1.2133\n",
      "Epoch 62/300\n",
      "1/1 [==============================] - 0s 9ms/step - loss: 1.2120 - mse: 1.2120\n",
      "Epoch 63/300\n",
      "1/1 [==============================] - 0s 6ms/step - loss: 1.2108 - mse: 1.2108\n",
      "Epoch 64/300\n",
      "1/1 [==============================] - 0s 11ms/step - loss: 1.2095 - mse: 1.2095\n",
      "Epoch 65/300\n",
      "1/1 [==============================] - 0s 5ms/step - loss: 1.2083 - mse: 1.2083\n",
      "Epoch 66/300\n",
      "1/1 [==============================] - 0s 12ms/step - loss: 1.2071 - mse: 1.2071\n",
      "Epoch 67/300\n",
      "1/1 [==============================] - 0s 8ms/step - loss: 1.2059 - mse: 1.2059\n",
      "Epoch 68/300\n",
      "1/1 [==============================] - 0s 5ms/step - loss: 1.2047 - mse: 1.2047\n",
      "Epoch 69/300\n",
      "1/1 [==============================] - 0s 5ms/step - loss: 1.2035 - mse: 1.2035\n",
      "Epoch 70/300\n",
      "1/1 [==============================] - 0s 8ms/step - loss: 1.2023 - mse: 1.2023\n",
      "Epoch 71/300\n",
      "1/1 [==============================] - 0s 5ms/step - loss: 1.2011 - mse: 1.2011\n",
      "Epoch 72/300\n",
      "1/1 [==============================] - 0s 5ms/step - loss: 1.2000 - mse: 1.2000\n",
      "Epoch 73/300\n",
      "1/1 [==============================] - 0s 5ms/step - loss: 1.1988 - mse: 1.1988\n",
      "Epoch 74/300\n",
      "1/1 [==============================] - 0s 7ms/step - loss: 1.1977 - mse: 1.1977\n",
      "Epoch 75/300\n",
      "1/1 [==============================] - 0s 6ms/step - loss: 1.1966 - mse: 1.1966\n",
      "Epoch 76/300\n",
      "1/1 [==============================] - 0s 5ms/step - loss: 1.1954 - mse: 1.1954\n",
      "Epoch 77/300\n",
      "1/1 [==============================] - 0s 5ms/step - loss: 1.1943 - mse: 1.1943\n",
      "Epoch 78/300\n",
      "1/1 [==============================] - 0s 8ms/step - loss: 1.1932 - mse: 1.1932\n",
      "Epoch 79/300\n",
      "1/1 [==============================] - 0s 5ms/step - loss: 1.1921 - mse: 1.1921\n",
      "Epoch 80/300\n",
      "1/1 [==============================] - 0s 4ms/step - loss: 1.1911 - mse: 1.1911\n",
      "Epoch 81/300\n",
      "1/1 [==============================] - 0s 7ms/step - loss: 1.1900 - mse: 1.1900\n",
      "Epoch 82/300\n",
      "1/1 [==============================] - 0s 6ms/step - loss: 1.1889 - mse: 1.1889\n",
      "Epoch 83/300\n",
      "1/1 [==============================] - 0s 5ms/step - loss: 1.1879 - mse: 1.1879\n",
      "Epoch 84/300\n",
      "1/1 [==============================] - 0s 5ms/step - loss: 1.1868 - mse: 1.1868\n",
      "Epoch 85/300\n",
      "1/1 [==============================] - 0s 6ms/step - loss: 1.1858 - mse: 1.1858\n",
      "Epoch 86/300\n",
      "1/1 [==============================] - 0s 6ms/step - loss: 1.1847 - mse: 1.1847\n",
      "Epoch 87/300\n",
      "1/1 [==============================] - 0s 5ms/step - loss: 1.1837 - mse: 1.1837\n",
      "Epoch 88/300\n",
      "1/1 [==============================] - 0s 5ms/step - loss: 1.1827 - mse: 1.1827\n",
      "Epoch 89/300\n",
      "1/1 [==============================] - 0s 6ms/step - loss: 1.1817 - mse: 1.1817\n",
      "Epoch 90/300\n",
      "1/1 [==============================] - 0s 6ms/step - loss: 1.1807 - mse: 1.1807\n",
      "Epoch 91/300\n",
      "1/1 [==============================] - 0s 5ms/step - loss: 1.1797 - mse: 1.1797\n",
      "Epoch 92/300\n",
      "1/1 [==============================] - 0s 5ms/step - loss: 1.1787 - mse: 1.1787\n",
      "Epoch 93/300\n",
      "1/1 [==============================] - 0s 5ms/step - loss: 1.1777 - mse: 1.1777\n",
      "Epoch 94/300\n",
      "1/1 [==============================] - 0s 5ms/step - loss: 1.1768 - mse: 1.1768\n",
      "Epoch 95/300\n",
      "1/1 [==============================] - 0s 5ms/step - loss: 1.1758 - mse: 1.1758\n",
      "Epoch 96/300\n",
      "1/1 [==============================] - 0s 5ms/step - loss: 1.1749 - mse: 1.1749\n",
      "Epoch 97/300\n",
      "1/1 [==============================] - 0s 5ms/step - loss: 1.1739 - mse: 1.1739\n",
      "Epoch 98/300\n",
      "1/1 [==============================] - 0s 7ms/step - loss: 1.1730 - mse: 1.1730\n",
      "Epoch 99/300\n",
      "1/1 [==============================] - 0s 6ms/step - loss: 1.1721 - mse: 1.1721\n",
      "Epoch 100/300\n",
      "1/1 [==============================] - 0s 5ms/step - loss: 1.1711 - mse: 1.1711\n",
      "Epoch 101/300\n",
      "1/1 [==============================] - 0s 5ms/step - loss: 1.1702 - mse: 1.1702\n",
      "Epoch 102/300\n",
      "1/1 [==============================] - 0s 5ms/step - loss: 1.1693 - mse: 1.1693\n",
      "Epoch 103/300\n",
      "1/1 [==============================] - 0s 6ms/step - loss: 1.1684 - mse: 1.1684\n",
      "Epoch 104/300\n",
      "1/1 [==============================] - 0s 7ms/step - loss: 1.1675 - mse: 1.1675\n",
      "Epoch 105/300\n",
      "1/1 [==============================] - 0s 5ms/step - loss: 1.1667 - mse: 1.1667\n",
      "Epoch 106/300\n",
      "1/1 [==============================] - 0s 5ms/step - loss: 1.1658 - mse: 1.1658\n",
      "Epoch 107/300\n",
      "1/1 [==============================] - 0s 6ms/step - loss: 1.1649 - mse: 1.1649\n",
      "Epoch 108/300\n",
      "1/1 [==============================] - 0s 6ms/step - loss: 1.1641 - mse: 1.1641\n",
      "Epoch 109/300\n",
      "1/1 [==============================] - 0s 5ms/step - loss: 1.1632 - mse: 1.1632\n",
      "Epoch 110/300\n",
      "1/1 [==============================] - 0s 5ms/step - loss: 1.1624 - mse: 1.1624\n",
      "Epoch 111/300\n",
      "1/1 [==============================] - 0s 8ms/step - loss: 1.1615 - mse: 1.1615\n",
      "Epoch 112/300\n",
      "1/1 [==============================] - 0s 6ms/step - loss: 1.1607 - mse: 1.1607\n",
      "Epoch 113/300\n",
      "1/1 [==============================] - 0s 5ms/step - loss: 1.1598 - mse: 1.1598\n",
      "Epoch 114/300\n",
      "1/1 [==============================] - 0s 5ms/step - loss: 1.1590 - mse: 1.1590\n",
      "Epoch 115/300\n",
      "1/1 [==============================] - 0s 7ms/step - loss: 1.1582 - mse: 1.1582\n",
      "Epoch 116/300\n",
      "1/1 [==============================] - 0s 7ms/step - loss: 1.1574 - mse: 1.1574\n",
      "Epoch 117/300\n",
      "1/1 [==============================] - 0s 5ms/step - loss: 1.1566 - mse: 1.1566\n",
      "Epoch 118/300\n",
      "1/1 [==============================] - 0s 5ms/step - loss: 1.1558 - mse: 1.1558\n",
      "Epoch 119/300\n",
      "1/1 [==============================] - 0s 7ms/step - loss: 1.1550 - mse: 1.1550\n",
      "Epoch 120/300\n",
      "1/1 [==============================] - 0s 5ms/step - loss: 1.1543 - mse: 1.1543\n",
      "Epoch 121/300\n",
      "1/1 [==============================] - 0s 6ms/step - loss: 1.1535 - mse: 1.1535\n",
      "Epoch 122/300\n",
      "1/1 [==============================] - 0s 5ms/step - loss: 1.1527 - mse: 1.1527\n",
      "Epoch 123/300\n",
      "1/1 [==============================] - 0s 7ms/step - loss: 1.1520 - mse: 1.1520\n",
      "Epoch 124/300\n",
      "1/1 [==============================] - 0s 4ms/step - loss: 1.1512 - mse: 1.1512\n",
      "Epoch 125/300\n",
      "1/1 [==============================] - 0s 5ms/step - loss: 1.1504 - mse: 1.1504\n",
      "Epoch 126/300\n",
      "1/1 [==============================] - 0s 5ms/step - loss: 1.1497 - mse: 1.1497\n",
      "Epoch 127/300\n",
      "1/1 [==============================] - 0s 7ms/step - loss: 1.1490 - mse: 1.1490\n",
      "Epoch 128/300\n",
      "1/1 [==============================] - 0s 5ms/step - loss: 1.1482 - mse: 1.1482\n",
      "Epoch 129/300\n",
      "1/1 [==============================] - 0s 5ms/step - loss: 1.1475 - mse: 1.1475\n",
      "Epoch 130/300\n",
      "1/1 [==============================] - 0s 5ms/step - loss: 1.1468 - mse: 1.1468\n",
      "Epoch 131/300\n",
      "1/1 [==============================] - 0s 5ms/step - loss: 1.1461 - mse: 1.1461\n",
      "Epoch 132/300\n",
      "1/1 [==============================] - 0s 6ms/step - loss: 1.1454 - mse: 1.1454\n",
      "Epoch 133/300\n",
      "1/1 [==============================] - 0s 5ms/step - loss: 1.1447 - mse: 1.1447\n",
      "Epoch 134/300\n",
      "1/1 [==============================] - 0s 5ms/step - loss: 1.1440 - mse: 1.1440\n",
      "Epoch 135/300\n",
      "1/1 [==============================] - 0s 8ms/step - loss: 1.1433 - mse: 1.1433\n",
      "Epoch 136/300\n",
      "1/1 [==============================] - 0s 5ms/step - loss: 1.1426 - mse: 1.1426\n",
      "Epoch 137/300\n",
      "1/1 [==============================] - 0s 5ms/step - loss: 1.1419 - mse: 1.1419\n",
      "Epoch 138/300\n",
      "1/1 [==============================] - 0s 6ms/step - loss: 1.1413 - mse: 1.1413\n",
      "Epoch 139/300\n",
      "1/1 [==============================] - 0s 5ms/step - loss: 1.1406 - mse: 1.1406\n",
      "Epoch 140/300\n",
      "1/1 [==============================] - 0s 6ms/step - loss: 1.1399 - mse: 1.1399\n",
      "Epoch 141/300\n",
      "1/1 [==============================] - 0s 5ms/step - loss: 1.1393 - mse: 1.1393\n",
      "Epoch 142/300\n",
      "1/1 [==============================] - 0s 5ms/step - loss: 1.1386 - mse: 1.1386\n",
      "Epoch 143/300\n",
      "1/1 [==============================] - 0s 5ms/step - loss: 1.1380 - mse: 1.1380\n",
      "Epoch 144/300\n",
      "1/1 [==============================] - 0s 5ms/step - loss: 1.1373 - mse: 1.1373\n",
      "Epoch 145/300\n",
      "1/1 [==============================] - 0s 5ms/step - loss: 1.1367 - mse: 1.1367\n",
      "Epoch 146/300\n",
      "1/1 [==============================] - 0s 5ms/step - loss: 1.1361 - mse: 1.1361\n",
      "Epoch 147/300\n",
      "1/1 [==============================] - 0s 7ms/step - loss: 1.1354 - mse: 1.1354\n",
      "Epoch 148/300\n",
      "1/1 [==============================] - 0s 5ms/step - loss: 1.1348 - mse: 1.1348\n",
      "Epoch 149/300\n",
      "1/1 [==============================] - 0s 5ms/step - loss: 1.1342 - mse: 1.1342\n",
      "Epoch 150/300\n",
      "1/1 [==============================] - 0s 7ms/step - loss: 1.1336 - mse: 1.1336\n",
      "Epoch 151/300\n",
      "1/1 [==============================] - 0s 8ms/step - loss: 1.1330 - mse: 1.1330\n",
      "Epoch 152/300\n",
      "1/1 [==============================] - 0s 5ms/step - loss: 1.1324 - mse: 1.1324\n",
      "Epoch 153/300\n",
      "1/1 [==============================] - 0s 5ms/step - loss: 1.1318 - mse: 1.1318\n",
      "Epoch 154/300\n",
      "1/1 [==============================] - 0s 7ms/step - loss: 1.1312 - mse: 1.1312\n",
      "Epoch 155/300\n",
      "1/1 [==============================] - 0s 5ms/step - loss: 1.1306 - mse: 1.1306\n",
      "Epoch 156/300\n",
      "1/1 [==============================] - 0s 5ms/step - loss: 1.1300 - mse: 1.1300\n",
      "Epoch 157/300\n",
      "1/1 [==============================] - 0s 5ms/step - loss: 1.1295 - mse: 1.1295\n",
      "Epoch 158/300\n",
      "1/1 [==============================] - 0s 6ms/step - loss: 1.1289 - mse: 1.1289\n",
      "Epoch 159/300\n",
      "1/1 [==============================] - 0s 7ms/step - loss: 1.1283 - mse: 1.1283\n",
      "Epoch 160/300\n",
      "1/1 [==============================] - 0s 5ms/step - loss: 1.1278 - mse: 1.1278\n",
      "Epoch 161/300\n",
      "1/1 [==============================] - 0s 5ms/step - loss: 1.1272 - mse: 1.1272\n",
      "Epoch 162/300\n",
      "1/1 [==============================] - 0s 7ms/step - loss: 1.1267 - mse: 1.1267\n",
      "Epoch 163/300\n",
      "1/1 [==============================] - 0s 8ms/step - loss: 1.1261 - mse: 1.1261\n",
      "Epoch 164/300\n",
      "1/1 [==============================] - 0s 5ms/step - loss: 1.1256 - mse: 1.1256\n",
      "Epoch 165/300\n",
      "1/1 [==============================] - 0s 6ms/step - loss: 1.1250 - mse: 1.1250\n",
      "Epoch 166/300\n",
      "1/1 [==============================] - 0s 7ms/step - loss: 1.1245 - mse: 1.1245\n",
      "Epoch 167/300\n",
      "1/1 [==============================] - 0s 7ms/step - loss: 1.1240 - mse: 1.1240\n",
      "Epoch 168/300\n",
      "1/1 [==============================] - 0s 5ms/step - loss: 1.1234 - mse: 1.1234\n",
      "Epoch 169/300\n",
      "1/1 [==============================] - 0s 5ms/step - loss: 1.1229 - mse: 1.1229\n",
      "Epoch 170/300\n",
      "1/1 [==============================] - 0s 5ms/step - loss: 1.1224 - mse: 1.1224\n",
      "Epoch 171/300\n",
      "1/1 [==============================] - 0s 7ms/step - loss: 1.1219 - mse: 1.1219\n",
      "Epoch 172/300\n",
      "1/1 [==============================] - 0s 5ms/step - loss: 1.1214 - mse: 1.1214\n",
      "Epoch 173/300\n",
      "1/1 [==============================] - 0s 5ms/step - loss: 1.1209 - mse: 1.1209\n",
      "Epoch 174/300\n",
      "1/1 [==============================] - 0s 5ms/step - loss: 1.1204 - mse: 1.1204\n",
      "Epoch 175/300\n"
     ]
    },
    {
     "name": "stdout",
     "output_type": "stream",
     "text": [
      "1/1 [==============================] - 0s 5ms/step - loss: 1.1199 - mse: 1.1199\n",
      "Epoch 176/300\n",
      "1/1 [==============================] - 0s 5ms/step - loss: 1.1194 - mse: 1.1194\n",
      "Epoch 177/300\n",
      "1/1 [==============================] - 0s 6ms/step - loss: 1.1189 - mse: 1.1189\n",
      "Epoch 178/300\n",
      "1/1 [==============================] - 0s 6ms/step - loss: 1.1184 - mse: 1.1184\n",
      "Epoch 179/300\n",
      "1/1 [==============================] - 0s 5ms/step - loss: 1.1179 - mse: 1.1179\n",
      "Epoch 180/300\n",
      "1/1 [==============================] - 0s 7ms/step - loss: 1.1175 - mse: 1.1175\n",
      "Epoch 181/300\n",
      "1/1 [==============================] - 0s 6ms/step - loss: 1.1170 - mse: 1.1170\n",
      "Epoch 182/300\n",
      "1/1 [==============================] - 0s 5ms/step - loss: 1.1165 - mse: 1.1165\n",
      "Epoch 183/300\n",
      "1/1 [==============================] - 0s 5ms/step - loss: 1.1161 - mse: 1.1161\n",
      "Epoch 184/300\n",
      "1/1 [==============================] - 0s 5ms/step - loss: 1.1156 - mse: 1.1156\n",
      "Epoch 185/300\n",
      "1/1 [==============================] - 0s 6ms/step - loss: 1.1151 - mse: 1.1151\n",
      "Epoch 186/300\n",
      "1/1 [==============================] - 0s 5ms/step - loss: 1.1147 - mse: 1.1147\n",
      "Epoch 187/300\n",
      "1/1 [==============================] - 0s 5ms/step - loss: 1.1142 - mse: 1.1142\n",
      "Epoch 188/300\n",
      "1/1 [==============================] - 0s 5ms/step - loss: 1.1138 - mse: 1.1138\n",
      "Epoch 189/300\n",
      "1/1 [==============================] - 0s 5ms/step - loss: 1.1134 - mse: 1.1134\n",
      "Epoch 190/300\n",
      "1/1 [==============================] - 0s 6ms/step - loss: 1.1129 - mse: 1.1129\n",
      "Epoch 191/300\n",
      "1/1 [==============================] - 0s 5ms/step - loss: 1.1125 - mse: 1.1125\n",
      "Epoch 192/300\n",
      "1/1 [==============================] - 0s 5ms/step - loss: 1.1121 - mse: 1.1121\n",
      "Epoch 193/300\n",
      "1/1 [==============================] - 0s 5ms/step - loss: 1.1116 - mse: 1.1116\n",
      "Epoch 194/300\n",
      "1/1 [==============================] - 0s 5ms/step - loss: 1.1112 - mse: 1.1112\n",
      "Epoch 195/300\n",
      "1/1 [==============================] - 0s 6ms/step - loss: 1.1108 - mse: 1.1108\n",
      "Epoch 196/300\n",
      "1/1 [==============================] - 0s 7ms/step - loss: 1.1104 - mse: 1.1104\n",
      "Epoch 197/300\n",
      "1/1 [==============================] - 0s 5ms/step - loss: 1.1099 - mse: 1.1099\n",
      "Epoch 198/300\n",
      "1/1 [==============================] - 0s 5ms/step - loss: 1.1095 - mse: 1.1095\n",
      "Epoch 199/300\n",
      "1/1 [==============================] - 0s 7ms/step - loss: 1.1091 - mse: 1.1091\n",
      "Epoch 200/300\n",
      "1/1 [==============================] - 0s 7ms/step - loss: 1.1087 - mse: 1.1087\n",
      "Epoch 201/300\n",
      "1/1 [==============================] - 0s 5ms/step - loss: 1.1083 - mse: 1.1083\n",
      "Epoch 202/300\n",
      "1/1 [==============================] - 0s 5ms/step - loss: 1.1079 - mse: 1.1079\n",
      "Epoch 203/300\n",
      "1/1 [==============================] - 0s 6ms/step - loss: 1.1075 - mse: 1.1075\n",
      "Epoch 204/300\n",
      "1/1 [==============================] - 0s 5ms/step - loss: 1.1071 - mse: 1.1071\n",
      "Epoch 205/300\n",
      "1/1 [==============================] - 0s 5ms/step - loss: 1.1068 - mse: 1.1068\n",
      "Epoch 206/300\n",
      "1/1 [==============================] - 0s 5ms/step - loss: 1.1064 - mse: 1.1064\n",
      "Epoch 207/300\n",
      "1/1 [==============================] - 0s 5ms/step - loss: 1.1060 - mse: 1.1060\n",
      "Epoch 208/300\n",
      "1/1 [==============================] - 0s 7ms/step - loss: 1.1056 - mse: 1.1056\n",
      "Epoch 209/300\n",
      "1/1 [==============================] - 0s 5ms/step - loss: 1.1052 - mse: 1.1052\n",
      "Epoch 210/300\n",
      "1/1 [==============================] - 0s 5ms/step - loss: 1.1049 - mse: 1.1049\n",
      "Epoch 211/300\n",
      "1/1 [==============================] - 0s 5ms/step - loss: 1.1045 - mse: 1.1045\n",
      "Epoch 212/300\n",
      "1/1 [==============================] - 0s 5ms/step - loss: 1.1041 - mse: 1.1041\n",
      "Epoch 213/300\n",
      "1/1 [==============================] - 0s 5ms/step - loss: 1.1038 - mse: 1.1038\n",
      "Epoch 214/300\n",
      "1/1 [==============================] - 0s 7ms/step - loss: 1.1034 - mse: 1.1034\n",
      "Epoch 215/300\n",
      "1/1 [==============================] - 0s 5ms/step - loss: 1.1031 - mse: 1.1031\n",
      "Epoch 216/300\n",
      "1/1 [==============================] - 0s 5ms/step - loss: 1.1027 - mse: 1.1027\n",
      "Epoch 217/300\n",
      "1/1 [==============================] - 0s 7ms/step - loss: 1.1023 - mse: 1.1023\n",
      "Epoch 218/300\n",
      "1/1 [==============================] - 0s 7ms/step - loss: 1.1020 - mse: 1.1020\n",
      "Epoch 219/300\n",
      "1/1 [==============================] - 0s 5ms/step - loss: 1.1017 - mse: 1.1017\n",
      "Epoch 220/300\n",
      "1/1 [==============================] - 0s 6ms/step - loss: 1.1013 - mse: 1.1013\n",
      "Epoch 221/300\n",
      "1/1 [==============================] - 0s 6ms/step - loss: 1.1010 - mse: 1.1010\n",
      "Epoch 222/300\n",
      "1/1 [==============================] - 0s 6ms/step - loss: 1.1006 - mse: 1.1006\n",
      "Epoch 223/300\n",
      "1/1 [==============================] - 0s 5ms/step - loss: 1.1003 - mse: 1.1003\n",
      "Epoch 224/300\n",
      "1/1 [==============================] - 0s 5ms/step - loss: 1.1000 - mse: 1.1000\n",
      "Epoch 225/300\n",
      "1/1 [==============================] - 0s 5ms/step - loss: 1.0996 - mse: 1.0996\n",
      "Epoch 226/300\n",
      "1/1 [==============================] - 0s 7ms/step - loss: 1.0993 - mse: 1.0993\n",
      "Epoch 227/300\n",
      "1/1 [==============================] - 0s 5ms/step - loss: 1.0990 - mse: 1.0990\n",
      "Epoch 228/300\n",
      "1/1 [==============================] - 0s 5ms/step - loss: 1.0987 - mse: 1.0987\n",
      "Epoch 229/300\n",
      "1/1 [==============================] - 0s 5ms/step - loss: 1.0984 - mse: 1.0984\n",
      "Epoch 230/300\n",
      "1/1 [==============================] - 0s 5ms/step - loss: 1.0980 - mse: 1.0980\n",
      "Epoch 231/300\n",
      "1/1 [==============================] - 0s 7ms/step - loss: 1.0977 - mse: 1.0977\n",
      "Epoch 232/300\n",
      "1/1 [==============================] - 0s 7ms/step - loss: 1.0974 - mse: 1.0974\n",
      "Epoch 233/300\n",
      "1/1 [==============================] - 0s 5ms/step - loss: 1.0971 - mse: 1.0971\n",
      "Epoch 234/300\n",
      "1/1 [==============================] - 0s 5ms/step - loss: 1.0968 - mse: 1.0968\n",
      "Epoch 235/300\n",
      "1/1 [==============================] - 0s 5ms/step - loss: 1.0965 - mse: 1.0965\n",
      "Epoch 236/300\n",
      "1/1 [==============================] - 0s 6ms/step - loss: 1.0962 - mse: 1.0962\n",
      "Epoch 237/300\n",
      "1/1 [==============================] - 0s 5ms/step - loss: 1.0959 - mse: 1.0959\n",
      "Epoch 238/300\n",
      "1/1 [==============================] - 0s 5ms/step - loss: 1.0956 - mse: 1.0956\n",
      "Epoch 239/300\n",
      "1/1 [==============================] - 0s 4ms/step - loss: 1.0953 - mse: 1.0953\n",
      "Epoch 240/300\n",
      "1/1 [==============================] - 0s 5ms/step - loss: 1.0950 - mse: 1.0950\n",
      "Epoch 241/300\n",
      "1/1 [==============================] - 0s 7ms/step - loss: 1.0947 - mse: 1.0947\n",
      "Epoch 242/300\n",
      "1/1 [==============================] - 0s 7ms/step - loss: 1.0944 - mse: 1.0944\n",
      "Epoch 243/300\n",
      "1/1 [==============================] - 0s 5ms/step - loss: 1.0942 - mse: 1.0942\n",
      "Epoch 244/300\n",
      "1/1 [==============================] - 0s 5ms/step - loss: 1.0939 - mse: 1.0939\n",
      "Epoch 245/300\n",
      "1/1 [==============================] - 0s 7ms/step - loss: 1.0936 - mse: 1.0936\n",
      "Epoch 246/300\n",
      "1/1 [==============================] - 0s 7ms/step - loss: 1.0933 - mse: 1.0933\n",
      "Epoch 247/300\n",
      "1/1 [==============================] - 0s 5ms/step - loss: 1.0931 - mse: 1.0931\n",
      "Epoch 248/300\n",
      "1/1 [==============================] - 0s 5ms/step - loss: 1.0928 - mse: 1.0928\n",
      "Epoch 249/300\n",
      "1/1 [==============================] - 0s 5ms/step - loss: 1.0925 - mse: 1.0925\n",
      "Epoch 250/300\n",
      "1/1 [==============================] - 0s 7ms/step - loss: 1.0922 - mse: 1.0922\n",
      "Epoch 251/300\n",
      "1/1 [==============================] - 0s 6ms/step - loss: 1.0920 - mse: 1.0920\n",
      "Epoch 252/300\n",
      "1/1 [==============================] - 0s 5ms/step - loss: 1.0917 - mse: 1.0917\n",
      "Epoch 253/300\n",
      "1/1 [==============================] - 0s 5ms/step - loss: 1.0915 - mse: 1.0915\n",
      "Epoch 254/300\n",
      "1/1 [==============================] - 0s 7ms/step - loss: 1.0912 - mse: 1.0912\n",
      "Epoch 255/300\n",
      "1/1 [==============================] - 0s 5ms/step - loss: 1.0909 - mse: 1.0909\n",
      "Epoch 256/300\n",
      "1/1 [==============================] - 0s 4ms/step - loss: 1.0907 - mse: 1.0907\n",
      "Epoch 257/300\n",
      "1/1 [==============================] - 0s 5ms/step - loss: 1.0904 - mse: 1.0904\n",
      "Epoch 258/300\n",
      "1/1 [==============================] - 0s 7ms/step - loss: 1.0902 - mse: 1.0902\n",
      "Epoch 259/300\n",
      "1/1 [==============================] - 0s 7ms/step - loss: 1.0899 - mse: 1.0899\n",
      "Epoch 260/300\n",
      "1/1 [==============================] - 0s 5ms/step - loss: 1.0897 - mse: 1.0897\n",
      "Epoch 261/300\n",
      "1/1 [==============================] - 0s 5ms/step - loss: 1.0894 - mse: 1.0894\n",
      "Epoch 262/300\n",
      "1/1 [==============================] - 0s 6ms/step - loss: 1.0892 - mse: 1.0892\n",
      "Epoch 263/300\n",
      "1/1 [==============================] - 0s 6ms/step - loss: 1.0890 - mse: 1.0890\n",
      "Epoch 264/300\n",
      "1/1 [==============================] - 0s 5ms/step - loss: 1.0887 - mse: 1.0887\n",
      "Epoch 265/300\n",
      "1/1 [==============================] - 0s 5ms/step - loss: 1.0885 - mse: 1.0885\n",
      "Epoch 266/300\n",
      "1/1 [==============================] - 0s 5ms/step - loss: 1.0882 - mse: 1.0882\n",
      "Epoch 267/300\n",
      "1/1 [==============================] - 0s 4ms/step - loss: 1.0880 - mse: 1.0880\n",
      "Epoch 268/300\n",
      "1/1 [==============================] - 0s 7ms/step - loss: 1.0878 - mse: 1.0878\n",
      "Epoch 269/300\n",
      "1/1 [==============================] - 0s 6ms/step - loss: 1.0876 - mse: 1.0876\n",
      "Epoch 270/300\n",
      "1/1 [==============================] - 0s 5ms/step - loss: 1.0873 - mse: 1.0873\n",
      "Epoch 271/300\n",
      "1/1 [==============================] - 0s 5ms/step - loss: 1.0871 - mse: 1.0871\n",
      "Epoch 272/300\n",
      "1/1 [==============================] - 0s 5ms/step - loss: 1.0869 - mse: 1.0869\n",
      "Epoch 273/300\n",
      "1/1 [==============================] - 0s 5ms/step - loss: 1.0867 - mse: 1.0867\n",
      "Epoch 274/300\n",
      "1/1 [==============================] - 0s 5ms/step - loss: 1.0864 - mse: 1.0864\n",
      "Epoch 275/300\n",
      "1/1 [==============================] - 0s 6ms/step - loss: 1.0862 - mse: 1.0862\n",
      "Epoch 276/300\n",
      "1/1 [==============================] - 0s 5ms/step - loss: 1.0860 - mse: 1.0860\n",
      "Epoch 277/300\n",
      "1/1 [==============================] - 0s 5ms/step - loss: 1.0858 - mse: 1.0858\n",
      "Epoch 278/300\n",
      "1/1 [==============================] - 0s 6ms/step - loss: 1.0856 - mse: 1.0856\n",
      "Epoch 279/300\n",
      "1/1 [==============================] - 0s 6ms/step - loss: 1.0854 - mse: 1.0854\n",
      "Epoch 280/300\n",
      "1/1 [==============================] - 0s 5ms/step - loss: 1.0852 - mse: 1.0852\n",
      "Epoch 281/300\n",
      "1/1 [==============================] - 0s 5ms/step - loss: 1.0850 - mse: 1.0850\n",
      "Epoch 282/300\n",
      "1/1 [==============================] - 0s 5ms/step - loss: 1.0847 - mse: 1.0847\n",
      "Epoch 283/300\n",
      "1/1 [==============================] - 0s 5ms/step - loss: 1.0845 - mse: 1.0845\n",
      "Epoch 284/300\n",
      "1/1 [==============================] - 0s 7ms/step - loss: 1.0843 - mse: 1.0843\n",
      "Epoch 285/300\n",
      "1/1 [==============================] - 0s 6ms/step - loss: 1.0841 - mse: 1.0841\n",
      "Epoch 286/300\n",
      "1/1 [==============================] - 0s 5ms/step - loss: 1.0839 - mse: 1.0839\n",
      "Epoch 287/300\n",
      "1/1 [==============================] - 0s 6ms/step - loss: 1.0837 - mse: 1.0837\n",
      "Epoch 288/300\n",
      "1/1 [==============================] - 0s 6ms/step - loss: 1.0835 - mse: 1.0835\n",
      "Epoch 289/300\n",
      "1/1 [==============================] - 0s 5ms/step - loss: 1.0834 - mse: 1.0834\n",
      "Epoch 290/300\n",
      "1/1 [==============================] - 0s 5ms/step - loss: 1.0832 - mse: 1.0832\n",
      "Epoch 291/300\n",
      "1/1 [==============================] - 0s 5ms/step - loss: 1.0830 - mse: 1.0830\n",
      "Epoch 292/300\n",
      "1/1 [==============================] - 0s 5ms/step - loss: 1.0828 - mse: 1.0828\n",
      "Epoch 293/300\n",
      "1/1 [==============================] - 0s 6ms/step - loss: 1.0826 - mse: 1.0826\n",
      "Epoch 294/300\n",
      "1/1 [==============================] - 0s 6ms/step - loss: 1.0824 - mse: 1.0824\n",
      "Epoch 295/300\n",
      "1/1 [==============================] - 0s 5ms/step - loss: 1.0822 - mse: 1.0822\n",
      "Epoch 296/300\n",
      "1/1 [==============================] - 0s 5ms/step - loss: 1.0820 - mse: 1.0820\n",
      "Epoch 297/300\n",
      "1/1 [==============================] - 0s 5ms/step - loss: 1.0819 - mse: 1.0819\n",
      "Epoch 298/300\n",
      "1/1 [==============================] - 0s 6ms/step - loss: 1.0817 - mse: 1.0817\n",
      "Epoch 299/300\n",
      "1/1 [==============================] - 0s 6ms/step - loss: 1.0815 - mse: 1.0815\n",
      "Epoch 300/300\n",
      "1/1 [==============================] - 0s 5ms/step - loss: 1.0813 - mse: 1.0813\n"
     ]
    },
    {
     "data": {
      "text/plain": [
       "<keras.callbacks.History at 0x16452aedbb0>"
      ]
     },
     "execution_count": 42,
     "metadata": {},
     "output_type": "execute_result"
    }
   ],
   "source": [
    "model = Sequential()\n",
    "model.add(Dense(1, input_dim = 1, activation='linear'))\n",
    "\n",
    "sgd = tf.keras.optimizers.SGD(lr=0.01)\n",
    "model.compile(optimizer=sgd, loss='mse', metrics=['mse'])\n",
    "model.fit(X, y, epochs=300)"
   ]
  },
  {
   "cell_type": "markdown",
   "metadata": {},
   "source": [
    "### 2. 언제 서브클래싱 API를 써야 할까?"
   ]
  },
  {
   "cell_type": "markdown",
   "metadata": {},
   "source": [
    "- Subclassing API는 밑바닥부터 새로운 수준의 아키텍처를 구현해야 하는 실험적 연구를 하는 연구자들에게 적합"
   ]
  },
  {
   "cell_type": "markdown",
   "metadata": {},
   "source": [
    "### 3. 세 가지 구현 방식 비교."
   ]
  },
  {
   "cell_type": "markdown",
   "metadata": {},
   "source": [
    "#### (1) Sequential API\n",
    "\n",
    "- 장점: 단순하게 층을 쌓는 방식으로 쉽고 사용하기가 간단\n",
    "- 단점:다수의 입력(multi-input), 다수의 출력(multi-output)을 가진 모델 또는 층 간의 연결(concatenate)이나 덧셈(Add)과 같은 연산을 하는 모델을 구현하기에는 적합X\n"
   ]
  },
  {
   "cell_type": "markdown",
   "metadata": {},
   "source": [
    "#### (2) Functtional API\n",
    "- 장점: Sequential API로는 구현하기 어려운 복잡한 모델들을 구현\n",
    "- 단점: 입력의 크기(shape)를 명시한 입력층(Input layer)을 모델의 앞단에 정의해주어야 함\n",
    "\n",
    "```python\n",
    "# 선형 회귀 구현 코드의 일부 발췌\n",
    "\n",
    "inputs = Input(shape=(1,)) # <-- 해당 부분\n",
    "output = Dense(1, activation='linear')(inputs)\n",
    "linear_model = Model(inputs, output)\n",
    "\n",
    "sgd = optimizers.SGD(lr=0.01)\n",
    "\n",
    "linear_model.compile(optimizer=sgd, loss='mse', metrics=['mse'])\n",
    "linear_model.fit(X, y, epochs=300)\n",
    "```"
   ]
  },
  {
   "cell_type": "markdown",
   "metadata": {},
   "source": [
    "#### (3) Subclassing API\n",
    "- 장점: Functional API로도 구현할 수 없는 모델들조차 구현이 가능합니다.\n",
    "- 단점: 객체 지향 프로그래밍(Object-oriented programming)에 익숙해야 하므로 코드 사용이 가장 까다롭습니다."
   ]
  },
  {
   "cell_type": "markdown",
   "metadata": {},
   "source": [
    "## 07-11 다층 퍼셉트론(MultiLayer Perceptron, MLP)으로 텍스트 분류하기"
   ]
  },
  {
   "cell_type": "markdown",
   "metadata": {},
   "source": [
    "### 1. 다층 퍼셉트론(MultiLayer Perceptron, MLP)\n",
    "- 다층 퍼셉트론(MLP): 단층 퍼셉트론의 형태에서 은닉층이 1개 이상 추가된 신경망\n",
    "- 피드 포워드 신경망(Feed Forward Neural Network, FFNN)의 가장 기본적인 형태\n",
    "- 피드 포워드 신경망: 입력층에서 출력층으로 오직 한 방향으로만 연산 방향이 정해져 있는 신경망"
   ]
  },
  {
   "cell_type": "markdown",
   "metadata": {},
   "source": [
    "### 2. 케라스의 texts_to_matrix() 이해하기"
   ]
  },
  {
   "cell_type": "code",
   "execution_count": 1,
   "metadata": {},
   "outputs": [],
   "source": [
    "import numpy as np\n",
    "from tensorflow.keras.preprocessing.text import Tokenizer"
   ]
  },
  {
   "cell_type": "code",
   "execution_count": 2,
   "metadata": {},
   "outputs": [],
   "source": [
    "texts = ['먹고 싶은 사과', '먹고 싶은 바나나', '길고 노란 바나나 바나나', '저는 과일이 좋아요']"
   ]
  },
  {
   "cell_type": "code",
   "execution_count": 3,
   "metadata": {},
   "outputs": [
    {
     "name": "stdout",
     "output_type": "stream",
     "text": [
      "{'바나나': 1, '먹고': 2, '싶은': 3, '사과': 4, '길고': 5, '노란': 6, '저는': 7, '과일이': 8, '좋아요': 9}\n"
     ]
    }
   ],
   "source": [
    "# 정수 인코딩\n",
    "tokenizer = Tokenizer()\n",
    "tokenizer.fit_on_texts(texts)\n",
    "print(tokenizer.word_index)"
   ]
  },
  {
   "cell_type": "code",
   "execution_count": 4,
   "metadata": {},
   "outputs": [
    {
     "name": "stdout",
     "output_type": "stream",
     "text": [
      "[[0. 0. 1. 1. 1. 0. 0. 0. 0. 0.]\n",
      " [0. 1. 1. 1. 0. 0. 0. 0. 0. 0.]\n",
      " [0. 2. 0. 0. 0. 1. 1. 0. 0. 0.]\n",
      " [0. 0. 0. 0. 0. 0. 0. 1. 1. 1.]]\n"
     ]
    }
   ],
   "source": [
    "print(tokenizer.texts_to_matrix(texts, mode = 'count')) # texts_to_matrix의 입력으로 texts를 넣고, 모드는 'count'"
   ]
  },
  {
   "cell_type": "code",
   "execution_count": 5,
   "metadata": {},
   "outputs": [
    {
     "name": "stdout",
     "output_type": "stream",
     "text": [
      "[[0. 0. 1. 1. 1. 0. 0. 0. 0. 0.]\n",
      " [0. 1. 1. 1. 0. 0. 0. 0. 0. 0.]\n",
      " [0. 1. 0. 0. 0. 1. 1. 0. 0. 0.]\n",
      " [0. 0. 0. 0. 0. 0. 0. 1. 1. 1.]]\n"
     ]
    }
   ],
   "source": [
    "#binary 모드\n",
    "print(tokenizer.texts_to_matrix(texts, mode = 'binary'))"
   ]
  },
  {
   "cell_type": "code",
   "execution_count": 6,
   "metadata": {},
   "outputs": [
    {
     "name": "stdout",
     "output_type": "stream",
     "text": [
      "[[0.   0.   0.85 0.85 1.1  0.   0.   0.   0.   0.  ]\n",
      " [0.   0.85 0.85 0.85 0.   0.   0.   0.   0.   0.  ]\n",
      " [0.   1.43 0.   0.   0.   1.1  1.1  0.   0.   0.  ]\n",
      " [0.   0.   0.   0.   0.   0.   0.   1.1  1.1  1.1 ]]\n"
     ]
    }
   ],
   "source": [
    "# tfidf 모드\n",
    "print(tokenizer.texts_to_matrix(texts, mode = 'tfidf').round(2)) # 둘째 자리까지 반올림하여 출력"
   ]
  },
  {
   "cell_type": "code",
   "execution_count": 7,
   "metadata": {},
   "outputs": [
    {
     "name": "stdout",
     "output_type": "stream",
     "text": [
      "[[0.   0.   0.33 0.33 0.33 0.   0.   0.   0.   0.  ]\n",
      " [0.   0.33 0.33 0.33 0.   0.   0.   0.   0.   0.  ]\n",
      " [0.   0.5  0.   0.   0.   0.25 0.25 0.   0.   0.  ]\n",
      " [0.   0.   0.   0.   0.   0.   0.   0.33 0.33 0.33]]\n"
     ]
    }
   ],
   "source": [
    "# freq 모드\n",
    "print(tokenizer.texts_to_matrix(texts, mode = 'freq').round(2)) # 둘째 자리까지 반올림하여 출력"
   ]
  },
  {
   "cell_type": "markdown",
   "metadata": {},
   "source": [
    "### 3. 20개 뉴스 그룹(Twenty Newsgroups) 데이터에 대한 이해"
   ]
  },
  {
   "cell_type": "code",
   "execution_count": 8,
   "metadata": {},
   "outputs": [],
   "source": [
    "import pandas as pd\n",
    "from sklearn.datasets import fetch_20newsgroups\n",
    "import matplotlib.pyplot as plt\n",
    "from tensorflow.keras.preprocessing.text import Tokenizer\n",
    "from tensorflow.keras.utils import to_categorical"
   ]
  },
  {
   "cell_type": "code",
   "execution_count": 9,
   "metadata": {},
   "outputs": [],
   "source": [
    "newsdata = fetch_20newsgroups(subset = 'train') # 'train'을 기재하면 훈련 데이터만 리턴한다."
   ]
  },
  {
   "cell_type": "code",
   "execution_count": 10,
   "metadata": {},
   "outputs": [
    {
     "name": "stdout",
     "output_type": "stream",
     "text": [
      "dict_keys(['data', 'filenames', 'target_names', 'target', 'DESCR'])\n"
     ]
    }
   ],
   "source": [
    "print(newsdata.keys())"
   ]
  },
  {
   "cell_type": "code",
   "execution_count": 11,
   "metadata": {},
   "outputs": [
    {
     "name": "stdout",
     "output_type": "stream",
     "text": [
      "훈련용 샘플의 개수 : 11314\n"
     ]
    }
   ],
   "source": [
    "print('훈련용 샘플의 개수 : {}'.format(len(newsdata.data)))"
   ]
  },
  {
   "cell_type": "code",
   "execution_count": 12,
   "metadata": {},
   "outputs": [
    {
     "name": "stdout",
     "output_type": "stream",
     "text": [
      "총 주제의 개수 : 20\n",
      "['alt.atheism', 'comp.graphics', 'comp.os.ms-windows.misc', 'comp.sys.ibm.pc.hardware', 'comp.sys.mac.hardware', 'comp.windows.x', 'misc.forsale', 'rec.autos', 'rec.motorcycles', 'rec.sport.baseball', 'rec.sport.hockey', 'sci.crypt', 'sci.electronics', 'sci.med', 'sci.space', 'soc.religion.christian', 'talk.politics.guns', 'talk.politics.mideast', 'talk.politics.misc', 'talk.religion.misc']\n"
     ]
    }
   ],
   "source": [
    "print('총 주제의 개수 : {}'.format(len(newsdata.target_names)))\n",
    "print(newsdata.target_names)"
   ]
  },
  {
   "cell_type": "code",
   "execution_count": 13,
   "metadata": {},
   "outputs": [
    {
     "name": "stdout",
     "output_type": "stream",
     "text": [
      "첫번째 샘플의 레이블 : 7\n"
     ]
    }
   ],
   "source": [
    "print('첫번째 샘플의 레이블 : {}'.format(newsdata.target[0]))"
   ]
  },
  {
   "cell_type": "code",
   "execution_count": 14,
   "metadata": {},
   "outputs": [
    {
     "name": "stdout",
     "output_type": "stream",
     "text": [
      "7번 레이블이 의미하는 주제 : rec.autos\n"
     ]
    }
   ],
   "source": [
    "print('7번 레이블이 의미하는 주제 : {}'.format(newsdata.target_names[7]))"
   ]
  },
  {
   "cell_type": "code",
   "execution_count": 15,
   "metadata": {},
   "outputs": [
    {
     "name": "stdout",
     "output_type": "stream",
     "text": [
      "From: lerxst@wam.umd.edu (where's my thing)\n",
      "Subject: WHAT car is this!?\n",
      "Nntp-Posting-Host: rac3.wam.umd.edu\n",
      "Organization: University of Maryland, College Park\n",
      "Lines: 15\n",
      "\n",
      " I was wondering if anyone out there could enlighten me on this car I saw\n",
      "the other day. It was a 2-door sports car, looked to be from the late 60s/\n",
      "early 70s. It was called a Bricklin. The doors were really small. In addition,\n",
      "the front bumper was separate from the rest of the body. This is \n",
      "all I know. If anyone can tellme a model name, engine specs, years\n",
      "of production, where this car is made, history, or whatever info you\n",
      "have on this funky looking car, please e-mail.\n",
      "\n",
      "Thanks,\n",
      "- IL\n",
      "   ---- brought to you by your neighborhood Lerxst ----\n",
      "\n",
      "\n",
      "\n",
      "\n",
      "\n"
     ]
    }
   ],
   "source": [
    "print(newsdata.data[0]) # 첫번째 샘플 출력"
   ]
  },
  {
   "cell_type": "code",
   "execution_count": 16,
   "metadata": {},
   "outputs": [
    {
     "data": {
      "text/html": [
       "<div>\n",
       "<style scoped>\n",
       "    .dataframe tbody tr th:only-of-type {\n",
       "        vertical-align: middle;\n",
       "    }\n",
       "\n",
       "    .dataframe tbody tr th {\n",
       "        vertical-align: top;\n",
       "    }\n",
       "\n",
       "    .dataframe thead th {\n",
       "        text-align: right;\n",
       "    }\n",
       "</style>\n",
       "<table border=\"1\" class=\"dataframe\">\n",
       "  <thead>\n",
       "    <tr style=\"text-align: right;\">\n",
       "      <th></th>\n",
       "      <th>email</th>\n",
       "      <th>target</th>\n",
       "    </tr>\n",
       "  </thead>\n",
       "  <tbody>\n",
       "    <tr>\n",
       "      <th>0</th>\n",
       "      <td>From: lerxst@wam.umd.edu (where's my thing)\\nS...</td>\n",
       "      <td>7</td>\n",
       "    </tr>\n",
       "    <tr>\n",
       "      <th>1</th>\n",
       "      <td>From: guykuo@carson.u.washington.edu (Guy Kuo)...</td>\n",
       "      <td>4</td>\n",
       "    </tr>\n",
       "    <tr>\n",
       "      <th>2</th>\n",
       "      <td>From: twillis@ec.ecn.purdue.edu (Thomas E Will...</td>\n",
       "      <td>4</td>\n",
       "    </tr>\n",
       "    <tr>\n",
       "      <th>3</th>\n",
       "      <td>From: jgreen@amber (Joe Green)\\nSubject: Re: W...</td>\n",
       "      <td>1</td>\n",
       "    </tr>\n",
       "    <tr>\n",
       "      <th>4</th>\n",
       "      <td>From: jcm@head-cfa.harvard.edu (Jonathan McDow...</td>\n",
       "      <td>14</td>\n",
       "    </tr>\n",
       "  </tbody>\n",
       "</table>\n",
       "</div>"
      ],
      "text/plain": [
       "                                               email  target\n",
       "0  From: lerxst@wam.umd.edu (where's my thing)\\nS...       7\n",
       "1  From: guykuo@carson.u.washington.edu (Guy Kuo)...       4\n",
       "2  From: twillis@ec.ecn.purdue.edu (Thomas E Will...       4\n",
       "3  From: jgreen@amber (Joe Green)\\nSubject: Re: W...       1\n",
       "4  From: jcm@head-cfa.harvard.edu (Jonathan McDow...      14"
      ]
     },
     "execution_count": 16,
     "metadata": {},
     "output_type": "execute_result"
    }
   ],
   "source": [
    "data = pd.DataFrame(newsdata.data, columns = ['email'])\n",
    "data['target'] = pd.Series(newsdata.target)\n",
    "data[:5]"
   ]
  },
  {
   "cell_type": "code",
   "execution_count": 17,
   "metadata": {},
   "outputs": [
    {
     "name": "stdout",
     "output_type": "stream",
     "text": [
      "<class 'pandas.core.frame.DataFrame'>\n",
      "RangeIndex: 11314 entries, 0 to 11313\n",
      "Data columns (total 2 columns):\n",
      " #   Column  Non-Null Count  Dtype \n",
      "---  ------  --------------  ----- \n",
      " 0   email   11314 non-null  object\n",
      " 1   target  11314 non-null  int32 \n",
      "dtypes: int32(1), object(1)\n",
      "memory usage: 132.7+ KB\n"
     ]
    }
   ],
   "source": [
    "data.info()"
   ]
  },
  {
   "cell_type": "code",
   "execution_count": 18,
   "metadata": {},
   "outputs": [
    {
     "data": {
      "text/plain": [
       "False"
      ]
     },
     "execution_count": 18,
     "metadata": {},
     "output_type": "execute_result"
    }
   ],
   "source": [
    "# null 값 확인\n",
    "data.isnull().values.any()"
   ]
  },
  {
   "cell_type": "code",
   "execution_count": 19,
   "metadata": {},
   "outputs": [
    {
     "name": "stdout",
     "output_type": "stream",
     "text": [
      "중복을 제외한 샘플의 수 : 11314\n",
      "중복을 제외한 주제의 수 : 20\n"
     ]
    }
   ],
   "source": [
    "# 중복 확인\n",
    "print('중복을 제외한 샘플의 수 : {}'.format(data['email'].nunique()))\n",
    "print('중복을 제외한 주제의 수 : {}'.format(data['target'].nunique()))"
   ]
  },
  {
   "cell_type": "code",
   "execution_count": 20,
   "metadata": {},
   "outputs": [
    {
     "data": {
      "image/png": "[encoded data removed]",
      "text/plain": [
       "<Figure size 432x288 with 1 Axes>"
      ]
     },
     "metadata": {
      "needs_background": "light"
     },
     "output_type": "display_data"
    }
   ],
   "source": [
    "# 레이블 값 분포 시각화\n",
    "data['target'].value_counts().plot(kind='bar');"
   ]
  },
  {
   "cell_type": "code",
   "execution_count": 21,
   "metadata": {},
   "outputs": [
    {
     "name": "stdout",
     "output_type": "stream",
     "text": [
      "    target  count\n",
      "0        0    480\n",
      "1        1    584\n",
      "2        2    591\n",
      "3        3    590\n",
      "4        4    578\n",
      "5        5    593\n",
      "6        6    585\n",
      "7        7    594\n",
      "8        8    598\n",
      "9        9    597\n",
      "10      10    600\n",
      "11      11    595\n",
      "12      12    591\n",
      "13      13    594\n",
      "14      14    593\n",
      "15      15    599\n",
      "16      16    546\n",
      "17      17    564\n",
      "18      18    465\n",
      "19      19    377\n"
     ]
    }
   ],
   "source": [
    "# 레이블 값 구체적인 개수 확인\n",
    "print(data.groupby('target').size().reset_index(name='count'))"
   ]
  },
  {
   "cell_type": "code",
   "execution_count": 22,
   "metadata": {},
   "outputs": [],
   "source": [
    "newsdata_test = fetch_20newsgroups(subset='test', shuffle=True)\n",
    "train_email = data['email']\n",
    "train_label = data['target']\n",
    "test_email = newsdata_test.data\n",
    "test_label = newsdata_test.target"
   ]
  },
  {
   "cell_type": "code",
   "execution_count": 23,
   "metadata": {},
   "outputs": [],
   "source": [
    "vocab_size = 10000 # 실습에서 사용할 최대 단어\n",
    "num_classes = 20"
   ]
  },
  {
   "cell_type": "code",
   "execution_count": 24,
   "metadata": {},
   "outputs": [],
   "source": [
    "def prepare_data(train_data, test_data, mode): # 전처리 함수\n",
    "    tokenizer = Tokenizer(num_words = vocab_size) # vocab_size 개수만큼의 단어만 사용한다.\n",
    "    tokenizer.fit_on_texts(train_data)\n",
    "    X_train = tokenizer.texts_to_matrix(train_data, mode=mode) # 샘플 수 × vocab_size 크기의 행렬 생성\n",
    "    X_test = tokenizer.texts_to_matrix(test_data, mode=mode) # 샘플 수 × vocab_size 크기의 행렬 생성\n",
    "    return X_train, X_test, tokenizer.index_word"
   ]
  },
  {
   "cell_type": "code",
   "execution_count": 25,
   "metadata": {},
   "outputs": [],
   "source": [
    "X_train, X_test, index_to_word = prepare_data(train_email, test_email, 'binary') # binary 모드로 변환\n",
    "y_train = to_categorical(train_label, num_classes) # 원-핫 인코딩\n",
    "y_test = to_categorical(test_label, num_classes) # 원-핫 인코딩"
   ]
  },
  {
   "cell_type": "code",
   "execution_count": 26,
   "metadata": {},
   "outputs": [
    {
     "name": "stdout",
     "output_type": "stream",
     "text": [
      "훈련 샘플 본문의 크기 : (11314, 10000)\n",
      "훈련 샘플 레이블의 크기 : (11314, 20)\n",
      "테스트 샘플 본문의 크기 : (7532, 10000)\n",
      "테스트 샘플 레이블의 크기 : (7532, 20)\n"
     ]
    }
   ],
   "source": [
    "print('훈련 샘플 본문의 크기 : {}'.format(X_train.shape))\n",
    "print('훈련 샘플 레이블의 크기 : {}'.format(y_train.shape))\n",
    "print('테스트 샘플 본문의 크기 : {}'.format(X_test.shape))\n",
    "print('테스트 샘플 레이블의 크기 : {}'.format(y_test.shape))"
   ]
  },
  {
   "cell_type": "code",
   "execution_count": 27,
   "metadata": {},
   "outputs": [
    {
     "name": "stdout",
     "output_type": "stream",
     "text": [
      "빈도수 상위 1번 단어 : the\n",
      "빈도수 상위 9999번 단어 : mic\n"
     ]
    }
   ],
   "source": [
    "# 불용어에 해당하는 the가 빈도수 상위 1번 단어가 됨\n",
    "print('빈도수 상위 1번 단어 : {}'.format(index_to_word[1]))\n",
    "print('빈도수 상위 9999번 단어 : {}'.format(index_to_word[9999]))"
   ]
  },
  {
   "cell_type": "markdown",
   "metadata": {},
   "source": [
    "### 4. 다층 퍼셉트론(Multilayer Perceptron, MLP)을 사용하여 텍스트 분류하기"
   ]
  },
  {
   "cell_type": "code",
   "execution_count": 28,
   "metadata": {},
   "outputs": [],
   "source": [
    "from tensorflow.keras.models import Sequential\n",
    "from tensorflow.keras.layers import Dense, Dropout"
   ]
  },
  {
   "cell_type": "code",
   "execution_count": 29,
   "metadata": {},
   "outputs": [],
   "source": [
    "def fit_and_evaluate(X_train, y_train, X_test, y_test):\n",
    "    model = Sequential()\n",
    "    model.add(Dense(256, input_shape=(vocab_size,), activation='relu'))\n",
    "    model.add(Dropout(0.5)) # 과적합 방지\n",
    "    model.add(Dense(128, activation='relu'))\n",
    "    model.add(Dropout(0.5)) # 과적합 방지\n",
    "    model.add(Dense(num_classes, activation='softmax'))\n",
    "\n",
    "    model.compile(loss='categorical_crossentropy', optimizer='adam', metrics=['accuracy'])\n",
    "    model.fit(X_train, y_train, batch_size=128, epochs=5, verbose=1, validation_split=0.1)\n",
    "    score = model.evaluate(X_test, y_test, batch_size=128, verbose=0)\n",
    "    return score[1]"
   ]
  },
  {
   "attachments": {
    "multilayerperceptron.png": {
     "image/png": "[encoded data removed]"
    }
   },
   "cell_type": "markdown",
   "metadata": {},
   "source": [
    "![multilayerperceptron.png](attachment:multilayerperceptron.png)"
   ]
  },
  {
   "cell_type": "code",
   "execution_count": 30,
   "metadata": {},
   "outputs": [
    {
     "name": "stdout",
     "output_type": "stream",
     "text": [
      "Epoch 1/5\n",
      "80/80 [==============================] - 1s 7ms/step - loss: 2.2449 - accuracy: 0.3462 - val_loss: 0.9517 - val_accuracy: 0.8136\n",
      "Epoch 2/5\n",
      "80/80 [==============================] - 0s 5ms/step - loss: 0.8692 - accuracy: 0.7590 - val_loss: 0.4591 - val_accuracy: 0.8887\n",
      "Epoch 3/5\n",
      "80/80 [==============================] - 0s 5ms/step - loss: 0.4247 - accuracy: 0.8868 - val_loss: 0.3557 - val_accuracy: 0.8993\n",
      "Epoch 4/5\n",
      "80/80 [==============================] - 0s 5ms/step - loss: 0.2502 - accuracy: 0.9361 - val_loss: 0.3247 - val_accuracy: 0.9090\n",
      "Epoch 5/5\n",
      "80/80 [==============================] - 0s 6ms/step - loss: 0.1666 - accuracy: 0.9598 - val_loss: 0.3083 - val_accuracy: 0.9117\n",
      "binary 모드의 테스트 정확도: 0.8311205506324768\n",
      "Epoch 1/5\n",
      "80/80 [==============================] - 1s 7ms/step - loss: 2.8415 - accuracy: 0.2313 - val_loss: 1.7508 - val_accuracy: 0.6908\n",
      "Epoch 2/5\n",
      "80/80 [==============================] - 0s 5ms/step - loss: 1.5126 - accuracy: 0.6082 - val_loss: 0.7492 - val_accuracy: 0.8375\n",
      "Epoch 3/5\n",
      "80/80 [==============================] - 0s 5ms/step - loss: 0.8525 - accuracy: 0.7927 - val_loss: 0.5114 - val_accuracy: 0.8772\n",
      "Epoch 4/5\n",
      "80/80 [==============================] - 0s 5ms/step - loss: 0.5630 - accuracy: 0.8645 - val_loss: 0.4209 - val_accuracy: 0.8843\n",
      "Epoch 5/5\n",
      "80/80 [==============================] - 0s 5ms/step - loss: 0.4022 - accuracy: 0.9039 - val_loss: 0.3868 - val_accuracy: 0.8922\n",
      "count 모드의 테스트 정확도: 0.8230217695236206\n",
      "Epoch 1/5\n",
      "80/80 [==============================] - 1s 7ms/step - loss: 2.2248 - accuracy: 0.3672 - val_loss: 0.7593 - val_accuracy: 0.8375\n",
      "Epoch 2/5\n",
      "80/80 [==============================] - 0s 5ms/step - loss: 0.8369 - accuracy: 0.7712 - val_loss: 0.4341 - val_accuracy: 0.8922\n",
      "Epoch 3/5\n",
      "80/80 [==============================] - 0s 5ms/step - loss: 0.4300 - accuracy: 0.8868 - val_loss: 0.3444 - val_accuracy: 0.9046\n",
      "Epoch 4/5\n",
      "80/80 [==============================] - 0s 5ms/step - loss: 0.2855 - accuracy: 0.9308 - val_loss: 0.3371 - val_accuracy: 0.9090\n",
      "Epoch 5/5\n",
      "80/80 [==============================] - 0s 6ms/step - loss: 0.2283 - accuracy: 0.9485 - val_loss: 0.3352 - val_accuracy: 0.9117\n",
      "tfidf 모드의 테스트 정확도: 0.8252788186073303\n",
      "Epoch 1/5\n",
      "80/80 [==============================] - 1s 9ms/step - loss: 2.9771 - accuracy: 0.0874 - val_loss: 2.9267 - val_accuracy: 0.2906\n",
      "Epoch 2/5\n",
      "80/80 [==============================] - 0s 5ms/step - loss: 2.7341 - accuracy: 0.1986 - val_loss: 2.4256 - val_accuracy: 0.3489\n",
      "Epoch 3/5\n",
      "80/80 [==============================] - 0s 5ms/step - loss: 2.2143 - accuracy: 0.3204 - val_loss: 1.8967 - val_accuracy: 0.5936\n",
      "Epoch 4/5\n",
      "80/80 [==============================] - 0s 5ms/step - loss: 1.7624 - accuracy: 0.4607 - val_loss: 1.4899 - val_accuracy: 0.6908\n",
      "Epoch 5/5\n",
      "80/80 [==============================] - 0s 5ms/step - loss: 1.4000 - accuracy: 0.5794 - val_loss: 1.1909 - val_accuracy: 0.7412\n",
      "freq 모드의 테스트 정확도: 0.6756505370140076\n"
     ]
    }
   ],
   "source": [
    "modes = ['binary', 'count', 'tfidf', 'freq'] # 4개의 모드를 리스트에 저장.\n",
    "\n",
    "for mode in modes: # 4개의 모드에 대해서 각각 아래의 작업을 반복한다.\n",
    "    X_train, X_test, _ = prepare_data(train_email, test_email, mode) # 모드에 따라서 데이터를 전처리\n",
    "    score = fit_and_evaluate(X_train, y_train, X_test, y_test) # 모델을 훈련하고 평가.\n",
    "    print(mode+' 모드의 테스트 정확도:', score)"
   ]
  },
  {
   "cell_type": "markdown",
   "metadata": {},
   "source": [
    "## 07-12 피드 포워드 신경망 언어 모델(Neural Network Language Model, NNLM)"
   ]
  },
  {
   "cell_type": "markdown",
   "metadata": {},
   "source": [
    "### 1. 기존 N-gram 언어 모델의 한계\n",
    "- n-gram 언어 모델은 언어 모델링에 바로 앞 n-1개의 단어를 참고\n",
    "- n-gram 언어 모델은 충분한 데이터를 관측하지 못하면 언어를 정확히 모델링하지 못하는 희소 문제(sparsity problem)가 있음"
   ]
  },
  {
   "cell_type": "markdown",
   "metadata": {},
   "source": [
    "### 2. 단어의 의미적 유사성\n",
    "- 희소 문제는 기계가 단어의 의미적 유사성을 알수 있다면 해결 가능\n",
    "- 언어 모델 또한 단어의 의미적 유사성을 학습할 수 있도록 설계한다면 훈련 코퍼스에 없는 단어 시퀀스에 대한 예측이라도 유사한 단어가 사용된 단어 시퀀스를 참고하여 보다 정확한 예측 가능\n",
    "- 이러한 아이디어를 반영한 언어 모델이 신경망 언어 모델 NNLM\n",
    "- 단어 벡터 간 유사도를 구할 수 있는 벡터를 얻어내는 워드 임베딩(word embedding) 의 아이디어"
   ]
  },
  {
   "attachments": {
    "nnlm1.png": {
     "image/png": "[encoded data removed]"
    }
   },
   "cell_type": "markdown",
   "metadata": {},
   "source": [
    "### 3. 피드 포워드 신경망 언어 모델(NNLM)\n",
    "> 예문 : \"what will the fat cat sit on\"\n",
    "\n",
    "#### (1) 기계가 단어를 인식할 수 있도록 모든 단어를 수치화\n",
    "```\n",
    "what = [1, 0, 0, 0, 0, 0, 0]\n",
    "will = [0, 1, 0, 0, 0, 0, 0]\n",
    "the = [0, 0, 1, 0, 0, 0, 0]\n",
    "fat = [0, 0, 0, 1, 0, 0, 0]\n",
    "cat = [0, 0, 0, 0, 1, 0, 0]\n",
    "sit = [0, 0, 0, 0, 0, 1, 0]\n",
    "on = [0, 0, 0, 0, 0, 0, 1]\n",
    "```\n",
    "- NNLM은 n-gram 언어 모델처럼 다음 단어를 예측할 때, 앞의 모든 단어를 참고\n",
    "- NNLM의 구조\n",
    "    ![nnlm1.png](attachment:nnlm1.png)\n",
    "    - 입력층(input layer)을 보면 앞에서 윈도우의 크기는 4로 정하였으므로 입력은 4개의 단어 'will, the, fat, cat'의 원-핫 벡터\n",
    "- 4개의 원-핫 벡터를 입력 받은 NNLM은 다음층인 투사층(projection layer)을 지남\n",
    "    - 투사층이라고 명명한 이 층은 일반 은닉층과 다르게 가중치 행렬과의 곱셈은 이루어지지만 활성화 함수 존재X\n",
    "    - 투사층의 크기를 M으로 설정하면, 각 입력 단어들은 투사층에서 V × M 크기의 가중치 행렬과 곱해집니다. 여기서 V는 단어 집합의 크기를 의미\n",
    "- 원-핫 벡터와 가중치 곱 도식화\n",
    "    ![img](https://wikidocs.net/images/page/45609/nnlm2_renew.PNG)\n",
    "    - 각 원-핫 벡터 $x$로 표기\n",
    "    - 원-핫 벡터와 가중치 W 행렬의 곱은 사실 W행렬의 i번째 행을 그대로 읽어오는 것과(lookup) 동일 = 룩업 테이블(lookup table)\n",
    "- 룩업 테이블 후에는 V차원을 가지는 원-핫 벡터는 이보다 더 차원이 작은 M차원의 벡터로 맵핑\n",
    "- 벡터들은 초기에는 랜덤한 값을 가지지만 학습 과정에서 값이 계속 변경되는데 이 단어 벡터를 임베딩 벡터(embedding vector)\n",
    "- 각 단어가 테이블 룩업을 통해 임베딩 벡터로 변경되고, 투사층에서 모든 임베딩 벡터들의 값은 연결\n",
    "    ![img](https://wikidocs.net/images/page/45609/nnlm3_renew.PNG)\n",
    "    - 투사층의 식 표현\n",
    "    $$p^{layer} = (lookup(x_{t-n}); ...; lookup(x_{t-2}); lookup(x_{t-1})) = (e_{t-n}; ...; e_{t-2}; e_{t-1})$$\n",
    "- 투사층은 활성화 함수가 존재하지 않는 선형층(linear layer)\n",
    "    ![img](https://wikidocs.net/images/page/45609/nnlm4.PNG)\n",
    "    - 투사층의 결과는 h의 크기를 가지는 은닉층을 지남\n",
    "    - 은닉층의 식 표현\n",
    "    $$h^{layer} = tanh(W_{h}p^{layer} + b_{h})$$\n",
    "\n",
    "- 은닉층의 출력은 V의 크기를 가지는 출력층으로 향함\n",
    "![img](https://wikidocs.net/images/page/45609/nnlm5_final.PNG)\n",
    "    - V차원의 벡터는 소프트맥스 함수를 지나면서 벡터의 각 원소는 0과 1사이의 실수값을 가지며 총 합은 1이 되는 상태로 바뀜\n",
    "    - 출력층의 식 표현\n",
    "    $$\\hat{y} = softmax(W_{y}h^{layer} + b_{y})$$\n",
    "    - $\\hat{y}$는 실제값. 즉, 실제 정답에 해당되는 단어인 원-핫 벡터의 값에 가까워져야 함\n",
    "\n",
    "\n",
    "#### NNLM의 핵심\n",
    "- 충분한 양의 훈련 코퍼스를 위와 같은 과정으로 학습한다면 결과적으로 수많은 문장에서 유사한 목적으로 사용되는 단어들은 결국 유사한 임베딩 벡터값을 얻게되는 것"
   ]
  },
  {
   "cell_type": "markdown",
   "metadata": {},
   "source": [
    "### 4. NNLM의 이점과 한계\n",
    "\n",
    "#### (1) 기존 모델에서의 개선점\n",
    "- 단어의 유사도 계산 -> 희소문제 해결\n",
    "\n",
    "#### (2) 고정된 길이의 입력\n",
    "-  NNLM은 n-gram 언어 모델과 마찬가지로 다음 단어를 예측하기 위해 모든 이전 단어를 참고하는 것이 아니라 정해진 n개의 단어만을 참고할 수 있음\n"
   ]
  },
  {
   "cell_type": "markdown",
   "metadata": {},
   "source": [
    "### "
   ]
  }
 ],
 "metadata": {
  "kernelspec": {
   "display_name": "Python 3",
   "language": "python",
   "name": "python3"
  },
  "language_info": {
   "codemirror_mode": {
    "name": "ipython",
    "version": 3
   },
   "file_extension": ".py",
   "mimetype": "text/x-python",
   "name": "python",
   "nbconvert_exporter": "python",
   "pygments_lexer": "ipython3",
   "version": "3.8.5"
  }
 },
 "nbformat": 4,
 "nbformat_minor": 4
}
